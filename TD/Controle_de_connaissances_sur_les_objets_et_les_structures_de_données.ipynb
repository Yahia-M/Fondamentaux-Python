{
  "cells": [
    {
      "cell_type": "markdown",
      "metadata": {
        "id": "view-in-github",
        "colab_type": "text"
      },
      "source": [
        "<a href=\"https://colab.research.google.com/github/Yahia-M/Fondamentaux-Python/blob/DS_01/TD/Controle_de_connaissances_sur_les_objets_et_les_structures_de_donn%C3%A9es.ipynb\" target=\"_parent\"><img src=\"https://colab.research.google.com/assets/colab-badge.svg\" alt=\"Open In Colab\"/></a>"
      ]
    },
    {
      "cell_type": "markdown",
      "metadata": {
        "id": "CfnrlFuS-xo1"
      },
      "source": [
        "# Test de validation des connaissances acquises sur les objets et structures de données"
      ]
    },
    {
      "cell_type": "markdown",
      "metadata": {
        "collapsed": true,
        "id": "FI7A0nZf-xo5"
      },
      "source": [
        "## Contrôlez vos connaissances\n",
        "\n",
        "** Répondez aux questions suivantes **"
      ]
    },
    {
      "cell_type": "markdown",
      "metadata": {
        "collapsed": true,
        "id": "MVI4QxK--xo7"
      },
      "source": [
        "Rédigez une courte description des objets suivants que nous avons étudiés :"
      ]
    },
    {
      "cell_type": "markdown",
      "metadata": {
        "id": "UfQDSk2Z-xo-"
      },
      "source": [
        "Nombres :\n",
        "\n",
        "Chaines de caractères :\n",
        "\n",
        "Listes :\n",
        "\n",
        "Tuples :\n",
        "\n",
        "Dictionnaires :\n"
      ]
    },
    {
      "cell_type": "markdown",
      "metadata": {
        "id": "Rbykfcqg-xo_"
      },
      "source": [
        "## Les nombres\n",
        "\n",
        "Rédigez une équation qui utilise multiplication, division, exposant, addition, et soustraction dont le résultat sera 100.25.\n",
        "\n",
        "Conseil: Le but est de tester votre mémoire sur les commandes arithmétiques de base, travaillez en remontant à partir de 100.25"
      ]
    },
    {
      "cell_type": "code",
      "execution_count": null,
      "metadata": {
        "collapsed": true,
        "id": "yMs_Yxq5-xpB"
      },
      "outputs": [],
      "source": []
    },
    {
      "cell_type": "markdown",
      "metadata": {
        "id": "EBkM11PY-xpD"
      },
      "source": [
        "Répondez à ces 3 questions sans taper de code. Ensuite tapez le code pour vérifier votre réponse.\n",
        "\n",
        "    Quelle est le résultat de l'expression 4 * (6 + 5)\n",
        "    \n",
        "    Quelle est le résultat de l'expression 4 * 6 + 5 \n",
        "    \n",
        "    Quelle est le résultat de l'expression 4 + 6 * 5 "
      ]
    },
    {
      "cell_type": "code",
      "execution_count": null,
      "metadata": {
        "collapsed": true,
        "id": "oBlF1IgX-xpE"
      },
      "outputs": [],
      "source": []
    },
    {
      "cell_type": "markdown",
      "metadata": {
        "id": "FZ9WPMhm-xpG"
      },
      "source": [
        "Quel est le *type* du résultat de l'expression 3 + 1.5 + 4 ?"
      ]
    },
    {
      "cell_type": "code",
      "source": [
        "#solution"
      ],
      "metadata": {
        "id": "G7f0boDK_mKZ"
      },
      "execution_count": null,
      "outputs": []
    },
    {
      "cell_type": "markdown",
      "metadata": {
        "id": "8fBT_Cj3-xpJ"
      },
      "source": [
        "Qu'est-ce que vous utiliseriez pour calculer une racine carrée, ou un carré ?"
      ]
    },
    {
      "cell_type": "code",
      "execution_count": null,
      "metadata": {
        "collapsed": true,
        "id": "4TRSIPKv-xpK"
      },
      "outputs": [],
      "source": []
    },
    {
      "cell_type": "markdown",
      "metadata": {
        "id": "avYu5RYL-xpL"
      },
      "source": [
        "## Les chaines de caractères"
      ]
    },
    {
      "cell_type": "markdown",
      "metadata": {
        "id": "pED78C8t-xpM"
      },
      "source": [
        "Soit une chaine de caractère 'Bonjour', donnez une commande indexée qui donnera le résultat 'o'.\n",
        "Utilisez le code ci dessous :"
      ]
    },
    {
      "cell_type": "code",
      "execution_count": null,
      "metadata": {
        "collapsed": true,
        "id": "7exq0e7V-xpO"
      },
      "outputs": [],
      "source": [
        "s = 'Bonjour'\n",
        "# Afficher 'o' en utilisant un index\n",
        "\n",
        "# Le code"
      ]
    },
    {
      "cell_type": "markdown",
      "metadata": {
        "id": "W0xrGR0b-xpQ"
      },
      "source": [
        "Inverser la chaine 'bonjour' avec l'indexage :"
      ]
    },
    {
      "cell_type": "code",
      "execution_count": null,
      "metadata": {
        "collapsed": true,
        "id": "ETcYeLtm-xpR"
      },
      "outputs": [],
      "source": [
        "s ='bonjour'\n",
        "\n",
        "# Inverser la chaine 'bonjour' avec l'indexage\n",
        "\n",
        "# le code"
      ]
    },
    {
      "cell_type": "markdown",
      "metadata": {
        "id": "lCD5SDnI-xpS"
      },
      "source": [
        "Soit une chaine de caractère 'Bonjour', donner 2 moyens d'afficher 'r' en utilisant l'index"
      ]
    },
    {
      "cell_type": "code",
      "execution_count": null,
      "metadata": {
        "collapsed": true,
        "id": "iGii15_O-xpT"
      },
      "outputs": [],
      "source": [
        "s ='Bonjour'\n",
        "# Afficher le code ici\n"
      ]
    },
    {
      "cell_type": "markdown",
      "metadata": {
        "id": "hQ2ZQ1dX-xpU"
      },
      "source": [
        "## Les listes"
      ]
    },
    {
      "cell_type": "markdown",
      "metadata": {
        "id": "Hw4SRtLd-xpV"
      },
      "source": [
        "Construire la liste [0,0,0] de deux façons différentes :"
      ]
    },
    {
      "cell_type": "code",
      "execution_count": null,
      "metadata": {
        "collapsed": true,
        "id": "YPsBkhMS-xpW"
      },
      "outputs": [],
      "source": []
    },
    {
      "cell_type": "markdown",
      "metadata": {
        "id": "6fVwoWV0-xpX"
      },
      "source": [
        "Ré-assigne le 'bonjour' dans cette liste imbriquée pour dire 'salut':"
      ]
    },
    {
      "cell_type": "code",
      "execution_count": null,
      "metadata": {
        "collapsed": true,
        "id": "H6ZcEKw2-xpX"
      },
      "outputs": [],
      "source": [
        "l = [1,2,[3,4,'bonjour']]"
      ]
    },
    {
      "cell_type": "markdown",
      "metadata": {
        "id": "tJJlqPL6-xpY"
      },
      "source": [
        "Trier la liste ci-dessous :"
      ]
    },
    {
      "cell_type": "code",
      "execution_count": null,
      "metadata": {
        "collapsed": true,
        "id": "u7sCw0is-xpY"
      },
      "outputs": [],
      "source": [
        "l = [3,4,5,5,6]"
      ]
    },
    {
      "cell_type": "markdown",
      "metadata": {
        "id": "nwqnpFRi-xpZ"
      },
      "source": [
        "## Les dictionnaires"
      ]
    },
    {
      "cell_type": "markdown",
      "metadata": {
        "id": "3kdlOSCo-xpZ"
      },
      "source": [
        "Au moyen de clefs et d'index, extraire 'bonjour' du dictionnaire ci dessous :"
      ]
    },
    {
      "cell_type": "code",
      "execution_count": null,
      "metadata": {
        "collapsed": true,
        "id": "DZ9LaVeY-xpa"
      },
      "outputs": [],
      "source": [
        "d = {'clef_simple':'bonjour'}\n",
        "# Extraire 'bonjour'\n"
      ]
    },
    {
      "cell_type": "code",
      "execution_count": null,
      "metadata": {
        "collapsed": true,
        "id": "N59R-bp2-xpb"
      },
      "outputs": [],
      "source": [
        "d = {'k1':{'k2':'bonjour'}}\n",
        "# Extraire 'bonjour'\n"
      ]
    },
    {
      "cell_type": "code",
      "execution_count": null,
      "metadata": {
        "collapsed": true,
        "id": "J7SmP0WF-xpc"
      },
      "outputs": [],
      "source": [
        "# Un peu plus difficile\n",
        "d = {'clef1':[{'clef_imbriquée':['profond',['bonjour']]}]}\n",
        "# Extraire 'bonjour'"
      ]
    },
    {
      "cell_type": "code",
      "execution_count": null,
      "metadata": {
        "collapsed": true,
        "id": "DGgSxBVz-xpc"
      },
      "outputs": [],
      "source": [
        "# Celui-ci est compliqué et ennuyeux\n",
        "d = {'clef1':[1,2,{'clef2':['difficile',{'profond':[1,2,['bonjour']]}]}]}"
      ]
    },
    {
      "cell_type": "markdown",
      "metadata": {
        "id": "3dRhI3dD-xpd"
      },
      "source": [
        "Peut-on trier un dictionnaire ? Pourquoi ?"
      ]
    },
    {
      "cell_type": "code",
      "source": [
        "#solution"
      ],
      "metadata": {
        "id": "c8XP9Gu3_jBJ"
      },
      "execution_count": null,
      "outputs": []
    },
    {
      "cell_type": "markdown",
      "metadata": {
        "id": "uHVkxtVr-xpf"
      },
      "source": [
        "## Tuples"
      ]
    },
    {
      "cell_type": "markdown",
      "metadata": {
        "id": "UZC6uG4k-xpf"
      },
      "source": [
        "Quelle est la principale différence entre les tuples et les listes ?"
      ]
    },
    {
      "cell_type": "code",
      "source": [
        "#solution"
      ],
      "metadata": {
        "id": "6OCab3gg_det"
      },
      "execution_count": null,
      "outputs": []
    },
    {
      "cell_type": "markdown",
      "metadata": {
        "id": "zNt7Xbqx-xpg"
      },
      "source": [
        "Comment créer un tuple ?"
      ]
    },
    {
      "cell_type": "code",
      "source": [
        "#solution"
      ],
      "metadata": {
        "id": "-X9tlVGA_aSP"
      },
      "execution_count": null,
      "outputs": []
    },
    {
      "cell_type": "markdown",
      "metadata": {
        "id": "-B4P2c-a-xph"
      },
      "source": [
        "## Sets "
      ]
    },
    {
      "cell_type": "markdown",
      "metadata": {
        "id": "SdmpnYk6-xpi"
      },
      "source": [
        "Qu'est-ce qui est unique dans un set ?"
      ]
    },
    {
      "cell_type": "code",
      "source": [],
      "metadata": {
        "id": "ON_p54tMBKkQ"
      },
      "execution_count": null,
      "outputs": []
    },
    {
      "cell_type": "markdown",
      "metadata": {
        "id": "W0Vayd08-xpj"
      },
      "source": [
        "Utilisez un set pour trouver les valeurs distinctes de cette liste :"
      ]
    },
    {
      "cell_type": "code",
      "execution_count": null,
      "metadata": {
        "collapsed": true,
        "id": "Z7V-7RMu-xpj"
      },
      "outputs": [],
      "source": [
        "l = [1,2,2,33,4,4,11,22,3,3,2]"
      ]
    },
    {
      "cell_type": "markdown",
      "metadata": {
        "id": "P7vH4WXV-xpk"
      },
      "source": [
        "## Booléens"
      ]
    },
    {
      "cell_type": "markdown",
      "metadata": {
        "id": "3g3vwIVo-xpk"
      },
      "source": [
        "Pour les questions suivantes, vous aurez besoin de donner un coup d'oeil aux opérateurs de comparaison suivants :\n",
        "\n",
        "<table class=\"table table-bordered\">\n",
        "<tr>\n",
        "<th style=\"width:10%\">Opérateur</th><th style=\"width:45%\">Description</th><th>Exemple</th>\n",
        "</tr>\n",
        "<tr>\n",
        "<td>==</td>\n",
        "<td>Si les valeurs des deux opérandes sont égales, alors la condition est vraie.</td>\n",
        "<td> (a == b) n'est pas vrai.</td>\n",
        "</tr>\n",
        "<tr>\n",
        "<td>!=</td>\n",
        "<td>Si les valeurs des deux opérandes ne sont pas égales, alors la condition est vraie.</td>\n",
        "<td> (a != b) est vrai.</td></tr>\n",
        "<tr>\n",
        "<td>&gt;</td>\n",
        "<td>Si la valeur de l'opérande de gauche est supérieure à la valeur de l'opérateur de droite, alors la condition est vraie.</td>\n",
        "<td> (a &gt; b) n'est pas vrai.</td>\n",
        "</tr>\n",
        "<tr>\n",
        "<td>&lt;</td>\n",
        "<td>Si la valeur de l'opérande de gauche est inférieure à la valeur de l'opérateur de droite, alors la condition est vraie.</td>\n",
        "<td> (a &lt; b) est vrai.</td>\n",
        "</tr>\n",
        "<tr>\n",
        "<td>&gt;=</td>\n",
        "<td>Si la valeur de l'opérande de gauche est supérieure ou égale à la valeur de l'opérateur de droite, alors la condition est vraie.</td>\n",
        "<td> (a &gt;= b) n'est pas vrai. </td>\n",
        "</tr>\n",
        "<tr>\n",
        "<td>&lt;=</td>\n",
        "<td>Si la valeur de l'opérande de gauche est inférieure ou égale à la valeur de l'opérateur de droite, alors la condition est vraie.</td>\n",
        "<td> (a &lt;= b) est vrai. </td>\n",
        "</tr>\n",
        "</table>"
      ]
    },
    {
      "cell_type": "markdown",
      "metadata": {
        "id": "XJhPXuVD-xpl"
      },
      "source": [
        "Que sera le résutat booléen des morceaux de code suivants (répondez d'abord puis vérifiez en exécutant le code correspondant !)"
      ]
    },
    {
      "cell_type": "code",
      "execution_count": null,
      "metadata": {
        "id": "cqYHhMIM-xpl"
      },
      "outputs": [],
      "source": [
        "#@title Répondez avant d'exécuter la cellule: 2 > 3"
      ]
    },
    {
      "cell_type": "code",
      "source": [],
      "metadata": {
        "id": "_Ze3y7TNBFai"
      },
      "execution_count": null,
      "outputs": []
    },
    {
      "cell_type": "code",
      "execution_count": 1,
      "metadata": {
        "collapsed": true,
        "id": "vs1JrRaI-xpm"
      },
      "outputs": [],
      "source": [
        "#@title Répondez avant d'exécuter la cellule: 3 <= 2\n"
      ]
    },
    {
      "cell_type": "code",
      "source": [],
      "metadata": {
        "id": "T00QS_uuBDGr"
      },
      "execution_count": null,
      "outputs": []
    },
    {
      "cell_type": "code",
      "execution_count": null,
      "metadata": {
        "id": "ZBqHavM2-xpn"
      },
      "outputs": [],
      "source": [
        "#@title Répondez avant d'exécuter la cellule: 3 == 2.0"
      ]
    },
    {
      "cell_type": "code",
      "source": [],
      "metadata": {
        "id": "8yFdOdGmA-FB"
      },
      "execution_count": null,
      "outputs": []
    },
    {
      "cell_type": "code",
      "execution_count": null,
      "metadata": {
        "id": "7QezUlQz-xpn"
      },
      "outputs": [],
      "source": [
        "#@title Répondez avant d'exécuter la cellule: 3.0 == 3"
      ]
    },
    {
      "cell_type": "code",
      "source": [],
      "metadata": {
        "id": "f6z5aU1yA8Ah"
      },
      "execution_count": null,
      "outputs": []
    },
    {
      "cell_type": "code",
      "execution_count": null,
      "metadata": {
        "id": "UuFyIa1O-xpo"
      },
      "outputs": [],
      "source": [
        "#@title Répondez avant d'exécuter la cellule: 4**0.5 != 2"
      ]
    },
    {
      "cell_type": "markdown",
      "metadata": {
        "id": "pRAolekI-xpo"
      },
      "source": [
        "Dernière question : quel est le résultat du bloc suivant ?"
      ]
    },
    {
      "cell_type": "code",
      "execution_count": null,
      "metadata": {
        "id": "c6uY_4CA-xpp"
      },
      "outputs": [],
      "source": [
        "# Deux liste imbriquées\n",
        "l_un = [1,2,[3,4]]\n",
        "l_deux = [1,2,{'clef1':4}]\n",
        "\n",
        "# Vrai ou faux ? True ou False?\n",
        "l_un[2][0] >= l_deux[2]['clef1']"
      ]
    }
  ],
  "metadata": {
    "anaconda-cloud": {},
    "kernelspec": {
      "display_name": "Python [default]",
      "language": "python",
      "name": "python3"
    },
    "language_info": {
      "codemirror_mode": {
        "name": "ipython",
        "version": 3
      },
      "file_extension": ".py",
      "mimetype": "text/x-python",
      "name": "python",
      "nbconvert_exporter": "python",
      "pygments_lexer": "ipython3",
      "version": "3.5.2"
    },
    "colab": {
      "provenance": [],
      "include_colab_link": true
    }
  },
  "nbformat": 4,
  "nbformat_minor": 0
}