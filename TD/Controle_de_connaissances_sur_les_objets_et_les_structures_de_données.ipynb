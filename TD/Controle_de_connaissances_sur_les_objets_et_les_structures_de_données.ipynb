{
  "cells": [
    {
      "cell_type": "markdown",
      "metadata": {
        "id": "view-in-github",
        "colab_type": "text"
      },
      "source": [
        "<a href=\"https://colab.research.google.com/github/Yahia-M/Fondamentaux-Python/blob/DS_01/TD/Controle_de_connaissances_sur_les_objets_et_les_structures_de_donn%C3%A9es.ipynb\" target=\"_parent\"><img src=\"https://colab.research.google.com/assets/colab-badge.svg\" alt=\"Open In Colab\"/></a>"
      ]
    },
    {
      "cell_type": "markdown",
      "metadata": {
        "id": "1k7X6sTPpl4_"
      },
      "source": [
        "# Test de validation des connaissances acquises sur les objets et structures de données"
      ]
    },
    {
      "cell_type": "markdown",
      "metadata": {
        "collapsed": true,
        "id": "9IJC3J2-pl5B"
      },
      "source": [
        "## Contrôlez vos connaissances\n",
        "\n",
        "** Répondez aux questions suivantes **"
      ]
    },
    {
      "cell_type": "markdown",
      "metadata": {
        "collapsed": true,
        "id": "YNYHellJpl5C"
      },
      "source": [
        "Rédigez une courte description des objets suivants que nous avons étudiés :"
      ]
    },
    {
      "cell_type": "markdown",
      "metadata": {
        "id": "n2Me_mivpl5D"
      },
      "source": [
        "Nombres :\n",
        "\n",
        "Chaines de caractères :\n",
        "\n",
        "Listes :\n",
        "\n",
        "Tuples :\n",
        "\n",
        "Dictionnaires :\n"
      ]
    },
    {
      "cell_type": "markdown",
      "metadata": {
        "id": "hbhA4532pl5E"
      },
      "source": [
        "## Les nombres\n",
        "\n",
        "Rédigez une équation qui utilise multiplication, division, exposant, addition, et soustraction dont le résultat sera 100.25.\n",
        "\n",
        "Conseil: Le but est de tester votre mémoire sur les commandes arithmétiques de base, travaillez en remontant à partir de 100.25"
      ]
    },
    {
      "cell_type": "code",
      "execution_count": null,
      "metadata": {
        "collapsed": true,
        "id": "oSeLxnFipl5E"
      },
      "outputs": [],
      "source": []
    },
    {
      "cell_type": "markdown",
      "metadata": {
        "id": "B3gJrQs8pl5F"
      },
      "source": [
        "Répondez à ces 3 questions sans taper de code. Ensuite tapez le code pour vérifier votre réponse.\n",
        "\n",
        "    Quelle est le résultat de l'expression 4 * (6 + 5)\n",
        "    \n",
        "    Quelle est le résultat de l'expression 4 * 6 + 5 \n",
        "    \n",
        "    Quelle est le résultat de l'expression 4 + 6 * 5 "
      ]
    },
    {
      "cell_type": "code",
      "execution_count": null,
      "metadata": {
        "collapsed": true,
        "id": "1ClWtDeWpl5G"
      },
      "outputs": [],
      "source": []
    },
    {
      "cell_type": "markdown",
      "metadata": {
        "id": "vX-ctpEdpl5G"
      },
      "source": [
        "Quel est le *type* du résultat de l'expression 3 + 1.5 + 4 ?"
      ]
    },
    {
      "cell_type": "markdown",
      "metadata": {
        "id": "jNV-8zIJpl5I"
      },
      "source": []
    },
    {
      "cell_type": "markdown",
      "metadata": {
        "id": "ym0RrBVYpl5J"
      },
      "source": [
        "Qu'est-ce que vous utiliseriez pour calculer une racine carrée, ou un carré ?"
      ]
    },
    {
      "cell_type": "code",
      "execution_count": null,
      "metadata": {
        "collapsed": true,
        "id": "_isVFbpHpl5K"
      },
      "outputs": [],
      "source": []
    },
    {
      "cell_type": "markdown",
      "metadata": {
        "id": "dM8j-a2Hpl5K"
      },
      "source": [
        "## Les chaines de caractères"
      ]
    },
    {
      "cell_type": "markdown",
      "metadata": {
        "id": "wN3lOWrtpl5L"
      },
      "source": [
        "Soit une chaine de caractère 'Bonjour', donnez une commande indexée qui donnera le résultat 'o'.\n",
        "Utilisez le code ci dessous :"
      ]
    },
    {
      "cell_type": "code",
      "execution_count": null,
      "metadata": {
        "collapsed": true,
        "id": "NqaRXQvzpl5L"
      },
      "outputs": [],
      "source": [
        "s = 'Bonjour'\n",
        "# Afficher 'o' en utilisant un index\n",
        "\n",
        "# Le code"
      ]
    },
    {
      "cell_type": "markdown",
      "metadata": {
        "id": "fLCf1JAipl5L"
      },
      "source": [
        "Inverser la chaine 'bonjour' avec l'indexage :"
      ]
    },
    {
      "cell_type": "code",
      "execution_count": null,
      "metadata": {
        "collapsed": true,
        "id": "cYOHFKQapl5M"
      },
      "outputs": [],
      "source": [
        "s ='bonjour'\n",
        "\n",
        "# Inverser la chaine 'bonjour' avec l'indexage\n",
        "\n",
        "# le code"
      ]
    },
    {
      "cell_type": "markdown",
      "metadata": {
        "id": "JMDpXMbFpl5M"
      },
      "source": [
        "Soit une chaine de caractère 'Bonjour', donner 2 moyens d'afficher 'r' en utilisant l'index"
      ]
    },
    {
      "cell_type": "code",
      "execution_count": null,
      "metadata": {
        "collapsed": true,
        "id": "zEy6U1OLpl5M"
      },
      "outputs": [],
      "source": [
        "s ='Bonjour'\n",
        "# Afficher le code ici\n"
      ]
    },
    {
      "cell_type": "markdown",
      "metadata": {
        "id": "U68LctCYpl5N"
      },
      "source": [
        "## Les listes"
      ]
    },
    {
      "cell_type": "markdown",
      "metadata": {
        "id": "_F5M_shypl5N"
      },
      "source": [
        "Construire la liste [0,0,0] de deux façons différentes :"
      ]
    },
    {
      "cell_type": "code",
      "execution_count": null,
      "metadata": {
        "collapsed": true,
        "id": "mkiXldZbpl5N"
      },
      "outputs": [],
      "source": []
    },
    {
      "cell_type": "markdown",
      "metadata": {
        "id": "dFf2I2krpl5N"
      },
      "source": [
        "Ré-assigne le 'bonjour' dans cette liste imbriquée pour dire 'salut':"
      ]
    },
    {
      "cell_type": "code",
      "execution_count": null,
      "metadata": {
        "collapsed": true,
        "id": "xggxxXHjpl5N"
      },
      "outputs": [],
      "source": [
        "l = [1,2,[3,4,'bonjour']]"
      ]
    },
    {
      "cell_type": "markdown",
      "metadata": {
        "id": "6e9fTAeYpl5O"
      },
      "source": [
        "Trier la liste ci-dessous :"
      ]
    },
    {
      "cell_type": "code",
      "execution_count": null,
      "metadata": {
        "collapsed": true,
        "id": "CuG0iUf7pl5O"
      },
      "outputs": [],
      "source": [
        "l = [3,4,5,5,6]"
      ]
    },
    {
      "cell_type": "markdown",
      "metadata": {
        "id": "8oepzUnXpl5O"
      },
      "source": [
        "## Les dictionnaires"
      ]
    },
    {
      "cell_type": "markdown",
      "metadata": {
        "id": "ASXGqB53pl5O"
      },
      "source": [
        "Au moyen de clefs et d'index, extraire 'bonjour' du dictionnaire ci dessous :"
      ]
    },
    {
      "cell_type": "code",
      "execution_count": null,
      "metadata": {
        "collapsed": true,
        "id": "l_DMAS5Wpl5O"
      },
      "outputs": [],
      "source": [
        "d = {'clef_simple':'bonjour'}\n",
        "# Extraire 'bonjour'\n"
      ]
    },
    {
      "cell_type": "code",
      "execution_count": null,
      "metadata": {
        "collapsed": true,
        "id": "CXdm5L0kpl5P"
      },
      "outputs": [],
      "source": [
        "d = {'k1':{'k2':'bonjour'}}\n",
        "# Extraire 'bonjour'\n"
      ]
    },
    {
      "cell_type": "code",
      "execution_count": null,
      "metadata": {
        "collapsed": true,
        "id": "or8Wr7n_pl5P"
      },
      "outputs": [],
      "source": [
        "# Un peu plus difficile\n",
        "d = {'clef1':[{'clef_imbriquée':['profond',['bonjour']]}]}\n",
        "# Extraire 'bonjour'"
      ]
    },
    {
      "cell_type": "code",
      "execution_count": null,
      "metadata": {
        "collapsed": true,
        "id": "EQsJmojHpl5P"
      },
      "outputs": [],
      "source": [
        "# Celui-ci est compliqué et ennuyeux\n",
        "d = {'clef1':[1,2,{'clef2':['difficile',{'profond':[1,2,['bonjour']]}]}]}"
      ]
    },
    {
      "cell_type": "markdown",
      "metadata": {
        "id": "NuGkz0Ykpl5P"
      },
      "source": [
        "Peut-on trier un dictionnaire ? Pourquoi ?"
      ]
    },
    {
      "cell_type": "markdown",
      "metadata": {
        "id": "UvSBGESMpl5P"
      },
      "source": []
    },
    {
      "cell_type": "markdown",
      "metadata": {
        "id": "dIopMWAHpl5Q"
      },
      "source": [
        "## Tuples"
      ]
    },
    {
      "cell_type": "markdown",
      "metadata": {
        "id": "LeK5Ymjkpl5Q"
      },
      "source": [
        "Quelle est la principale différence entre les tuples et les listes ?"
      ]
    },
    {
      "cell_type": "markdown",
      "metadata": {
        "id": "HYw4TfdHpl5Q"
      },
      "source": []
    },
    {
      "cell_type": "markdown",
      "metadata": {
        "id": "cPUdWrejpl5Q"
      },
      "source": [
        "Comment créer un tuple ?"
      ]
    },
    {
      "cell_type": "markdown",
      "metadata": {
        "id": "CS-2ieUqpl5Q"
      },
      "source": []
    },
    {
      "cell_type": "markdown",
      "metadata": {
        "id": "mSpkg4CGpl5R"
      },
      "source": [
        "## Sets "
      ]
    },
    {
      "cell_type": "markdown",
      "metadata": {
        "id": "yPnpipyrpl5R"
      },
      "source": [
        "Qu'est-ce qui est unique dans un set ?"
      ]
    },
    {
      "cell_type": "markdown",
      "metadata": {
        "id": "YWjhxCehpl5R"
      },
      "source": []
    },
    {
      "cell_type": "markdown",
      "metadata": {
        "id": "AMLcnkaBpl5S"
      },
      "source": [
        "Utilisez un set pour trouver les valeurs distinctes de cette liste :"
      ]
    },
    {
      "cell_type": "code",
      "execution_count": null,
      "metadata": {
        "collapsed": true,
        "id": "ZVqYlIoRpl5S"
      },
      "outputs": [],
      "source": [
        "l = [1,2,2,33,4,4,11,22,3,3,2]"
      ]
    },
    {
      "cell_type": "markdown",
      "metadata": {
        "id": "iVmmysImpl5S"
      },
      "source": [
        "## Booléens"
      ]
    },
    {
      "cell_type": "markdown",
      "metadata": {
        "id": "zo1U61qnpl5S"
      },
      "source": [
        "Pour les questions suivantes, vous aurez besoin de donner un coup d'oeil aux opérateurs de comparaison suivants :\n",
        "\n",
        "<table class=\"table table-bordered\">\n",
        "<tr>\n",
        "<th style=\"width:10%\">Opérateur</th><th style=\"width:45%\">Description</th><th>Exemple</th>\n",
        "</tr>\n",
        "<tr>\n",
        "<td>==</td>\n",
        "<td>Si les valeurs des deux opérandes sont égales, alors la condition est vraie.</td>\n",
        "<td> (a == b) n'est pas vrai.</td>\n",
        "</tr>\n",
        "<tr>\n",
        "<td>!=</td>\n",
        "<td>Si les valeurs des deux opérandes ne sont pas égales, alors la condition est vraie.</td>\n",
        "<td> (a != b) est vrai.</td></tr>\n",
        "<tr>\n",
        "<td>&gt;</td>\n",
        "<td>Si la valeur de l'opérande de gauche est supérieure à la valeur de l'opérateur de droite, alors la condition est vraie.</td>\n",
        "<td> (a &gt; b) n'est pas vrai.</td>\n",
        "</tr>\n",
        "<tr>\n",
        "<td>&lt;</td>\n",
        "<td>Si la valeur de l'opérande de gauche est inférieure à la valeur de l'opérateur de droite, alors la condition est vraie.</td>\n",
        "<td> (a &lt; b) est vrai.</td>\n",
        "</tr>\n",
        "<tr>\n",
        "<td>&gt;=</td>\n",
        "<td>Si la valeur de l'opérande de gauche est supérieure ou égale à la valeur de l'opérateur de droite, alors la condition est vraie.</td>\n",
        "<td> (a &gt;= b) n'est pas vrai. </td>\n",
        "</tr>\n",
        "<tr>\n",
        "<td>&lt;=</td>\n",
        "<td>Si la valeur de l'opérande de gauche est inférieure ou égale à la valeur de l'opérateur de droite, alors la condition est vraie.</td>\n",
        "<td> (a &lt;= b) est vrai. </td>\n",
        "</tr>\n",
        "</table>"
      ]
    },
    {
      "cell_type": "markdown",
      "metadata": {
        "id": "iSC107f7pl5T"
      },
      "source": [
        "Que sera le résutat booléen des morceaux de code suivants (répondez d'abord puis vérifiez en exécutant le code correspondant !)"
      ]
    },
    {
      "cell_type": "code",
      "execution_count": null,
      "metadata": {
        "id": "YgqUyHrqpl5T"
      },
      "outputs": [],
      "source": [
        "# Répondez avec d'exécuter la cellule\n",
        "2 > 3"
      ]
    },
    {
      "cell_type": "code",
      "execution_count": null,
      "metadata": {
        "collapsed": true,
        "id": "ybSWaoaupl5U"
      },
      "outputs": [],
      "source": [
        "# Répondez avec d'exécuter la cellule\n",
        "3 <= 2"
      ]
    },
    {
      "cell_type": "code",
      "execution_count": null,
      "metadata": {
        "collapsed": true,
        "id": "LNrlwVBOpl5U"
      },
      "outputs": [],
      "source": [
        "# Répondez avec d'exécuter la cellule\n",
        "3 == 2.0"
      ]
    },
    {
      "cell_type": "code",
      "execution_count": null,
      "metadata": {
        "id": "WGWaO8eepl5U"
      },
      "outputs": [],
      "source": [
        "# Répondez avec d'exécuter la cellule\n",
        "3.0 == 3"
      ]
    },
    {
      "cell_type": "code",
      "execution_count": null,
      "metadata": {
        "id": "mi7aoYiZpl5U"
      },
      "outputs": [],
      "source": [
        "# Répondez avec d'exécuter la cellule\n",
        "4**0.5 != 2"
      ]
    },
    {
      "cell_type": "markdown",
      "metadata": {
        "id": "BPTq7cp9pl5V"
      },
      "source": [
        "Dernière question : quel est le résultat du bloc suivant ?"
      ]
    },
    {
      "cell_type": "code",
      "execution_count": null,
      "metadata": {
        "id": "gDs2lZlVpl5V"
      },
      "outputs": [],
      "source": [
        "# Deux liste imbriquées\n",
        "l_un = [1,2,[3,4]]\n",
        "l_deux = [1,2,{'clef1':4}]\n",
        "\n",
        "# Vrai ou faux ? True ou False?\n",
        "l_un[2][0] >= l_deux[2]['clef1']"
      ]
    }
  ],
  "metadata": {
    "anaconda-cloud": {},
    "kernelspec": {
      "display_name": "Python [default]",
      "language": "python",
      "name": "python3"
    },
    "language_info": {
      "codemirror_mode": {
        "name": "ipython",
        "version": 3
      },
      "file_extension": ".py",
      "mimetype": "text/x-python",
      "name": "python",
      "nbconvert_exporter": "python",
      "pygments_lexer": "ipython3",
      "version": "3.5.2"
    },
    "colab": {
      "provenance": [],
      "include_colab_link": true
    }
  },
  "nbformat": 4,
  "nbformat_minor": 0
}