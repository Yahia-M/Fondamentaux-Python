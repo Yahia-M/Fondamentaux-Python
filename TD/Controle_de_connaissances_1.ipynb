{
  "cells": [
    {
      "cell_type": "markdown",
      "metadata": {
        "id": "view-in-github",
        "colab_type": "text"
      },
      "source": [
        "<a href=\"https://colab.research.google.com/github/Yahia-M/Fondamentaux-Python/blob/DS_01/TD/Controle_de_connaissances_1.ipynb\" target=\"_parent\"><img src=\"https://colab.research.google.com/assets/colab-badge.svg\" alt=\"Open In Colab\"/></a>"
      ]
    },
    {
      "cell_type": "markdown",
      "metadata": {
        "id": "e8hiq_P96slp"
      },
      "source": [
        "# Test de validation des connaissances acquises sur les objets et structures de données"
      ]
    },
    {
      "cell_type": "markdown",
      "metadata": {
        "collapsed": true,
        "id": "HezSRjIm6sls"
      },
      "source": [
        "## Contrôlez vos connaissances\n",
        "\n",
        "** Répondez aux questions suivantes **"
      ]
    },
    {
      "cell_type": "markdown",
      "metadata": {
        "collapsed": true,
        "id": "A0WJLfxN6slu"
      },
      "source": [
        "Rédigez une courte description des objets suivants que nous avons étudiés :"
      ]
    },
    {
      "cell_type": "markdown",
      "metadata": {
        "id": "JumLgcs16slv"
      },
      "source": [
        "Nombres :\n",
        "\n",
        "Chaines de caractères :\n",
        "\n",
        "Listes :\n",
        "\n",
        "Tuples :\n",
        "\n",
        "Dictionnaires :\n"
      ]
    },
    {
      "cell_type": "markdown",
      "metadata": {
        "id": "sh03L3p76slw"
      },
      "source": [
        "## Les nombres\n",
        "\n",
        "Rédigez une équation qui utilise multiplication, division, exposant, addition, et soustraction dont le résultat sera 100.25.\n",
        "\n",
        "Conseil: Le but est de tester votre mémoire sur les commandes arithmétiques de base, travaillez en remontant à partir de 100.25"
      ]
    },
    {
      "cell_type": "code",
      "execution_count": null,
      "metadata": {
        "collapsed": true,
        "id": "EN9zMuqx6slx"
      },
      "outputs": [],
      "source": []
    },
    {
      "cell_type": "markdown",
      "metadata": {
        "id": "s9YE1hID6slz"
      },
      "source": [
        "Répondez à ces 3 questions sans taper de code. Ensuite tapez le code pour vérifier votre réponse.\n",
        "\n",
        "    Quelle est le résultat de l'expression 4 * (6 + 5)\n",
        "    \n",
        "    Quelle est le résultat de l'expression 4 * 6 + 5 \n",
        "    \n",
        "    Quelle est le résultat de l'expression 4 + 6 * 5 "
      ]
    },
    {
      "cell_type": "code",
      "execution_count": null,
      "metadata": {
        "collapsed": true,
        "id": "OuJrbG4s6slz"
      },
      "outputs": [],
      "source": []
    },
    {
      "cell_type": "markdown",
      "metadata": {
        "id": "AxDsFKtn6sl0"
      },
      "source": [
        "Quel est le *type* du résultat de l'expression 3 + 1.5 + 4 ?"
      ]
    },
    {
      "cell_type": "markdown",
      "metadata": {
        "id": "DGJ-EUz36sl1"
      },
      "source": []
    },
    {
      "cell_type": "markdown",
      "metadata": {
        "id": "RCt7Lctw6sl1"
      },
      "source": [
        "Qu'est-ce que vous utiliseriez pour calculer une racine carrée, ou un carré ?"
      ]
    },
    {
      "cell_type": "code",
      "execution_count": null,
      "metadata": {
        "collapsed": true,
        "id": "B2xKg1By6sl2"
      },
      "outputs": [],
      "source": []
    },
    {
      "cell_type": "markdown",
      "metadata": {
        "id": "TafLPngi6sl2"
      },
      "source": [
        "## Les chaines de caractères"
      ]
    },
    {
      "cell_type": "markdown",
      "metadata": {
        "id": "oHJmL80S6sl2"
      },
      "source": [
        "Soit une chaine de caractère 'Bonjour', donnez une commande indexée qui donnera le résultat 'o'.\n",
        "Utilisez le code ci dessous :"
      ]
    },
    {
      "cell_type": "code",
      "execution_count": null,
      "metadata": {
        "collapsed": true,
        "id": "K1tO7-N76sl2"
      },
      "outputs": [],
      "source": [
        "s = 'Bonjour'\n",
        "# Afficher 'o' en utilisant un index\n",
        "\n",
        "# Le code"
      ]
    },
    {
      "cell_type": "markdown",
      "metadata": {
        "id": "pBq-V1hU6sl2"
      },
      "source": [
        "Inverser la chaine 'bonjour' avec l'indexage :"
      ]
    },
    {
      "cell_type": "code",
      "execution_count": null,
      "metadata": {
        "collapsed": true,
        "id": "jLLgiYUV6sl3"
      },
      "outputs": [],
      "source": [
        "s ='bonjour'\n",
        "\n",
        "# Inverser la chaine 'bonjour' avec l'indexage\n",
        "\n",
        "# le code"
      ]
    },
    {
      "cell_type": "markdown",
      "metadata": {
        "id": "Oql-j33P6sl3"
      },
      "source": [
        "Soit une chaine de caractère 'Bonjour', donner 2 moyens d'afficher 'r' en utilisant l'index"
      ]
    },
    {
      "cell_type": "code",
      "execution_count": null,
      "metadata": {
        "collapsed": true,
        "id": "Hf_a4KKF6sl4"
      },
      "outputs": [],
      "source": [
        "s ='Bonjour'\n",
        "# Afficher le code ici\n"
      ]
    },
    {
      "cell_type": "markdown",
      "metadata": {
        "id": "Ksg0Ci5q6sl4"
      },
      "source": [
        "## Les listes"
      ]
    },
    {
      "cell_type": "markdown",
      "metadata": {
        "id": "GTgRzfvp6sl4"
      },
      "source": [
        "Construire la liste [0,0,0] de deux façons différentes :"
      ]
    },
    {
      "cell_type": "code",
      "execution_count": null,
      "metadata": {
        "collapsed": true,
        "id": "7HHDqO6r6sl4"
      },
      "outputs": [],
      "source": []
    },
    {
      "cell_type": "markdown",
      "metadata": {
        "id": "E9muR_gF6sl5"
      },
      "source": [
        "Ré-assigne le 'bonjour' dans cette liste imbriquée pour dire 'salut':"
      ]
    },
    {
      "cell_type": "code",
      "execution_count": null,
      "metadata": {
        "collapsed": true,
        "id": "d76V8MHh6sl6"
      },
      "outputs": [],
      "source": [
        "l = [1,2,[3,4,'bonjour']]"
      ]
    },
    {
      "cell_type": "markdown",
      "metadata": {
        "id": "Eeg7b4Py6sl6"
      },
      "source": [
        "Trier la liste ci-dessous :"
      ]
    },
    {
      "cell_type": "code",
      "execution_count": null,
      "metadata": {
        "collapsed": true,
        "id": "YFiny0E56sl6"
      },
      "outputs": [],
      "source": [
        "l = [3,4,5,5,6]"
      ]
    },
    {
      "cell_type": "markdown",
      "metadata": {
        "id": "eC1gSekE6sl7"
      },
      "source": [
        "## Les dictionnaires"
      ]
    },
    {
      "cell_type": "markdown",
      "metadata": {
        "id": "qeaetC8P6smD"
      },
      "source": [
        "Au moyen de clefs et d'index, extraire 'bonjour' du dictionnaire ci dessous :"
      ]
    },
    {
      "cell_type": "code",
      "execution_count": null,
      "metadata": {
        "collapsed": true,
        "id": "NP92rJ_F6smE"
      },
      "outputs": [],
      "source": [
        "d = {'clef_simple':'bonjour'}\n",
        "# Extraire 'bonjour'\n"
      ]
    },
    {
      "cell_type": "code",
      "execution_count": null,
      "metadata": {
        "collapsed": true,
        "id": "HmIPDBjY6smE"
      },
      "outputs": [],
      "source": [
        "d = {'k1':{'k2':'bonjour'}}\n",
        "# Extraire 'bonjour'\n"
      ]
    },
    {
      "cell_type": "code",
      "execution_count": null,
      "metadata": {
        "collapsed": true,
        "id": "6TmEpixC6smF"
      },
      "outputs": [],
      "source": [
        "# Un peu plus difficile\n",
        "d = {'clef1':[{'clef_imbriquée':['profond',['bonjour']]}]}\n",
        "# Extraire 'bonjour'"
      ]
    },
    {
      "cell_type": "code",
      "execution_count": null,
      "metadata": {
        "collapsed": true,
        "id": "S6mp0A6v6smF"
      },
      "outputs": [],
      "source": [
        "# Celui-ci est compliqué et ennuyeux\n",
        "d = {'clef1':[1,2,{'clef2':['difficile',{'profond':[1,2,['bonjour']]}]}]}"
      ]
    },
    {
      "cell_type": "markdown",
      "metadata": {
        "id": "2LJOCtdF6smF"
      },
      "source": [
        "Peut-on trier un dictionnaire ? Pourquoi ?"
      ]
    },
    {
      "cell_type": "markdown",
      "metadata": {
        "id": "tbY7V4OR6smG"
      },
      "source": []
    },
    {
      "cell_type": "markdown",
      "metadata": {
        "id": "H0Zy4ewK6smG"
      },
      "source": [
        "## Tuples"
      ]
    },
    {
      "cell_type": "markdown",
      "metadata": {
        "id": "Z9lKFv-P6smG"
      },
      "source": [
        "Quelle est la principale différence entre les tuples et les listes ?"
      ]
    },
    {
      "cell_type": "markdown",
      "metadata": {
        "id": "SdE8h7Ts6smG"
      },
      "source": []
    },
    {
      "cell_type": "markdown",
      "metadata": {
        "id": "fxMA0wV46smG"
      },
      "source": [
        "Comment créer un tuple ?"
      ]
    },
    {
      "cell_type": "markdown",
      "metadata": {
        "id": "yCdZJGIo6smG"
      },
      "source": []
    },
    {
      "cell_type": "markdown",
      "metadata": {
        "id": "g-7FWiR56smH"
      },
      "source": [
        "## Sets "
      ]
    },
    {
      "cell_type": "markdown",
      "metadata": {
        "id": "U6KPFIpy6smH"
      },
      "source": [
        "Qu'est-ce qui est unique dans un set ?"
      ]
    },
    {
      "cell_type": "markdown",
      "metadata": {
        "id": "E6LrONDF6smH"
      },
      "source": []
    },
    {
      "cell_type": "markdown",
      "metadata": {
        "id": "AJ9Qb_6m6smH"
      },
      "source": [
        "Utilisez un set pour trouver les valeurs distinctes de cette liste :"
      ]
    },
    {
      "cell_type": "code",
      "execution_count": null,
      "metadata": {
        "collapsed": true,
        "id": "tkiKWQ-E6smH"
      },
      "outputs": [],
      "source": [
        "l = [1,2,2,33,4,4,11,22,3,3,2]"
      ]
    },
    {
      "cell_type": "markdown",
      "metadata": {
        "id": "IF2qxVON6smI"
      },
      "source": [
        "## Booléens"
      ]
    },
    {
      "cell_type": "markdown",
      "metadata": {
        "id": "v-QMR2sG6smI"
      },
      "source": [
        "Pour les questions suivantes, vous aurez besoin de donner un coup d'oeil aux opérateurs de comparaison suivants :\n",
        "\n",
        "<table class=\"table table-bordered\">\n",
        "<tr>\n",
        "<th style=\"width:10%\">Opérateur</th><th style=\"width:45%\">Description</th><th>Exemple</th>\n",
        "</tr>\n",
        "<tr>\n",
        "<td>==</td>\n",
        "<td>Si les valeurs des deux opérandes sont égales, alors la condition est vraie.</td>\n",
        "<td> (a == b) n'est pas vrai.</td>\n",
        "</tr>\n",
        "<tr>\n",
        "<td>!=</td>\n",
        "<td>Si les valeurs des deux opérandes ne sont pas égales, alors la condition est vraie.</td>\n",
        "<td> (a != b) est vrai.</td></tr>\n",
        "<tr>\n",
        "<td>&gt;</td>\n",
        "<td>Si la valeur de l'opérande de gauche est supérieure à la valeur de l'opérateur de droite, alors la condition est vraie.</td>\n",
        "<td> (a &gt; b) n'est pas vrai.</td>\n",
        "</tr>\n",
        "<tr>\n",
        "<td>&lt;</td>\n",
        "<td>Si la valeur de l'opérande de gauche est inférieure à la valeur de l'opérateur de droite, alors la condition est vraie.</td>\n",
        "<td> (a &lt; b) est vrai.</td>\n",
        "</tr>\n",
        "<tr>\n",
        "<td>&gt;=</td>\n",
        "<td>Si la valeur de l'opérande de gauche est supérieure ou égale à la valeur de l'opérateur de droite, alors la condition est vraie.</td>\n",
        "<td> (a &gt;= b) n'est pas vrai. </td>\n",
        "</tr>\n",
        "<tr>\n",
        "<td>&lt;=</td>\n",
        "<td>Si la valeur de l'opérande de gauche est inférieure ou égale à la valeur de l'opérateur de droite, alors la condition est vraie.</td>\n",
        "<td> (a &lt;= b) est vrai. </td>\n",
        "</tr>\n",
        "</table>"
      ]
    },
    {
      "cell_type": "markdown",
      "metadata": {
        "id": "zbEaQuS06smI"
      },
      "source": [
        "Que sera le résutat booléen des morceaux de code suivants (répondez d'abord puis vérifiez en exécutant le code correspondant !)"
      ]
    },
    {
      "cell_type": "code",
      "execution_count": null,
      "metadata": {
        "id": "YtSQNptk6smI"
      },
      "outputs": [],
      "source": [
        "# Répondez avec d'exécuter la cellule\n",
        "2 > 3"
      ]
    },
    {
      "cell_type": "code",
      "execution_count": null,
      "metadata": {
        "collapsed": true,
        "id": "BIacpFaD6smJ"
      },
      "outputs": [],
      "source": [
        "# Répondez avec d'exécuter la cellule\n",
        "3 <= 2"
      ]
    },
    {
      "cell_type": "code",
      "execution_count": null,
      "metadata": {
        "collapsed": true,
        "id": "WBKZzY7U6smJ"
      },
      "outputs": [],
      "source": [
        "# Répondez avec d'exécuter la cellule\n",
        "3 == 2.0"
      ]
    },
    {
      "cell_type": "code",
      "execution_count": null,
      "metadata": {
        "id": "qRmuzAX76smJ"
      },
      "outputs": [],
      "source": [
        "# Répondez avec d'exécuter la cellule\n",
        "3.0 == 3"
      ]
    },
    {
      "cell_type": "code",
      "execution_count": null,
      "metadata": {
        "id": "Yqjiojri6smJ"
      },
      "outputs": [],
      "source": [
        "# Répondez avec d'exécuter la cellule\n",
        "4**0.5 != 2"
      ]
    },
    {
      "cell_type": "markdown",
      "metadata": {
        "id": "gLYUW2ix6smJ"
      },
      "source": [
        "Dernière question : quel est le résultat du bloc suivant ?"
      ]
    },
    {
      "cell_type": "code",
      "execution_count": null,
      "metadata": {
        "id": "53uvo8L66smK"
      },
      "outputs": [],
      "source": [
        "# Deux liste imbriquées\n",
        "l_un = [1,2,[3,4]]\n",
        "l_deux = [1,2,{'clef1':4}]\n",
        "\n",
        "# Vrai ou faux ? True ou False?\n",
        "l_un[2][0] >= l_deux[2]['clef1']"
      ]
    },
    {
      "cell_type": "markdown",
      "metadata": {
        "id": "fOX9C8jx6smK"
      },
      "source": [
        "## Félicitations, vous avez terminé votre premier contrôle de connaissances !"
      ]
    }
  ],
  "metadata": {
    "anaconda-cloud": {},
    "kernelspec": {
      "display_name": "Python [default]",
      "language": "python",
      "name": "python3"
    },
    "language_info": {
      "codemirror_mode": {
        "name": "ipython",
        "version": 3
      },
      "file_extension": ".py",
      "mimetype": "text/x-python",
      "name": "python",
      "nbconvert_exporter": "python",
      "pygments_lexer": "ipython3",
      "version": "3.5.2"
    },
    "colab": {
      "provenance": [],
      "include_colab_link": true
    }
  },
  "nbformat": 4,
  "nbformat_minor": 0
}