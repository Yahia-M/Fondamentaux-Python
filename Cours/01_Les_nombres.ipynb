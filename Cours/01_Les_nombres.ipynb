{
  "cells": [
    {
      "cell_type": "markdown",
      "metadata": {
        "id": "view-in-github",
        "colab_type": "text"
      },
      "source": [
        "<a href=\"https://colab.research.google.com/github/Yahia-M/Fondamentaux-Python/blob/DS_01/Cours/01_Les_nombres.ipynb\" target=\"_parent\"><img src=\"https://colab.research.google.com/assets/colab-badge.svg\" alt=\"Open In Colab\"/></a>"
      ]
    },
    {
      "cell_type": "markdown",
      "metadata": {
        "id": "S1Q3OlJY-kvY"
      },
      "source": [
        "# Les nombres et plus avec Python!\n",
        "\n",
        "Dans cette section, vous allez tout apprendre à propos des nombres et comment les utiliser avec Python.\n",
        "\n",
        "Voici les sujets que nous allons couvrir :\n",
        "\n",
        "    1.) Les types de nombres avec Python\n",
        "    2.) Arithmetique de base\n",
        "    3.) Différences entre Python 2 et 3 pour la division\n",
        "    4.) Assignation d'objets dans Python"
      ]
    },
    {
      "cell_type": "markdown",
      "metadata": {
        "id": "sn8_hIBY-kva"
      },
      "source": [
        "# Les types de nombres\n",
        "\n",
        "Python a plusieurs \"types\" de nombres (littéraux numériques). Nous allons nous occuper principalement des entiers (integers) et des nombres à virgule flottante (floating point).\n",
        "\n",
        "Le type integer représente des nombres entiers, positifs or negatifs. Par exemple: 2 et -2 sont des integers.\n",
        "\n",
        "Le type floating point de Python est facile à identifier parce que les nombres sont représentés avec un point décimal (Attention, c'est bien un point et non pas une virgule comme habituellement en calligraphie française), ou alors avec le signe exponentiels (e) pour représenter les puissances de 10. Par exemple, 2.0 et -2.1 sont des nombres de type floating point. 4E2 ( 4 fois 10 à la puissance 2) est aussi un nombre de type floating point en Python.\n",
        "\n",
        "La plupart des nombres que nous utiliserons dans le cours seront de type integer ou floating point.\n",
        "\n",
        "Voici un tableau des deux types avec lesquels nous passerons le plus de temps dans les exemples :\n",
        "\n",
        "<table border = “1“>\n",
        "<caption>Numbers in Python</caption> \n",
        "<tr>\n",
        "    <th>Exemples</th> <th>\"Type\"</th>\n",
        "</tr>\n",
        "<td>1,2,-5,1000</td> <td>Integers</td> \n",
        "<tr>\n",
        "</tr>\n",
        "<td>1.2,-0.5,2e2,3E2</td> <td>Floating-point numbers</td> \n",
        "<tr>\n",
        "</tr>\n",
        " </table>\n",
        " \n",
        "Maintenant, quelques exercices d'arythmétique simples."
      ]
    },
    {
      "cell_type": "markdown",
      "metadata": {
        "id": "jV1uFiLO-kvc"
      },
      "source": [
        "### Arithmétique de base"
      ]
    },
    {
      "cell_type": "code",
      "execution_count": null,
      "metadata": {
        "id": "kdYWF64k-kvd",
        "outputId": "d4b719db-7abe-4943-b95e-9f3db078c2aa"
      },
      "outputs": [
        {
          "data": {
            "text/plain": [
              "3"
            ]
          },
          "execution_count": 1,
          "metadata": {},
          "output_type": "execute_result"
        }
      ],
      "source": [
        "# Addition\n",
        "2+1"
      ]
    },
    {
      "cell_type": "code",
      "execution_count": null,
      "metadata": {
        "id": "aO0qpnWw-kve",
        "outputId": "a192a83f-a01d-4ace-8000-52b45dca48c9"
      },
      "outputs": [
        {
          "data": {
            "text/plain": [
              "1"
            ]
          },
          "execution_count": 2,
          "metadata": {},
          "output_type": "execute_result"
        }
      ],
      "source": [
        "# Soustraction\n",
        "2-1"
      ]
    },
    {
      "cell_type": "code",
      "execution_count": null,
      "metadata": {
        "id": "NgejwMQ9-kve",
        "outputId": "ef002925-34d4-4b8a-9195-7272cdd32261"
      },
      "outputs": [
        {
          "data": {
            "text/plain": [
              "4"
            ]
          },
          "execution_count": 3,
          "metadata": {},
          "output_type": "execute_result"
        }
      ],
      "source": [
        "# Multiplication\n",
        "2*2"
      ]
    },
    {
      "cell_type": "code",
      "execution_count": null,
      "metadata": {
        "id": "JzieSWEE-kvf",
        "outputId": "f51f75df-cba3-462d-d3e9-40b3797c2c5b"
      },
      "outputs": [
        {
          "data": {
            "text/plain": [
              "1.5"
            ]
          },
          "execution_count": 1,
          "metadata": {},
          "output_type": "execute_result"
        }
      ],
      "source": [
        "# Division\n",
        "3/2"
      ]
    },
    {
      "cell_type": "markdown",
      "metadata": {
        "id": "EmnGuy6z-kvf"
      },
      "source": [
        "### Arithmétique, suite..."
      ]
    },
    {
      "cell_type": "code",
      "execution_count": null,
      "metadata": {
        "id": "ifnYX3_I-kvf",
        "outputId": "1e2c010c-064e-47cf-b6b2-9db60c818d83"
      },
      "outputs": [
        {
          "data": {
            "text/plain": [
              "8"
            ]
          },
          "execution_count": 16,
          "metadata": {},
          "output_type": "execute_result"
        }
      ],
      "source": [
        "# Puissances\n",
        "2**3"
      ]
    },
    {
      "cell_type": "code",
      "execution_count": null,
      "metadata": {
        "id": "H8GupTpD-kvg",
        "outputId": "2407b61a-fb68-437c-bc42-7647c31443d8"
      },
      "outputs": [
        {
          "data": {
            "text/plain": [
              "2.0"
            ]
          },
          "execution_count": 17,
          "metadata": {},
          "output_type": "execute_result"
        }
      ],
      "source": [
        "# Nous pouvons calculer les racines de la même manière\n",
        "4**0.5"
      ]
    },
    {
      "cell_type": "code",
      "execution_count": null,
      "metadata": {
        "id": "ePf8ZEUO-kvh",
        "outputId": "7c26ae0a-4a30-4b2e-f34d-47165bd95791"
      },
      "outputs": [
        {
          "data": {
            "text/plain": [
              "105"
            ]
          },
          "execution_count": 18,
          "metadata": {},
          "output_type": "execute_result"
        }
      ],
      "source": [
        "# Voici l'ordre de priorité des opérations en Python\n",
        "2 + 10 * 10 + 3"
      ]
    },
    {
      "cell_type": "code",
      "execution_count": null,
      "metadata": {
        "id": "PcHkq90x-kvh",
        "outputId": "b8cc61ec-4931-4d22-976a-b9fe380f4ce7"
      },
      "outputs": [
        {
          "data": {
            "text/plain": [
              "156"
            ]
          },
          "execution_count": 19,
          "metadata": {},
          "output_type": "execute_result"
        }
      ],
      "source": [
        "# Avec des parenthèse nous pouvons garder le contrôle de ces priorités\n",
        "(2+10) * (10+3)"
      ]
    },
    {
      "cell_type": "markdown",
      "metadata": {
        "id": "j-y8z_ww-kvi"
      },
      "source": [
        "## Assignation de variables\n",
        "\n",
        "Maintenant que nous savons comment utiliser les nombre en mode calculette avec Python, nous pouvons créer des variables et leur assigner des valeurs.\n",
        "\n",
        "Il suffit d'un simple signe égal = pour assigner un nom à une variable. Voyons quelques exemples pour détailler la façon de faire."
      ]
    },
    {
      "cell_type": "code",
      "execution_count": null,
      "metadata": {
        "collapsed": true,
        "id": "cmikS_xr-kvi"
      },
      "outputs": [],
      "source": [
        "# Créons un objet nommé \"a\" et nous lui assignons la valeur 5\n",
        "a = 5"
      ]
    },
    {
      "cell_type": "markdown",
      "metadata": {
        "id": "UwSEnQkj-kvi"
      },
      "source": [
        "Maintenant, je peux appeler *a* dans un script Python qui le traitera comme le nombre 5"
      ]
    },
    {
      "cell_type": "code",
      "execution_count": null,
      "metadata": {
        "id": "8mA6QmzH-kvj",
        "outputId": "e6b6df1b-eb13-4bb3-9e47-7217bee7c846"
      },
      "outputs": [
        {
          "data": {
            "text/plain": [
              "10"
            ]
          },
          "execution_count": 38,
          "metadata": {},
          "output_type": "execute_result"
        }
      ],
      "source": [
        "# additionner des objets\n",
        "a+a"
      ]
    },
    {
      "cell_type": "markdown",
      "metadata": {
        "id": "h6zyQw-S-kvj"
      },
      "source": [
        "Que se passe-t-il si on assigne à nouveau la même variable ?\n",
        "Est-ce que Python nous laisse écraser la valeur déjà stockée ?"
      ]
    },
    {
      "cell_type": "code",
      "execution_count": null,
      "metadata": {
        "collapsed": true,
        "id": "_cNcvcoN-kvj"
      },
      "outputs": [],
      "source": [
        "# Ré-assignation\n",
        "a = 10"
      ]
    },
    {
      "cell_type": "code",
      "execution_count": null,
      "metadata": {
        "id": "BSbzhS2V-kvk",
        "outputId": "64c5cee2-d2fa-49d4-d66c-a1e8ae40411a"
      },
      "outputs": [
        {
          "data": {
            "text/plain": [
              "10"
            ]
          },
          "execution_count": 40,
          "metadata": {},
          "output_type": "execute_result"
        }
      ],
      "source": [
        "# Vérification\n",
        "a"
      ]
    },
    {
      "cell_type": "markdown",
      "metadata": {
        "id": "WL1gaLu5-kvk"
      },
      "source": [
        "Oui !\n",
        "Python nous autorise à écraser les valeurs d'une variable dont le nom a déjà été assigné. Nous pouvons même utiliser les variables mêmes pour faire la nouvelle assignation.\n",
        "Par exemple :"
      ]
    },
    {
      "cell_type": "code",
      "execution_count": null,
      "metadata": {
        "id": "zhte0J5s-kvk",
        "outputId": "73aff37d-91a8-4d37-900d-2f3344d68999"
      },
      "outputs": [
        {
          "data": {
            "text/plain": [
              "10"
            ]
          },
          "execution_count": 41,
          "metadata": {},
          "output_type": "execute_result"
        }
      ],
      "source": [
        "# Vérification\n",
        "a"
      ]
    },
    {
      "cell_type": "code",
      "execution_count": null,
      "metadata": {
        "collapsed": true,
        "id": "VSLKMqSm-kvl"
      },
      "outputs": [],
      "source": [
        "# Nous utilisons a pour assigner a de nouveau\n",
        "a = a + a"
      ]
    },
    {
      "cell_type": "code",
      "execution_count": null,
      "metadata": {
        "id": "JIWgv0ea-kvl",
        "outputId": "409cd98c-fd84-4d9a-8374-c9483e3ea55d"
      },
      "outputs": [
        {
          "data": {
            "text/plain": [
              "20"
            ]
          },
          "execution_count": 43,
          "metadata": {},
          "output_type": "execute_result"
        }
      ],
      "source": [
        "# Vérification \n",
        "a"
      ]
    },
    {
      "cell_type": "markdown",
      "metadata": {
        "id": "99V5aTNk-kvl"
      },
      "source": [
        "Il y a quelques règles à respecter pour créer un nom de variable :\n",
        "    1. Les noms ne doivent pas commencer par un nombre.\n",
        "    2. Pas d'espace dans les noms, utilisez _ à la place\n",
        "    3. Interdit d'utiliser les symboles suivants : '\",<>/?|\\()!@#$%^&*~-+\n",
        "    4. C'est une bonne pratique (PEP8) de mettre les noms en minuscules\n",
        "    \n",
        "Les noms de variables permettent de conserver et manipuler plusieurs valeurs de façon simple avec Python.\n",
        "Par exemple : "
      ]
    },
    {
      "cell_type": "code",
      "execution_count": null,
      "metadata": {
        "collapsed": true,
        "id": "WrrOQQeu-kvm"
      },
      "outputs": [],
      "source": [
        "# Utilisez des noms explicites pour mieux suivre ce que fait votre code !\n",
        "mon_salaire = 100\n",
        "\n",
        "taux_taxe = 0.1\n",
        "\n",
        "mes_taxes = mon_salaire*taux_taxe"
      ]
    },
    {
      "cell_type": "code",
      "execution_count": null,
      "metadata": {
        "id": "oksoXuof-kvm",
        "outputId": "66d2f111-aa4c-488f-fdbd-b0865b112e5e"
      },
      "outputs": [
        {
          "data": {
            "text/plain": [
              "10.0"
            ]
          },
          "execution_count": 46,
          "metadata": {},
          "output_type": "execute_result"
        }
      ],
      "source": [
        "# Visualiser les taxes !\n",
        "mes_taxes"
      ]
    },
    {
      "cell_type": "markdown",
      "metadata": {
        "id": "txS9XMfs-kvm"
      },
      "source": [
        "Nous venons de voir quelques uns des types de nombres basiques de Python. Nous avons également appris à réaliser quelques calculs arithmétiques de base en utilisant la calculette Python. Nous avons finalement vu comment créer des variables pour utiliser plus facilement ces objets numériques.\n",
        "\n",
        "Dans la prochaine leçon nous allons découvrir les chaines de caractères !"
      ]
    },
    {
      "cell_type": "code",
      "execution_count": null,
      "metadata": {
        "collapsed": true,
        "id": "pHoU0r2B-kvm"
      },
      "outputs": [],
      "source": []
    },
    {
      "cell_type": "markdown",
      "source": [
        "# Variables"
      ],
      "metadata": {
        "id": "3lBMLNA7-bcL"
      }
    },
    {
      "cell_type": "code",
      "source": [],
      "metadata": {
        "id": "m6OaO5bZ-bUb"
      },
      "execution_count": null,
      "outputs": []
    },
    {
      "cell_type": "markdown",
      "metadata": {
        "id": "0eIZmJBnmwa3"
      },
      "source": [
        "<p>Python follows well accepted mathematical conventions when evaluating mathematical expressions. In the following example, Python adds 30 to the result of the multiplication (i.e., 120)."
      ]
    },
    {
      "cell_type": "code",
      "execution_count": null,
      "metadata": {
        "id": "_b4AFe5mmwa3"
      },
      "outputs": [],
      "source": [
        "# Mathematical expression\n",
        "\n",
        "30 + 2 * 60"
      ]
    },
    {
      "cell_type": "markdown",
      "metadata": {
        "id": "iViQnl58mwa3"
      },
      "source": [
        "<p>And just like mathematics, expressions enclosed in parentheses have priority. So the following multiplies 32 by 60."
      ]
    },
    {
      "cell_type": "code",
      "execution_count": null,
      "metadata": {
        "id": "nQxlBjoLmwa4"
      },
      "outputs": [],
      "source": [
        "# Mathematical expression\n",
        "\n",
        "(30 + 2) * 60"
      ]
    },
    {
      "cell_type": "markdown",
      "metadata": {
        "id": "WOKc5cgFmwa4"
      },
      "source": [
        "<p>Just like with most programming languages, we can store values in <i>variables</i>, so we can use them later on. For example:</p>"
      ]
    },
    {
      "cell_type": "code",
      "execution_count": null,
      "metadata": {
        "id": "O7d2xG0Omwa4"
      },
      "outputs": [],
      "source": [
        "# Store value into variable\n",
        "\n",
        "x = 43 + 60 + 16 + 41"
      ]
    },
    {
      "cell_type": "markdown",
      "metadata": {
        "id": "kH7ShFf_mwa4"
      },
      "source": [
        "<p>To see the value of <code>x</code> in a Notebook, we can simply place it on the last line of a cell:</p>"
      ]
    },
    {
      "cell_type": "code",
      "execution_count": null,
      "metadata": {
        "id": "ZEgqKHHTmwa5"
      },
      "outputs": [],
      "source": [
        "# Print out the value in variable\n",
        "\n",
        "x"
      ]
    },
    {
      "cell_type": "markdown",
      "metadata": {
        "id": "jWdioGqumwa5"
      },
      "source": [
        "<p>We can also perform operations on <code>x</code> and save the result to a new variable:</p>"
      ]
    },
    {
      "cell_type": "code",
      "execution_count": null,
      "metadata": {
        "id": "qajxPKTYmwa5"
      },
      "outputs": [],
      "source": [
        "# Use another variable to store the result of the operation between variable and value\n",
        "\n",
        "y = x / 60\n",
        "y"
      ]
    },
    {
      "cell_type": "markdown",
      "metadata": {
        "id": "fRCMlDCYmwa5"
      },
      "source": [
        "<p>If we save a value to an existing variable, the new value will overwrite the previous value:</p>"
      ]
    },
    {
      "cell_type": "code",
      "execution_count": null,
      "metadata": {
        "id": "NWfQlsKdmwa5"
      },
      "outputs": [],
      "source": [
        "# Overwrite variable with new value\n",
        "\n",
        "x = x / 60\n",
        "x"
      ]
    },
    {
      "cell_type": "markdown",
      "metadata": {
        "id": "tMgNAT4_mwa6"
      },
      "source": [
        "<p>It's a good practice to use meaningful variable names, so you and others can read the code and understand it more easily:</p>"
      ]
    },
    {
      "cell_type": "code",
      "execution_count": null,
      "metadata": {
        "id": "aKROW0Ojmwa6"
      },
      "outputs": [],
      "source": [
        "# Name the variables meaningfully\n",
        "\n",
        "total_min = 43 + 42 + 57 # Total length of albums in minutes\n",
        "total_min"
      ]
    },
    {
      "cell_type": "code",
      "execution_count": null,
      "metadata": {
        "id": "Gv0XKQvmmwa6"
      },
      "outputs": [],
      "source": [
        "# Name the variables meaningfully\n",
        "\n",
        "total_hours = total_min / 60 # Total length of albums in hours \n",
        "total_hours"
      ]
    },
    {
      "cell_type": "markdown",
      "metadata": {
        "id": "cN2ZpkMymwa6"
      },
      "source": [
        "<p>In the cells above we added the length of three albums in minutes and stored it in <code>total_min</code>. We then divided it by 60 to calculate total length <code>total_hours</code> in hours. You can also do it all at once in a single expression, as long as you use parenthesis to add the albums length before you divide, as shown below.</p>"
      ]
    },
    {
      "cell_type": "code",
      "execution_count": null,
      "metadata": {
        "id": "Nyh0nNtvmwa6"
      },
      "outputs": [],
      "source": [
        "# Complicate expression\n",
        "\n",
        "total_hours = (43 + 42 + 57) / 60  # Total hours in a single expression\n",
        "total_hours"
      ]
    },
    {
      "cell_type": "markdown",
      "metadata": {
        "id": "X0ummQGrmwa7"
      },
      "source": [
        "<p>If you'd rather have total hours as an integer, you can of course replace the floating point division with integer division (i.e., <code>//</code>).</p>"
      ]
    },
    {
      "cell_type": "markdown",
      "metadata": {
        "id": "MMhilZNemwa7"
      },
      "source": [
        "<h3 id=\"exer_exp_var\">Exercise: Expression and Variables in Python</h3>"
      ]
    },
    {
      "cell_type": "markdown",
      "metadata": {
        "id": "LufRMC5-mwa7"
      },
      "source": [
        "<p>What is the value of <code>x</code> where <code>x = 3 + 2 * 2</code></p>"
      ]
    },
    {
      "cell_type": "code",
      "execution_count": null,
      "metadata": {
        "id": "NHF_nVM4mwa7"
      },
      "outputs": [],
      "source": [
        "# Write your code below. Don't forget to press Shift+Enter to execute the cell"
      ]
    },
    {
      "cell_type": "code",
      "source": [
        "#@title Solution\n",
        "7"
      ],
      "metadata": {
        "cellView": "form",
        "id": "PFRbcAij-tlj"
      },
      "execution_count": null,
      "outputs": []
    },
    {
      "cell_type": "markdown",
      "metadata": {
        "id": "VB4GFeL1mwa7"
      },
      "source": [
        "<p>What is the value of <code>y</code> where <code>y = (3 + 2) * 2</code>?</p>"
      ]
    },
    {
      "cell_type": "code",
      "execution_count": null,
      "metadata": {
        "id": "sD9Dp17Vmwa7"
      },
      "outputs": [],
      "source": [
        "# Write your code below. Don't forget to press Shift+Enter to execute the cell"
      ]
    },
    {
      "cell_type": "code",
      "source": [
        "#@title Solution\n",
        "10"
      ],
      "metadata": {
        "cellView": "form",
        "id": "mfPGq5mk--cK"
      },
      "execution_count": null,
      "outputs": []
    },
    {
      "cell_type": "markdown",
      "metadata": {
        "id": "6_6W3fOtmwa8"
      },
      "source": [
        "<p>What is the value of <code>z</code> where <code>z = x + y</code>?</p>"
      ]
    },
    {
      "cell_type": "code",
      "execution_count": null,
      "metadata": {
        "id": "bCbAUYpgmwa8"
      },
      "outputs": [],
      "source": [
        "# Write your code below. Don't forget to press Shift+Enter to execute the cell"
      ]
    },
    {
      "cell_type": "code",
      "source": [
        "#@title Solution\n",
        "17"
      ],
      "metadata": {
        "cellView": "form",
        "id": "hegb6Dj3_EsC"
      },
      "execution_count": null,
      "outputs": []
    }
  ],
  "metadata": {
    "anaconda-cloud": {},
    "kernelspec": {
      "display_name": "Python [default]",
      "language": "python",
      "name": "python3"
    },
    "language_info": {
      "codemirror_mode": {
        "name": "ipython",
        "version": 3
      },
      "file_extension": ".py",
      "mimetype": "text/x-python",
      "name": "python",
      "nbconvert_exporter": "python",
      "pygments_lexer": "ipython3",
      "version": "3.5.2"
    },
    "colab": {
      "provenance": [],
      "include_colab_link": true
    }
  },
  "nbformat": 4,
  "nbformat_minor": 0
}