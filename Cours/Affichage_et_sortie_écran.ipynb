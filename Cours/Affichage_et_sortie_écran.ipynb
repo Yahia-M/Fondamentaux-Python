{
  "cells": [
    {
      "cell_type": "markdown",
      "metadata": {
        "id": "view-in-github",
        "colab_type": "text"
      },
      "source": [
        "<a href=\"https://colab.research.google.com/github/Yahia-M/Fondamentaux-Python/blob/DS_01/Cours/Affichage_et_sortie_%C3%A9cran.ipynb\" target=\"_parent\"><img src=\"https://colab.research.google.com/assets/colab-badge.svg\" alt=\"Open In Colab\"/></a>"
      ]
    },
    {
      "cell_type": "markdown",
      "metadata": {
        "id": "fNPJ73Qmk6_0"
      },
      "source": [
        "# Affichage et sortie écran (print)\n",
        "\n",
        "Dans cette section nous allons brièvement voir les différentes façons de présenter les sorties écran ou plus simplement l'affichage.\n",
        "\n",
        "Comme vous avancer dans la pratique de la programmation, vous allez sans doute être à la recherche d'avoir des sorties pour afficher le contenu de variables, numériques entre autres.\n",
        "\n",
        "L'exemple le plus simple de sortie \"print\" est le suivant :"
      ]
    },
    {
      "cell_type": "code",
      "execution_count": null,
      "metadata": {
        "id": "nLbJHpYXk6_3",
        "outputId": "409b2302-6248-40bb-ae9a-8b52cbd2ccee"
      },
      "outputs": [
        {
          "name": "stdout",
          "output_type": "stream",
          "text": [
            "Ceci est une chaine de caractères\n"
          ]
        }
      ],
      "source": [
        "print('Ceci est une chaine de caractères')"
      ]
    },
    {
      "cell_type": "markdown",
      "metadata": {
        "id": "uQgAflQrk6_5"
      },
      "source": [
        "## Les chaines de caractères (strings)\n",
        "Vous pouvez utiliser la directive %s pour formatter les chaines à l'intérieur d'une commande de sortie (print).\n",
        "\n",
        "Notez que l'ont peut utiliser double ou simple guillemets pour assigner une chaine. Le double guillemet permet d'utiliser le simple à l'intérieur de la chaine sans générer d'erreur."
      ]
    },
    {
      "cell_type": "code",
      "execution_count": null,
      "metadata": {
        "id": "HRClMqBrk6_7",
        "outputId": "094a4cbe-003e-4c1f-9a10-733a1c7f088b"
      },
      "outputs": [
        {
          "name": "stdout",
          "output_type": "stream",
          "text": [
            "Insérer une chaine à partir d'une variable: CHAINE\n"
          ]
        }
      ],
      "source": [
        "c = 'CHAINE'\n",
        "print (\"Insérer une chaine à partir d'une variable: %s\" %(c))"
      ]
    },
    {
      "cell_type": "markdown",
      "metadata": {
        "id": "zuoXbi7ak6_8"
      },
      "source": [
        "## Nombres réels, virgule flottante (floating Point)\n",
        "\n",
        "Les nombres de type float utilisent le format %n1.n2f pour lequel n1 représente le nombre minimum de chiffres à représenter (substitués par des espaces si le nombre est plus petit) et n2 représente le nombre de chiffres à afficher après la virgule.\n",
        "\n",
        "Voyons quelques exemples :"
      ]
    },
    {
      "cell_type": "code",
      "execution_count": null,
      "metadata": {
        "id": "K9ey7Hiek6_9",
        "outputId": "6c549706-c3b5-4fb3-c0b2-52c19b965689"
      },
      "outputs": [
        {
          "name": "stdout",
          "output_type": "stream",
          "text": [
            "Nombre à virgule flottante : 13.14\n"
          ]
        }
      ],
      "source": [
        "print('Nombre à virgule flottante : %1.2f' %(13.144))"
      ]
    },
    {
      "cell_type": "code",
      "execution_count": null,
      "metadata": {
        "id": "rxp5Yxckk6_9",
        "outputId": "a86ebbad-3940-446a-cd8f-20067ded4d97"
      },
      "outputs": [
        {
          "name": "stdout",
          "output_type": "stream",
          "text": [
            "Nombre à virgule flottante : 13\n"
          ]
        }
      ],
      "source": [
        "print('Nombre à virgule flottante : %1.0f' %(13.144))"
      ]
    },
    {
      "cell_type": "code",
      "execution_count": null,
      "metadata": {
        "id": "9j1C6MIWk6_-",
        "outputId": "e9e43771-0b03-48cd-b845-285397317708"
      },
      "outputs": [
        {
          "name": "stdout",
          "output_type": "stream",
          "text": [
            "Nombre à virgule flottante : 13.14400\n"
          ]
        }
      ],
      "source": [
        "print('Nombre à virgule flottante : %1.5f' %(13.144))"
      ]
    },
    {
      "cell_type": "code",
      "execution_count": null,
      "metadata": {
        "id": "dxUuwR-6k6__",
        "outputId": "a76f4b57-db44-47a3-f9be-6882512de8eb"
      },
      "outputs": [
        {
          "name": "stdout",
          "output_type": "stream",
          "text": [
            "Nombre à virgule flottante :      13.14\n"
          ]
        }
      ],
      "source": [
        "print('Nombre à virgule flottante : %10.2f' %(13.144))"
      ]
    },
    {
      "cell_type": "code",
      "execution_count": null,
      "metadata": {
        "id": "qeNW4ymSk7AA",
        "outputId": "fa5886df-fbf7-403d-8b9a-66f22831fbb8"
      },
      "outputs": [
        {
          "name": "stdout",
          "output_type": "stream",
          "text": [
            "Nombre à virgule flottante :                     13.14\n"
          ]
        }
      ],
      "source": [
        "print('Nombre à virgule flottante : %25.2f' %(13.144))"
      ]
    },
    {
      "cell_type": "markdown",
      "metadata": {
        "id": "E1AXeP1Mk7AB"
      },
      "source": [
        "## Conversion de format\n",
        "\n",
        "Il faut noter que les deux méthodes %s et %r convertiront tout objet Python en chaine de caractères (string) en utilisant chacune une métode différente : str() et repr() respectivement.\n",
        "\n",
        "Nous en verrons plus à propos de ces fonctions par la suite, mais vous pourrez noter que vous pouvez passer à peu près n'importe quel objet à ses méthodes et qu'elles s'en accomoderont :"
      ]
    },
    {
      "cell_type": "code",
      "execution_count": null,
      "metadata": {
        "id": "Kk8ducFZk7AC",
        "outputId": "40c44213-2ce0-40bb-cd20-721d0369e846"
      },
      "outputs": [
        {
          "name": "stdout",
          "output_type": "stream",
          "text": [
            "Voici un nombre : 123.1. Voici une chaine : hi\n"
          ]
        }
      ],
      "source": [
        "print('Voici un nombre : %s. Voici une chaine : %s' %(123.1,'hi'))"
      ]
    },
    {
      "cell_type": "code",
      "execution_count": null,
      "metadata": {
        "id": "Fe9aWrltk7AD",
        "outputId": "e6c8da61-e16e-4a3a-80e6-7be1074293e3"
      },
      "outputs": [
        {
          "name": "stdout",
          "output_type": "stream",
          "text": [
            "Voici un nombre : 123.1. Voici une chaine : 'hi'\n"
          ]
        }
      ],
      "source": [
        "print('Voici un nombre : %r. Voici une chaine : %r' %(123.1,'hi'))"
      ]
    },
    {
      "cell_type": "markdown",
      "metadata": {
        "id": "5WAeXmSUk7AE"
      },
      "source": [
        "## Formats multiples\n",
        "Il est possible de transmettre plusieurs formats dans le même print.\n"
      ]
    },
    {
      "cell_type": "code",
      "execution_count": null,
      "metadata": {
        "id": "rRX91bT3k7AE",
        "outputId": "45a0b528-26ed-4140-b396-3e24a6dc28ac"
      },
      "outputs": [
        {
          "name": "stdout",
          "output_type": "stream",
          "text": [
            "Premier : hi!, Deuxième : 3.14, Troisième : 22\n"
          ]
        }
      ],
      "source": [
        "print('Premier : %s, Deuxième : %1.2f, Troisième : %r' %('bonjour !',3.14,22))"
      ]
    },
    {
      "cell_type": "markdown",
      "metadata": {
        "id": "M_GB2Ggck7AF"
      },
      "source": [
        "# Utilisation de la méthode string .format()\n",
        "\n",
        "La façon la plus efficace de présenter des objets dans les chaines de caractères de sortie de print est d'utiliser la méthode format.\n",
        "\n",
        "Voici la syntaxe :\n",
        "\n",
        "    'Ici une chaine {var1} puis aussi {var2}'.format(var1='quelquechose',var2='autrechose')\n",
        "    \n",
        "Voyons quelques exemples :"
      ]
    },
    {
      "cell_type": "code",
      "execution_count": null,
      "metadata": {
        "id": "orHAMnu8k7AF",
        "outputId": "c86fcab3-c65c-4348-8acf-08e1a590164f"
      },
      "outputs": [
        {
          "name": "stdout",
          "output_type": "stream",
          "text": [
            "Voici une chaine avec un élement inséré\n"
          ]
        }
      ],
      "source": [
        "print ('Voici une chaine avec un élement {p}'.format(p='inséré'))"
      ]
    },
    {
      "cell_type": "code",
      "execution_count": null,
      "metadata": {
        "id": "PWXXGjKUk7AG",
        "outputId": "9c37664b-50a7-41f2-8754-200bdf907cca"
      },
      "outputs": [
        {
          "name": "stdout",
          "output_type": "stream",
          "text": [
            "Un: Salut !, Deux: Salut !, Trois: Salut !\n"
          ]
        }
      ],
      "source": [
        "# Plusieurs fois\n",
        "print ('Un: {p}, Deux: {p}, Trois: {p}'.format(p='Salut !'))"
      ]
    },
    {
      "cell_type": "code",
      "execution_count": null,
      "metadata": {
        "id": "FHPmk79Jk7AG",
        "outputId": "4ffbfedb-2019-4e40-a7fb-4ba40faf82e3"
      },
      "outputs": [
        {
          "name": "stdout",
          "output_type": "stream",
          "text": [
            "Objet 1: 1, Objet 2: deux, Objet 3: 12.3\n"
          ]
        }
      ],
      "source": [
        "# Plusieus objets\n",
        "print ('Objet 1: {a}, Objet 2: {b}, Objet 3: {c}'.format(a=1,b='deux',c=12.3))"
      ]
    },
    {
      "cell_type": "markdown",
      "metadata": {
        "id": "c9ZtX8XWk7AG"
      },
      "source": [
        "Voici les bases du formattage et de la présentation de chaines de caractères !"
      ]
    },
    {
      "cell_type": "markdown",
      "metadata": {
        "id": "rVCHaIccmwai"
      },
      "source": [
        "# Types of objects in Python"
      ]
    },
    {
      "cell_type": "markdown",
      "metadata": {
        "id": "1m81VL_Hmwai"
      },
      "source": [
        "<p>Python is an object-oriented language. There are many different types of objects in Python. Let's start with the most common object types: <i>strings</i>, <i>integers</i> and <i>floats</i>. Anytime you write words (text) in Python, you're using <i>character strings</i> (strings for short). The most common numbers, on the other hand, are <i>integers</i> (e.g. -1, 0, 100) and <i>floats</i>, which represent real numbers (e.g. 3.14, -42.0).</p>"
      ]
    },
    {
      "cell_type": "markdown",
      "metadata": {
        "id": "LAvUc95smwai"
      },
      "source": [
        "<a align=\"center\">\n",
        "    <img src=\"https://s3-api.us-geo.objectstorage.softlayer.net/cf-courses-data/CognitiveClass/PY0101EN/Chapter%201/Images/TypesObjects.png\" width=\"600\">\n",
        "</a>"
      ]
    },
    {
      "cell_type": "markdown",
      "metadata": {
        "id": "L5LYz2T1mwai"
      },
      "source": [
        "<p>The following code cells contain some examples.</p>"
      ]
    },
    {
      "cell_type": "code",
      "execution_count": null,
      "metadata": {
        "id": "Ba_nLlNWmwaj"
      },
      "outputs": [],
      "source": [
        "# Integer\n",
        "\n",
        "11"
      ]
    },
    {
      "cell_type": "code",
      "execution_count": null,
      "metadata": {
        "id": "4T1URQxxmwaj"
      },
      "outputs": [],
      "source": [
        "# Float\n",
        "\n",
        "2.14"
      ]
    },
    {
      "cell_type": "code",
      "execution_count": null,
      "metadata": {
        "id": "zRwVceyjmwaj"
      },
      "outputs": [],
      "source": [
        "# String\n",
        "\n",
        "\"Hello, Python 101!\""
      ]
    },
    {
      "cell_type": "markdown",
      "metadata": {
        "id": "jC3o6lv3mwaj"
      },
      "source": [
        "<p>You can get Python to tell you the type of an expression by using the built-in <code>type()</code> function. You'll notice that Python refers to integers as <code>int</code>, floats as <code>float</code>, and character strings as <code>str</code>.</p>"
      ]
    },
    {
      "cell_type": "code",
      "execution_count": null,
      "metadata": {
        "id": "sR2nrYtomwak"
      },
      "outputs": [],
      "source": [
        "# Type of 12\n",
        "\n",
        "type(12)"
      ]
    },
    {
      "cell_type": "code",
      "execution_count": null,
      "metadata": {
        "id": "wVV4e43dmwak"
      },
      "outputs": [],
      "source": [
        "# Type of 2.14\n",
        "\n",
        "type(2.14)"
      ]
    },
    {
      "cell_type": "code",
      "execution_count": null,
      "metadata": {
        "id": "qsvH8fXNmwak"
      },
      "outputs": [],
      "source": [
        "# Type of \"Hello, Python 101!\"\n",
        "\n",
        "type(\"Hello, Python 101!\")"
      ]
    },
    {
      "cell_type": "markdown",
      "metadata": {
        "id": "YY6kVBl2mwak"
      },
      "source": [
        "<p>In the code cell below, use the <code>type()</code> function to check the object type of <code>12.0</code>."
      ]
    },
    {
      "cell_type": "code",
      "execution_count": null,
      "metadata": {
        "id": "mCla22Ogmwak"
      },
      "outputs": [],
      "source": [
        "# Write your code below. Don't forget to press Shift+Enter to execute the cell"
      ]
    },
    {
      "cell_type": "markdown",
      "metadata": {
        "id": "sB66y8Vxmwal"
      },
      "source": [
        "Double-click __here__ for the solution.\n",
        "\n",
        "<!-- Your answer is below:\n",
        "\n",
        "type(12.0)\n",
        "\n",
        "-->"
      ]
    },
    {
      "cell_type": "markdown",
      "metadata": {
        "id": "HytNu-Ejmwal"
      },
      "source": [
        "# Integers"
      ]
    },
    {
      "cell_type": "markdown",
      "metadata": {
        "id": "KnAw2D3umwal"
      },
      "source": [
        "<p>Here are some examples of integers. Integers can be negative or positive numbers:</p>"
      ]
    },
    {
      "cell_type": "markdown",
      "metadata": {
        "id": "zlhnMDUUmwal"
      },
      "source": [
        "<a align=\"center\">\n",
        "    <img src=\"https://s3-api.us-geo.objectstorage.softlayer.net/cf-courses-data/CognitiveClass/PY0101EN/Chapter%201/Images/TypesInt.png\" width=\"600\">\n",
        "</a>"
      ]
    },
    {
      "cell_type": "markdown",
      "metadata": {
        "id": "sxM2JwoFmwam"
      },
      "source": [
        "<p>We can verify this is the case by using, you guessed it, the <code>type()</code> function:"
      ]
    },
    {
      "cell_type": "code",
      "execution_count": null,
      "metadata": {
        "id": "OxCp1wJHmwam"
      },
      "outputs": [],
      "source": [
        "# Print the type of -1\n",
        "\n",
        "type(-1)"
      ]
    },
    {
      "cell_type": "code",
      "execution_count": null,
      "metadata": {
        "id": "7lLQ001qmwam"
      },
      "outputs": [],
      "source": [
        "# Print the type of 4\n",
        "\n",
        "type(4)"
      ]
    },
    {
      "cell_type": "code",
      "execution_count": null,
      "metadata": {
        "id": "80xceP3gmwam"
      },
      "outputs": [],
      "source": [
        "# Print the type of 0\n",
        "\n",
        "type(0)"
      ]
    },
    {
      "cell_type": "markdown",
      "metadata": {
        "id": "KKEnHmLrmwam"
      },
      "source": [
        "<h3 id=\"float\">Floats</h3> "
      ]
    },
    {
      "cell_type": "markdown",
      "metadata": {
        "id": "-QnNvbH4mwan"
      },
      "source": [
        "<p>Floats represent real numbers; they are a superset of integer numbers but also include \"numbers with decimals\". There are some limitations when it comes to machines representing real numbers, but floating point numbers are a good representation in most cases. You can learn more about the specifics of floats for your runtime environment, by checking the value of <code>sys.float_info</code>. This will also tell you what's the largest and smallest number that can be represented with them.</p>\n",
        "\n",
        "<p>Once again, can test some examples with the <code>type()</code> function:"
      ]
    },
    {
      "cell_type": "code",
      "execution_count": null,
      "metadata": {
        "id": "YsJswycJmwan"
      },
      "outputs": [],
      "source": [
        "# Print the type of 1.0\n",
        "\n",
        "type(1.0) # Notice that 1 is an int, and 1.0 is a float"
      ]
    },
    {
      "cell_type": "code",
      "execution_count": null,
      "metadata": {
        "id": "xmIuay7Qmwan"
      },
      "outputs": [],
      "source": [
        "# Print the type of 0.5\n",
        "\n",
        "type(0.5)"
      ]
    },
    {
      "cell_type": "code",
      "execution_count": null,
      "metadata": {
        "id": "rWAfHzedmwan"
      },
      "outputs": [],
      "source": [
        "# Print the type of 0.56\n",
        "\n",
        "type(0.56)"
      ]
    },
    {
      "cell_type": "code",
      "execution_count": null,
      "metadata": {
        "id": "9vlhiTjOmwan"
      },
      "outputs": [],
      "source": [
        "# System settings about float type\n",
        "\n",
        "sys.float_info"
      ]
    },
    {
      "cell_type": "markdown",
      "metadata": {
        "id": "6A1qQruTmwao"
      },
      "source": [
        "<h3 id=\"convert\">Converting from one object type to a different object type</h3>"
      ]
    },
    {
      "cell_type": "markdown",
      "metadata": {
        "id": "kzmkwU-rmwao"
      },
      "source": [
        "<p>You can change the type of the object in Python; this is called typecasting. For example, you can convert an <i>integer</i> into a <i>float</i> (e.g. 2 to 2.0).</p>\n",
        "<p>Let's try it:</p>"
      ]
    },
    {
      "cell_type": "code",
      "execution_count": null,
      "metadata": {
        "id": "CZFKnuxHmwao"
      },
      "outputs": [],
      "source": [
        "# Verify that this is an integer\n",
        "\n",
        "type(2)"
      ]
    },
    {
      "cell_type": "markdown",
      "metadata": {
        "id": "4EpPr2Y1mwao"
      },
      "source": [
        "<h4>Converting integers to floats</h4>\n",
        "<p>Let's cast integer 2 to float:</p>"
      ]
    },
    {
      "cell_type": "code",
      "execution_count": null,
      "metadata": {
        "id": "tNpHJXsvmwao"
      },
      "outputs": [],
      "source": [
        "# Convert 2 to a float\n",
        "\n",
        "float(2)"
      ]
    },
    {
      "cell_type": "code",
      "execution_count": null,
      "metadata": {
        "id": "X3nT-vKymwao"
      },
      "outputs": [],
      "source": [
        "# Convert integer 2 to a float and check its type\n",
        "\n",
        "type(float(2))"
      ]
    },
    {
      "cell_type": "markdown",
      "metadata": {
        "id": "DXLiWCvzmwap"
      },
      "source": [
        "<p>When we convert an integer into a float, we don't really change the value (i.e., the significand) of the number. However, if we cast a float into an integer, we could potentially lose some information. For example, if we cast the float 1.1 to integer we will get 1 and lose the decimal information (i.e., 0.1):</p>"
      ]
    },
    {
      "cell_type": "code",
      "execution_count": null,
      "metadata": {
        "id": "C5gptspmmwap"
      },
      "outputs": [],
      "source": [
        "# Casting 1.1 to integer will result in loss of information\n",
        "\n",
        "int(1.1)"
      ]
    },
    {
      "cell_type": "markdown",
      "metadata": {
        "id": "gn7QwZCKmwap"
      },
      "source": [
        "<h4>Converting from strings to integers or floats</h4>"
      ]
    },
    {
      "cell_type": "markdown",
      "metadata": {
        "id": "tKxabMZ9mwaq"
      },
      "source": [
        "<p>Sometimes, we can have a string that contains a number within it. If this is the case, we can cast that string that represents a number into an integer using <code>int()</code>:</p>"
      ]
    },
    {
      "cell_type": "code",
      "execution_count": null,
      "metadata": {
        "id": "IPsnjabNmwaq"
      },
      "outputs": [],
      "source": [
        "# Convert a string into an integer\n",
        "\n",
        "int('1')"
      ]
    },
    {
      "cell_type": "markdown",
      "metadata": {
        "id": "ND1ofvWomwaq"
      },
      "source": [
        "<p>But if you try to do so with a string that is not a perfect match for a number, you'll get an error. Try the following:</p>"
      ]
    },
    {
      "cell_type": "code",
      "execution_count": null,
      "metadata": {
        "id": "nbOtnPGumwaq"
      },
      "outputs": [],
      "source": [
        "# Convert a string into an integer with error\n",
        "\n",
        "int('1 or 2 people')"
      ]
    },
    {
      "cell_type": "markdown",
      "metadata": {
        "id": "8zpBHZ7Umwar"
      },
      "source": [
        "<p>You can also convert strings containing floating point numbers into <i>float</i> objects:</p>"
      ]
    },
    {
      "cell_type": "code",
      "execution_count": null,
      "metadata": {
        "id": "9bYaa5zFmwar"
      },
      "outputs": [],
      "source": [
        "# Convert the string \"1.2\" into a float\n",
        "\n",
        "float('1.2')"
      ]
    },
    {
      "cell_type": "markdown",
      "metadata": {
        "id": "S-mBUMeGmwar"
      },
      "source": [
        "<hr/>\n",
        "<div class=\"alert alert-success alertsuccess\" style=\"margin-top: 20px\">\n",
        "    [Tip:] Note that strings can be represented with single quotes (<code>'1.2'</code>) or double quotes (<code>\"1.2\"</code>), but you can't mix both (e.g., <code>\"1.2'</code>).\n",
        "</div>\n",
        "<hr/>"
      ]
    },
    {
      "cell_type": "markdown",
      "metadata": {
        "id": "0QtCzmS_mwar"
      },
      "source": [
        "<h4>Converting numbers to strings</h4>"
      ]
    },
    {
      "cell_type": "markdown",
      "metadata": {
        "id": "gtjjLeh5mwar"
      },
      "source": [
        "<p>If we can convert strings to numbers, it is only natural to assume that we can convert numbers to strings, right?</p>"
      ]
    },
    {
      "cell_type": "code",
      "execution_count": null,
      "metadata": {
        "id": "tnfGnhjrmwar"
      },
      "outputs": [],
      "source": [
        "# Convert an integer to a string\n",
        "\n",
        "str(1)"
      ]
    },
    {
      "cell_type": "markdown",
      "metadata": {
        "id": "f2-xaCI-mwar"
      },
      "source": [
        "<p>And there is no reason why we shouldn't be able to make floats into strings as well:</p> "
      ]
    },
    {
      "cell_type": "code",
      "execution_count": null,
      "metadata": {
        "id": "BJGCgdvjmwar"
      },
      "outputs": [],
      "source": [
        "# Convert a float to a string\n",
        "\n",
        "str(1.2)"
      ]
    },
    {
      "cell_type": "markdown",
      "metadata": {
        "id": "sf86AN-Vmwas"
      },
      "source": [
        "# Boolean data type"
      ]
    },
    {
      "cell_type": "markdown",
      "metadata": {
        "id": "uzwKeJQomwas"
      },
      "source": [
        "<p><i>Boolean</i> is another important type in Python. An object of type <i>Boolean</i> can take on one of two values: <code>True</code> or <code>False</code>:</p>"
      ]
    },
    {
      "cell_type": "code",
      "execution_count": null,
      "metadata": {
        "id": "2SfGZflKmwas"
      },
      "outputs": [],
      "source": [
        "# Value true\n",
        "\n",
        "True"
      ]
    },
    {
      "cell_type": "markdown",
      "metadata": {
        "id": "NeQf9O5fmwas"
      },
      "source": [
        "<p>Notice that the value <code>True</code> has an uppercase \"T\". The same is true for <code>False</code> (i.e. you must use the uppercase \"F\").</p>"
      ]
    },
    {
      "cell_type": "code",
      "execution_count": null,
      "metadata": {
        "id": "-tb33j3emwas"
      },
      "outputs": [],
      "source": [
        "# Value false\n",
        "\n",
        "False"
      ]
    },
    {
      "cell_type": "markdown",
      "metadata": {
        "id": "SW1gl5T0mwat"
      },
      "source": [
        "<p>When you ask Python to display the type of a boolean object it will show <code>bool</code> which stands for <i>boolean</i>:</p> "
      ]
    },
    {
      "cell_type": "code",
      "execution_count": null,
      "metadata": {
        "id": "weDdQPdSmwat"
      },
      "outputs": [],
      "source": [
        "# Type of True\n",
        "\n",
        "type(True)"
      ]
    },
    {
      "cell_type": "code",
      "execution_count": null,
      "metadata": {
        "id": "G9BNUuIImwat"
      },
      "outputs": [],
      "source": [
        "# Type of False\n",
        "\n",
        "type(False)"
      ]
    },
    {
      "cell_type": "markdown",
      "metadata": {
        "id": "hNBRNskkmwau"
      },
      "source": [
        "<p>We can cast boolean objects to other data types. If we cast a boolean with a value of <code>True</code> to an integer or float we will get a one. If we cast a boolean with a value of <code>False</code> to an integer or float we will get a zero. Similarly, if we cast a 1 to a Boolean, you get a <code>True</code>. And if we cast a 0 to a Boolean we will get a <code>False</code>. Let's give it a try:</p> "
      ]
    },
    {
      "cell_type": "code",
      "execution_count": null,
      "metadata": {
        "id": "lK1htWfCmwau"
      },
      "outputs": [],
      "source": [
        "# Convert True to int\n",
        "\n",
        "int(True)"
      ]
    },
    {
      "cell_type": "code",
      "execution_count": null,
      "metadata": {
        "id": "w8milpmlmwau"
      },
      "outputs": [],
      "source": [
        "# Convert 1 to boolean\n",
        "\n",
        "bool(1)"
      ]
    },
    {
      "cell_type": "code",
      "execution_count": null,
      "metadata": {
        "id": "zPeIE75wmwau"
      },
      "outputs": [],
      "source": [
        "# Convert 0 to boolean\n",
        "\n",
        "bool(0)"
      ]
    },
    {
      "cell_type": "code",
      "execution_count": null,
      "metadata": {
        "id": "OmGMmmrfmwav"
      },
      "outputs": [],
      "source": [
        "# Convert True to float\n",
        "\n",
        "float(True)"
      ]
    },
    {
      "cell_type": "markdown",
      "metadata": {
        "id": "YH0qQKO4mwaw"
      },
      "source": [
        "<h3 id=\"exer_type\">Exercise: Types</h3>"
      ]
    },
    {
      "cell_type": "markdown",
      "metadata": {
        "id": "LAjgf14Vmwaw"
      },
      "source": [
        "<p>What is the data type of the result of: <code>6 / 2</code>?</p>"
      ]
    },
    {
      "cell_type": "code",
      "execution_count": null,
      "metadata": {
        "id": "Gvn-ApwJmwax"
      },
      "outputs": [],
      "source": [
        "# Write your code below. Don't forget to press Shift+Enter to execute the cell"
      ]
    },
    {
      "cell_type": "code",
      "source": [
        "#@title Solution\n",
        "type(6/2) # float"
      ],
      "metadata": {
        "cellView": "form",
        "id": "hiGYeYbg9aYE"
      },
      "execution_count": null,
      "outputs": []
    },
    {
      "cell_type": "markdown",
      "metadata": {
        "id": "EgJviQZ-mwax"
      },
      "source": [
        "<p>What is the type of the result of: <code>6 // 2</code>? (Note the double slash <code>//</code>.)</p>"
      ]
    },
    {
      "cell_type": "code",
      "execution_count": null,
      "metadata": {
        "id": "hOCghpu_mwax"
      },
      "outputs": [],
      "source": [
        "# Write your code below. Don't forget to press Shift+Enter to execute the cell"
      ]
    },
    {
      "cell_type": "code",
      "source": [
        "#@title Solution\n",
        "type(6//2) # int, as the double slashes stand for integer division "
      ],
      "metadata": {
        "cellView": "form",
        "id": "UnXS5UzN91R2"
      },
      "execution_count": null,
      "outputs": []
    },
    {
      "cell_type": "markdown",
      "metadata": {
        "id": "Grwx2Rujmway"
      },
      "source": [
        "<hr>"
      ]
    }
  ],
  "metadata": {
    "anaconda-cloud": {},
    "kernelspec": {
      "display_name": "Python [default]",
      "language": "python",
      "name": "python3"
    },
    "language_info": {
      "codemirror_mode": {
        "name": "ipython",
        "version": 3
      },
      "file_extension": ".py",
      "mimetype": "text/x-python",
      "name": "python",
      "nbconvert_exporter": "python",
      "pygments_lexer": "ipython3",
      "version": "3.5.2"
    },
    "colab": {
      "provenance": [],
      "include_colab_link": true
    }
  },
  "nbformat": 4,
  "nbformat_minor": 0
}