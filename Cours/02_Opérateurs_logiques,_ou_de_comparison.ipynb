{
  "cells": [
    {
      "cell_type": "markdown",
      "metadata": {
        "id": "view-in-github",
        "colab_type": "text"
      },
      "source": [
        "<a href=\"https://colab.research.google.com/github/Yahia-M/Fondamentaux-Python/blob/DS_01/Cours/02_Op%C3%A9rateurs_logiques%2C_ou_de_comparison.ipynb\" target=\"_parent\"><img src=\"https://colab.research.google.com/assets/colab-badge.svg\" alt=\"Open In Colab\"/></a>"
      ]
    },
    {
      "cell_type": "markdown",
      "metadata": {
        "id": "FbNkBLZlOLhb"
      },
      "source": [
        "# Opérateurs logiques, ou de comparison\n",
        "\n",
        "Dans cette lecture nous allons découvrir les opérateurs de comparaison avec Python. Ces opérateurs vont nous permettre de comparer des variables et de produire un Bouléen Vrai (True) ou Faux (False) en fonction du résultat.\n",
        "\n",
        "Si vous avez quelques souvenirs de vos cours de mathématiques, ces opérateurs ne devraient vous poser aucun soucis.\n",
        "\n",
        "Nous allons commencer avec un tableau de comparaison entre ces opérateurs et ensuite découvrir quelques exemples :\n",
        "\n",
        "## Tableau de comparison des opérateurs\n",
        "\n",
        "<table class=\"table table-bordered\">\n",
        "<tr>\n",
        "<th style=\"width:10%\">Opérateur</th><th style=\"width:45%\">Description</th><th>Exemple</th>\n",
        "</tr>\n",
        "<tr>\n",
        "<td>==</td>\n",
        "<td>Si les valeurs des deux opérandes sont égales, alors la condition est vraie.</td>\n",
        "<td> (a == b) n'est pas vrai.</td>\n",
        "</tr>\n",
        "<tr>\n",
        "<td>!=</td>\n",
        "<td>Si les valeurs des deux opérandes ne sont pas égales, alors la condition est vraie.</td>\n",
        "<td>(a != b) est vrai</td>\n",
        "</tr>\n",
        "<tr>\n",
        "<td>&gt;</td>\n",
        "<td>Si la valeur de l'opérande gauche est supérieure à celle de droite, alors la condition est vraie.</td>\n",
        "<td> (a &gt; b) n'est pas vrai.</td>\n",
        "</tr>\n",
        "<tr>\n",
        "<td>&lt;</td>\n",
        "<td>Si la valeur de l'opérande gauche est inférieure à celle de droite, alors la condition est vraie.</td>\n",
        "<td> (a &lt; b) est vrai.</td>\n",
        "</tr>\n",
        "<tr>\n",
        "<td>&gt;=</td>\n",
        "<td>Si la valeur de l'opérande gauche est supérieure ou égale à celle de droite, alors la condition est vraie.</td>\n",
        "<td> (a &gt;= b) n'est pas vrai. </td>\n",
        "</tr>\n",
        "<tr>\n",
        "<td>&lt;=</td>\n",
        "<td>Si la valeur de l'opérande gauche est inférieure ou égale à celle de droite, alors la condition est vraie..</td>\n",
        "<td> (a &lt;= b) est vrai. </td>\n",
        "</tr>\n",
        "</table>"
      ]
    },
    {
      "cell_type": "markdown",
      "metadata": {
        "id": "0CVIL0pMOLhg"
      },
      "source": [
        "Voyons maintenant quelques exemples rapides pour chacun.\n",
        "\n",
        "#### Égalité"
      ]
    },
    {
      "cell_type": "code",
      "execution_count": null,
      "metadata": {
        "id": "n2Ek6_98OLhi",
        "outputId": "c7fe6886-3bdf-4853-e1d0-26b06fc134c8"
      },
      "outputs": [
        {
          "data": {
            "text/plain": [
              "True"
            ]
          },
          "execution_count": 11,
          "metadata": {},
          "output_type": "execute_result"
        }
      ],
      "source": [
        "2 == 2"
      ]
    },
    {
      "cell_type": "code",
      "execution_count": null,
      "metadata": {
        "id": "XAslE8P_OLhk",
        "outputId": "1a2741ad-f53c-49f0-8fb4-88b341be4258"
      },
      "outputs": [
        {
          "data": {
            "text/plain": [
              "False"
            ]
          },
          "execution_count": 12,
          "metadata": {},
          "output_type": "execute_result"
        }
      ],
      "source": [
        "1 == 0"
      ]
    },
    {
      "cell_type": "markdown",
      "metadata": {
        "id": "3gia717dOLhm"
      },
      "source": [
        "texte en gras#### Différent"
      ]
    },
    {
      "cell_type": "code",
      "execution_count": null,
      "metadata": {
        "id": "TqzwrNnQOLhm",
        "outputId": "24f8c0f7-c690-41c5-eac3-27ab247f69c0"
      },
      "outputs": [
        {
          "data": {
            "text/plain": [
              "True"
            ]
          },
          "execution_count": 13,
          "metadata": {},
          "output_type": "execute_result"
        }
      ],
      "source": [
        "2 != 1"
      ]
    },
    {
      "cell_type": "code",
      "execution_count": null,
      "metadata": {
        "id": "zs59i5WxOLho",
        "outputId": "f4e25a61-f665-4a4a-a5ba-918648a42272"
      },
      "outputs": [
        {
          "data": {
            "text/plain": [
              "False"
            ]
          },
          "execution_count": 14,
          "metadata": {},
          "output_type": "execute_result"
        }
      ],
      "source": [
        "2 != 2"
      ]
    },
    {
      "cell_type": "markdown",
      "metadata": {
        "id": "pEc6QdrqOLhq"
      },
      "source": [
        "#### Supérieur"
      ]
    },
    {
      "cell_type": "code",
      "execution_count": null,
      "metadata": {
        "id": "JmI2Uq-5OLhr",
        "outputId": "a4f4da71-40d3-4ce4-f1d0-745a7a73ab48"
      },
      "outputs": [
        {
          "data": {
            "text/plain": [
              "True"
            ]
          },
          "execution_count": 9,
          "metadata": {},
          "output_type": "execute_result"
        }
      ],
      "source": [
        "2 > 1"
      ]
    },
    {
      "cell_type": "code",
      "execution_count": null,
      "metadata": {
        "id": "XpPdnd2KOLht",
        "outputId": "30061230-1a92-4578-856d-2cbe5f14b48a"
      },
      "outputs": [
        {
          "data": {
            "text/plain": [
              "False"
            ]
          },
          "execution_count": 10,
          "metadata": {},
          "output_type": "execute_result"
        }
      ],
      "source": [
        "2 > 4"
      ]
    },
    {
      "cell_type": "markdown",
      "metadata": {
        "id": "nB6szW97OLhu"
      },
      "source": [
        "#### Inférieur"
      ]
    },
    {
      "cell_type": "code",
      "execution_count": null,
      "metadata": {
        "id": "VU7cM_uyOLhv",
        "outputId": "e427fddd-f67d-4413-8437-83b707548504"
      },
      "outputs": [
        {
          "data": {
            "text/plain": [
              "True"
            ]
          },
          "execution_count": 11,
          "metadata": {},
          "output_type": "execute_result"
        }
      ],
      "source": [
        "2 < 4"
      ]
    },
    {
      "cell_type": "code",
      "execution_count": null,
      "metadata": {
        "id": "_I252W6POLhw",
        "outputId": "f20b36eb-ba6f-48e1-87f2-31dd053e8077"
      },
      "outputs": [
        {
          "data": {
            "text/plain": [
              "False"
            ]
          },
          "execution_count": 12,
          "metadata": {},
          "output_type": "execute_result"
        }
      ],
      "source": [
        "2 < 1"
      ]
    },
    {
      "cell_type": "markdown",
      "metadata": {
        "id": "5B4QZlPUOLhx"
      },
      "source": [
        "#### Supérieur ou égal"
      ]
    },
    {
      "cell_type": "code",
      "execution_count": null,
      "metadata": {
        "id": "kgkcD1VhOLhy",
        "outputId": "f88d19bf-4747-48db-b733-bfb341699f2c"
      },
      "outputs": [
        {
          "data": {
            "text/plain": [
              "True"
            ]
          },
          "execution_count": 13,
          "metadata": {},
          "output_type": "execute_result"
        }
      ],
      "source": [
        "2 >= 2"
      ]
    },
    {
      "cell_type": "code",
      "execution_count": null,
      "metadata": {
        "id": "_gVJSQhYOLhy",
        "outputId": "6811d3ce-1b13-42cc-e83c-61a554db05a8"
      },
      "outputs": [
        {
          "data": {
            "text/plain": [
              "True"
            ]
          },
          "execution_count": 14,
          "metadata": {},
          "output_type": "execute_result"
        }
      ],
      "source": [
        "2 >= 1"
      ]
    },
    {
      "cell_type": "markdown",
      "metadata": {
        "id": "amv3bmrjOLh0"
      },
      "source": [
        "#### Inférieur ou égal"
      ]
    },
    {
      "cell_type": "code",
      "execution_count": null,
      "metadata": {
        "id": "KQZrImnSOLh1",
        "outputId": "6f8da729-1e9f-4791-93f3-fb99ff609055"
      },
      "outputs": [
        {
          "data": {
            "text/plain": [
              "True"
            ]
          },
          "execution_count": 15,
          "metadata": {},
          "output_type": "execute_result"
        }
      ],
      "source": [
        "2 <= 2"
      ]
    },
    {
      "cell_type": "code",
      "execution_count": null,
      "metadata": {
        "id": "dCPJd5TdOLh2",
        "outputId": "f6c70ff0-cd91-495c-bca9-bab06429fb08"
      },
      "outputs": [
        {
          "data": {
            "text/plain": [
              "True"
            ]
          },
          "execution_count": 16,
          "metadata": {},
          "output_type": "execute_result"
        }
      ],
      "source": [
        "2 <= 4"
      ]
    },
    {
      "cell_type": "markdown",
      "metadata": {
        "id": "Xb_yUwHAOLh2"
      },
      "source": [
        "**Bravo !\n",
        "Examinez chaque opérateur de comparaison pour vous assurer de bien comprendre ce que chacun fait. Mais je pense que c'était facile**\n",
        "\n",
        "La prochaine fois, nous allons découvrir les opérateurs de comparaison enchainés"
      ]
    }
  ],
  "metadata": {
    "anaconda-cloud": {},
    "kernelspec": {
      "display_name": "Python [default]",
      "language": "python",
      "name": "python3"
    },
    "language_info": {
      "codemirror_mode": {
        "name": "ipython",
        "version": 3
      },
      "file_extension": ".py",
      "mimetype": "text/x-python",
      "name": "python",
      "nbconvert_exporter": "python",
      "pygments_lexer": "ipython3",
      "version": "3.5.2"
    },
    "colab": {
      "provenance": [],
      "include_colab_link": true
    }
  },
  "nbformat": 4,
  "nbformat_minor": 0
}