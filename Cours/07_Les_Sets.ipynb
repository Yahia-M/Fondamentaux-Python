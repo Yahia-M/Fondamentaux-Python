{
  "cells": [
    {
      "cell_type": "markdown",
      "metadata": {
        "id": "view-in-github",
        "colab_type": "text"
      },
      "source": [
        "<a href=\"https://colab.research.google.com/github/Yahia-M/Fondamentaux-Python/blob/DS_01/Cours/07_Les_Sets.ipynb\" target=\"_parent\"><img src=\"https://colab.research.google.com/assets/colab-badge.svg\" alt=\"Open In Colab\"/></a>"
      ]
    },
    {
      "cell_type": "markdown",
      "metadata": {
        "id": "oLyZCiSrOEVV"
      },
      "source": [
        "# Les Sets et les Booléens\n",
        "\n",
        "Il reste deux autres types d'objets Python que nous devons rapidement voir. Les Sets et les Booléens.\n",
        "\n",
        "## Sets\n",
        "\n",
        "Les Sets sont des collections non triées d'éléments *unique*. Nous pouvons les créer avec la fonction set().\n",
        "Voyons comment les utiliser."
      ]
    },
    {
      "cell_type": "code",
      "execution_count": null,
      "metadata": {
        "collapsed": true,
        "id": "TfRvvYVwOEVX"
      },
      "outputs": [],
      "source": [
        "x = set()"
      ]
    },
    {
      "cell_type": "code",
      "execution_count": null,
      "metadata": {
        "collapsed": true,
        "id": "vc1B39g-OEVY"
      },
      "outputs": [],
      "source": [
        "# Nous pouvons ajouter des éléments avec la méthode add\n",
        "x.add(1)"
      ]
    },
    {
      "cell_type": "code",
      "execution_count": null,
      "metadata": {
        "id": "NSXQMsmVOEVZ",
        "outputId": "6f9b79df-a68b-4b06-88a8-8a775e2f40c9"
      },
      "outputs": [
        {
          "data": {
            "text/plain": [
              "{1}"
            ]
          },
          "execution_count": 4,
          "metadata": {},
          "output_type": "execute_result"
        }
      ],
      "source": [
        "# Visualiser le contenu\n",
        "x"
      ]
    },
    {
      "cell_type": "markdown",
      "metadata": {
        "id": "vNvtOTqzOEVa"
      },
      "source": [
        "Remarquez les accolades. Il ne faut pourtant pas confondre avec un dictionnaire ! Vous pouvez au mieux trouver une analogie avec un dictionnaire qui ne contiendrait que des clefs.\n",
        "\n",
        "Nous avons dit que les éléments d'un set sont uniques. Que se passe-t-il quand on essaie d'ajouter quelque chose qui existe déjà dans le set ?\n"
      ]
    },
    {
      "cell_type": "code",
      "execution_count": null,
      "metadata": {
        "collapsed": true,
        "id": "M8_o5f-8OEVa"
      },
      "outputs": [],
      "source": [
        "# Ajouter un élement différent\n",
        "x.add(2)"
      ]
    },
    {
      "cell_type": "code",
      "execution_count": null,
      "metadata": {
        "id": "UDMaoOd-OEVb",
        "outputId": "89b47eaa-849e-40bd-b944-fa5b5375341e"
      },
      "outputs": [
        {
          "data": {
            "text/plain": [
              "{1, 2}"
            ]
          },
          "execution_count": 6,
          "metadata": {},
          "output_type": "execute_result"
        }
      ],
      "source": [
        "# Visualiser le contenu\n",
        "x"
      ]
    },
    {
      "cell_type": "code",
      "execution_count": null,
      "metadata": {
        "collapsed": true,
        "id": "I01Yh_QROEVc"
      },
      "outputs": [],
      "source": [
        "# Essaye d'ajouter un élément déjà présent\n",
        "x.add(1)"
      ]
    },
    {
      "cell_type": "code",
      "execution_count": null,
      "metadata": {
        "id": "y1pR9ChrOEVd",
        "outputId": "ca6e01a0-4d9f-48fc-a8bd-4d20ef23e0f1"
      },
      "outputs": [
        {
          "data": {
            "text/plain": [
              "{1, 2}"
            ]
          },
          "execution_count": 9,
          "metadata": {},
          "output_type": "execute_result"
        }
      ],
      "source": [
        "# Visualiser le contenu\n",
        "x"
      ]
    },
    {
      "cell_type": "markdown",
      "metadata": {
        "id": "1ucfaqz3OEVd"
      },
      "source": [
        "Remarquez qu'il n'y a pas eu l'ajout d'un autre élément 1 ici. C'est parce que le set ne contient que des éléments uniques ! Il est possible d'intégrer une liste avec des éléments dupliqués dans un set pour isoler les éléments distincts.\n",
        "Par exemple : "
      ]
    },
    {
      "cell_type": "code",
      "execution_count": null,
      "metadata": {
        "collapsed": true,
        "id": "qPVm48O-OEVe"
      },
      "outputs": [],
      "source": [
        "# Crée une liste avec des éléments dupliqués\n",
        "l = [1,1,2,2,3,4,5,6,1,1]"
      ]
    },
    {
      "cell_type": "code",
      "execution_count": null,
      "metadata": {
        "id": "TB5MqIHvOEVe",
        "outputId": "6acfe052-3738-4f76-99a2-ab4487c11322"
      },
      "outputs": [
        {
          "data": {
            "text/plain": [
              "{1, 2, 3, 4, 5, 6}"
            ]
          },
          "execution_count": 12,
          "metadata": {},
          "output_type": "execute_result"
        }
      ],
      "source": [
        "# Redéfinie en set pour isoler les éléments uniques\n",
        "set(l)"
      ]
    },
    {
      "cell_type": "markdown",
      "metadata": {
        "id": "fzUhsisYOEVf"
      },
      "source": [
        "## Booléens\n",
        "\n",
        "Python intègre des variables logiques ou Booléens (avec des noms True et False prédéfinis qui ne sont en fait qu'une représentation des entiers 1 et 0). Il existe aussi un objet indéfini appelé None.\n",
        "\n",
        "Voyons quelques petits exemples rapides de Booléens (nous irons plus en détails un peu plus tard dans le cours)."
      ]
    },
    {
      "cell_type": "code",
      "execution_count": null,
      "metadata": {
        "collapsed": true,
        "id": "vZLgFG3fOEVf"
      },
      "outputs": [],
      "source": [
        "# Définir un objet avec le type Booléen\n",
        "a = True"
      ]
    },
    {
      "cell_type": "code",
      "execution_count": null,
      "metadata": {
        "id": "JL1j2OkaOEVg",
        "outputId": "6b14a94d-9196-489e-f17a-95a6c9b107ba"
      },
      "outputs": [
        {
          "data": {
            "text/plain": [
              "True"
            ]
          },
          "execution_count": 16,
          "metadata": {},
          "output_type": "execute_result"
        }
      ],
      "source": [
        "# Visualiser\n",
        "a"
      ]
    },
    {
      "cell_type": "markdown",
      "metadata": {
        "id": "M7Nfrk27OEVg"
      },
      "source": [
        "Nous pouvons aussi utiliser les opérateurs de comparaison pour créer un booléen. Nous verrons ces opérateurs en détail plus tard dans le cours."
      ]
    },
    {
      "cell_type": "code",
      "execution_count": null,
      "metadata": {
        "id": "vCQiZOV7OEVg",
        "outputId": "6f216ca1-df59-4e2c-ace0-30c5b6f41a39"
      },
      "outputs": [
        {
          "data": {
            "text/plain": [
              "False"
            ]
          },
          "execution_count": 17,
          "metadata": {},
          "output_type": "execute_result"
        }
      ],
      "source": [
        "# La sortie produite est un booléen\n",
        "1 > 2"
      ]
    },
    {
      "cell_type": "markdown",
      "metadata": {
        "id": "XwikdhLdOEVh"
      },
      "source": [
        "Nous pouvons utiliser None pour réserver l'espace d'un objet booléen dont on ne connait pas encore la valeur"
      ]
    },
    {
      "cell_type": "code",
      "execution_count": null,
      "metadata": {
        "collapsed": true,
        "id": "wM6r2J9DOEVi"
      },
      "outputs": [],
      "source": [
        "# Réserver l'espace avec None\n",
        "b = None"
      ]
    },
    {
      "cell_type": "markdown",
      "metadata": {
        "id": "baDF0PRYOEVi"
      },
      "source": [
        "C'est tout !\n",
        "Vous avez maintenant les connaissances de base concernant les différents types d'objets et de structures de données Python. Étape suivante, le test de connaissances pour valider cette partie !"
      ]
    }
  ],
  "metadata": {
    "anaconda-cloud": {},
    "kernelspec": {
      "display_name": "Python [default]",
      "language": "python",
      "name": "python3"
    },
    "language_info": {
      "codemirror_mode": {
        "name": "ipython",
        "version": 3
      },
      "file_extension": ".py",
      "mimetype": "text/x-python",
      "name": "python",
      "nbconvert_exporter": "python",
      "pygments_lexer": "ipython3",
      "version": "3.5.2"
    },
    "colab": {
      "provenance": [],
      "include_colab_link": true
    }
  },
  "nbformat": 4,
  "nbformat_minor": 0
}