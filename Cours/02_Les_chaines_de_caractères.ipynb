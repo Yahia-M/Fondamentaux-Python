{
  "cells": [
    {
      "cell_type": "markdown",
      "metadata": {
        "id": "view-in-github",
        "colab_type": "text"
      },
      "source": [
        "<a href=\"https://colab.research.google.com/github/Yahia-M/Fondamentaux-Python/blob/DS_01/Cours/02_Les_chaines_de_caract%C3%A8res.ipynb\" target=\"_parent\"><img src=\"https://colab.research.google.com/assets/colab-badge.svg\" alt=\"Open In Colab\"/></a>"
      ]
    },
    {
      "cell_type": "markdown",
      "metadata": {
        "id": "yIYl7l8YcIwC"
      },
      "source": [
        "# Les chaines de caractères (strings)"
      ]
    },
    {
      "cell_type": "markdown",
      "metadata": {
        "id": "Az9BHJ0RcIwE"
      },
      "source": [
        "Les chaines de caractères (string) sont utilisées en Python pour enregistrer du texte, comme un nom. En fait, les chaines Python sont une *séquence*, ce qui est un concept Python très important, qui veut dire que Python enregistre chaque élément de la chaine dans une série d'éléments qui se suivent en séquence. Par exemple, Python comprend la chaine \"Bonjour\" comme étant une séquence de lettres organisées dans un ordre spécifique. Ceci veut dire que nous allons pouvoir utiliser l'indexation pour extraire une lettre en particulier (la première, ou la deuxième).\n",
        "\n",
        "Cette idée de séquence est importante avec Python et nous allons y revenir dans le futur.\n",
        "\n",
        "Dans cette section vous allez apprendre :\n",
        "\n",
        "    1.) Création de chaines de caractères\n",
        "    2.) Affichage de chaines de caractères\n",
        "    4.) Indexation et découpage de chaines de caractères\n",
        "    5.) Propriétés des chaines de caractères\n",
        "    6.) Méthodes de base applicables aux chaines de caractères\n",
        "    7.) Formattage de l'affichage"
      ]
    },
    {
      "cell_type": "markdown",
      "metadata": {
        "id": "Kyt0A5uicIwG"
      },
      "source": [
        "## Création de chaines de caractères\n",
        "To create a string in Python you need to use either single quotes or double quotes. For example:"
      ]
    },
    {
      "cell_type": "code",
      "execution_count": null,
      "metadata": {
        "id": "WHaf_rxLcIwG",
        "outputId": "17294c47-52c0-4e6f-fa60-5fe19ee1221f"
      },
      "outputs": [
        {
          "data": {
            "text/plain": [
              "'bonjour'"
            ]
          },
          "execution_count": 1,
          "metadata": {},
          "output_type": "execute_result"
        }
      ],
      "source": [
        "# Un seul mot\n",
        "'bonjour'"
      ]
    },
    {
      "cell_type": "code",
      "execution_count": null,
      "metadata": {
        "id": "MsNd6N3McIwI",
        "outputId": "ff254e02-46d0-4e4f-c882-1ec6a27ed24d"
      },
      "outputs": [
        {
          "data": {
            "text/plain": [
              "'Ceci est aussi une chaine'"
            ]
          },
          "execution_count": 2,
          "metadata": {},
          "output_type": "execute_result"
        }
      ],
      "source": [
        "# Une phrase \n",
        "'Ceci est aussi une chaine'"
      ]
    },
    {
      "cell_type": "code",
      "execution_count": null,
      "metadata": {
        "id": "B85XqGiucIwJ",
        "outputId": "9a51b02d-bb54-4002-f252-926ae38fa80e"
      },
      "outputs": [
        {
          "data": {
            "text/plain": [
              "'Une chaine avec des doubles guillemets'"
            ]
          },
          "execution_count": 3,
          "metadata": {},
          "output_type": "execute_result"
        }
      ],
      "source": [
        "# On peut aussi utiliser les doubles guillemets\n",
        "\"Une chaine avec des doubles guillemets\""
      ]
    },
    {
      "cell_type": "code",
      "execution_count": null,
      "metadata": {
        "id": "32m8eVxucIwJ",
        "outputId": "d646e83c-ef48-423b-fc9e-0064c19ec869"
      },
      "outputs": [
        {
          "ename": "SyntaxError",
          "evalue": "invalid syntax (<ipython-input-4-237016a3751d>, line 2)",
          "output_type": "error",
          "traceback": [
            "\u001b[0;36m  File \u001b[0;32m\"<ipython-input-4-237016a3751d>\"\u001b[0;36m, line \u001b[0;32m2\u001b[0m\n\u001b[0;31m    'Maintenant, j'ai une apostrophe et ça va générer une erreur'\u001b[0m\n\u001b[0m                    ^\u001b[0m\n\u001b[0;31mSyntaxError\u001b[0m\u001b[0;31m:\u001b[0m invalid syntax\n"
          ]
        }
      ],
      "source": [
        "# Attention aux apostrophes\n",
        "'Maintenant, j'ai une apostrophe et ça va générer une erreur'"
      ]
    },
    {
      "cell_type": "markdown",
      "metadata": {
        "id": "PLpHcvebcIwL"
      },
      "source": [
        "La raison de l'erreur précédente est que l'apostrophe de j'ai a fermé la chaine de caractères. Il faut plutôt utiliser des doubles guillemets pour encadrer la chaine et obtenir le résultat escompté."
      ]
    },
    {
      "cell_type": "code",
      "execution_count": null,
      "metadata": {
        "id": "mzuQlC65cIwR",
        "outputId": "398960f5-0c37-4ad9-fb96-dee5308dfab1"
      },
      "outputs": [
        {
          "data": {
            "text/plain": [
              "\"Le double guilemet évite les problème d'apostrophe\""
            ]
          },
          "execution_count": 5,
          "metadata": {},
          "output_type": "execute_result"
        }
      ],
      "source": [
        "# Le double guilemet évite les problème d'apostrophe\n",
        "\"Le double guilemet évite les problème d'apostrophe\""
      ]
    },
    {
      "cell_type": "markdown",
      "metadata": {
        "id": "uINmtit9cIwT"
      },
      "source": [
        "Maintenant, voyons comment afficher les chaines de caractères !"
      ]
    },
    {
      "cell_type": "markdown",
      "metadata": {
        "id": "G7SV5t56cIwT"
      },
      "source": [
        "## Affichage de chaines de caractères\n",
        "\n",
        "Avec les notebooks Jupyter il suffit de mettre une chaine de caractères dans une cellule pour qu'automatiquement elle soit affichée, mais la manière correcte d'afficher une chaine de caractères est d'utiliser la fonction print()."
      ]
    },
    {
      "cell_type": "code",
      "execution_count": null,
      "metadata": {
        "id": "ZlHU2ofocIwU",
        "outputId": "f4b9f595-8d9d-4f69-f763-542738618888"
      },
      "outputs": [
        {
          "data": {
            "text/plain": [
              "'Bonjour le monde'"
            ]
          },
          "execution_count": 6,
          "metadata": {},
          "output_type": "execute_result"
        }
      ],
      "source": [
        "# On peut tout simplement déclarer une chaine\n",
        "'Bonjour le monde'"
      ]
    },
    {
      "cell_type": "code",
      "execution_count": null,
      "metadata": {
        "id": "-7K-0wOicIwU",
        "outputId": "e4c366ad-57e0-451d-c288-20fdd538738d"
      },
      "outputs": [
        {
          "data": {
            "text/plain": [
              "'Bonjour le monde 2'"
            ]
          },
          "execution_count": 7,
          "metadata": {},
          "output_type": "execute_result"
        }
      ],
      "source": [
        "# Noter qu'on ne peut PAS afficher plusieurs chaines de cette manière\n",
        "'Bonjour le monde 1'\n",
        "'Bonjour le monde 2'"
      ]
    },
    {
      "cell_type": "markdown",
      "metadata": {
        "id": "vXDNJ3wkcIwU"
      },
      "source": [
        "Nous pouvons utiliser la fonction print() pour afficher une ou plusieurs chaines"
      ]
    },
    {
      "cell_type": "code",
      "execution_count": null,
      "metadata": {
        "id": "lsOJ7P7RcIwV",
        "outputId": "dc9e30a0-ec5c-4069-fc97-7b1b185122e3"
      },
      "outputs": [
        {
          "name": "stdout",
          "output_type": "stream",
          "text": [
            "Bonjour le monde\n",
            "Bonjour le monde\n",
            "Ceci \n",
            " permet de sauter une ligne\n",
            "\n",
            "\n",
            "Vous voyez ce que je veux dire ?\n"
          ]
        }
      ],
      "source": [
        "print('Bonjour le monde')\n",
        "print('Bonjour le monde')\n",
        "print('Ceci \\n permet de sauter une ligne')\n",
        "print('\\n')\n",
        "print('Vous voyez ce que je veux dire ?')"
      ]
    },
    {
      "cell_type": "markdown",
      "metadata": {
        "id": "x2SxnNNZcIwV"
      },
      "source": [
        "## Les bases des chaines de caractères"
      ]
    },
    {
      "cell_type": "markdown",
      "metadata": {
        "id": "MOTTx2DfcIwW"
      },
      "source": [
        "Nous pouvons utiliser la fonction len() pour connaitre la longueur d'une chaine !"
      ]
    },
    {
      "cell_type": "code",
      "execution_count": null,
      "metadata": {
        "id": "Pz17Ll69cIwX",
        "outputId": "d2731459-d101-4b59-e2fc-beaf56dc68e0"
      },
      "outputs": [
        {
          "data": {
            "text/plain": [
              "16"
            ]
          },
          "execution_count": 9,
          "metadata": {},
          "output_type": "execute_result"
        }
      ],
      "source": [
        "len('Bonjour le monde')"
      ]
    },
    {
      "cell_type": "markdown",
      "metadata": {
        "id": "94eApE3JcIwX"
      },
      "source": [
        "## Indexation et découpage de chaines de caractères\n",
        "\n",
        "Nous savons que les chaines sont des séquences, ce qui veut dire que Python pourra utiliser des index pour isoler des éléments dans la séquence. Voyons comment cela fonctionne.\n",
        "\n",
        "En Python, nous utilisons des crochets [] après un objet pour appeler son index. Il faut aussi noter que l'indexage commence à 0 pour Python.\n",
        "\n",
        "Créons maintenant un nouvel objet appelé s pour parcourir quelques exemples d'indexage."
      ]
    },
    {
      "cell_type": "code",
      "execution_count": null,
      "metadata": {
        "collapsed": true,
        "id": "Yz-8AOiXcIwY"
      },
      "outputs": [],
      "source": [
        "# Assignation de s comme chaine de caractères\n",
        "s = 'Bonjour le monde'"
      ]
    },
    {
      "cell_type": "code",
      "execution_count": null,
      "metadata": {
        "id": "CmSQEY2KcIwY",
        "outputId": "7024dfee-32af-4caf-c03b-2193f308bd3c"
      },
      "outputs": [
        {
          "data": {
            "text/plain": [
              "'Bonjour le monde'"
            ]
          },
          "execution_count": 11,
          "metadata": {},
          "output_type": "execute_result"
        }
      ],
      "source": [
        "# Vérification\n",
        "s"
      ]
    },
    {
      "cell_type": "code",
      "execution_count": null,
      "metadata": {
        "id": "1GtlTUNacIwZ",
        "outputId": "15aaae8f-166f-47b5-f769-f716afdf779b"
      },
      "outputs": [
        {
          "name": "stdout",
          "output_type": "stream",
          "text": [
            "Bonjour le monde\n"
          ]
        }
      ],
      "source": [
        "# Affichage de l'objet\n",
        "print(s) "
      ]
    },
    {
      "cell_type": "markdown",
      "metadata": {
        "id": "eYvOh3FfcIwZ"
      },
      "source": [
        "Jouons avec les index !"
      ]
    },
    {
      "cell_type": "code",
      "execution_count": null,
      "metadata": {
        "id": "xHPm7GW0cIwZ",
        "outputId": "c69201e5-775e-4df9-92bc-216c0d7f43db"
      },
      "outputs": [
        {
          "data": {
            "text/plain": [
              "'B'"
            ]
          },
          "execution_count": 13,
          "metadata": {},
          "output_type": "execute_result"
        }
      ],
      "source": [
        "# Voici le premier élément (dans ce cas une lettre)\n",
        "s[0]"
      ]
    },
    {
      "cell_type": "code",
      "execution_count": null,
      "metadata": {
        "id": "2h16ok7scIwa",
        "outputId": "6f352150-0efe-41b7-b89a-84a17a9b6530"
      },
      "outputs": [
        {
          "data": {
            "text/plain": [
              "'o'"
            ]
          },
          "execution_count": 14,
          "metadata": {},
          "output_type": "execute_result"
        }
      ],
      "source": [
        "s[1]"
      ]
    },
    {
      "cell_type": "code",
      "execution_count": null,
      "metadata": {
        "id": "FFe8LwtpcIwa",
        "outputId": "780fcde2-96aa-4ae1-cf73-9bf65f4cdb46"
      },
      "outputs": [
        {
          "data": {
            "text/plain": [
              "'n'"
            ]
          },
          "execution_count": 15,
          "metadata": {},
          "output_type": "execute_result"
        }
      ],
      "source": [
        "s[2]"
      ]
    },
    {
      "cell_type": "markdown",
      "metadata": {
        "id": "mpg2veLKcIwa"
      },
      "source": [
        "Nous pouvons utiliser les deux points :  pour *découper* et extraire depuis ou jusqu'à un certain point.\n",
        "Par exemple :"
      ]
    },
    {
      "cell_type": "code",
      "execution_count": null,
      "metadata": {
        "id": "C7fs5darcIwb",
        "outputId": "42ed3b5c-7e93-4d69-97a1-93b63846c3bd"
      },
      "outputs": [
        {
          "data": {
            "text/plain": [
              "'onjour le monde'"
            ]
          },
          "execution_count": 16,
          "metadata": {},
          "output_type": "execute_result"
        }
      ],
      "source": [
        "# Tout extraire après le premier caractère, pour la longueur de la chaine qui est len(s)\n",
        "s[1:]"
      ]
    },
    {
      "cell_type": "code",
      "execution_count": null,
      "metadata": {
        "id": "nme7GySccIwb",
        "outputId": "b99e62d5-6b16-481f-d385-534d5fd7492b"
      },
      "outputs": [
        {
          "data": {
            "text/plain": [
              "'Bonjour le monde'"
            ]
          },
          "execution_count": 17,
          "metadata": {},
          "output_type": "execute_result"
        }
      ],
      "source": [
        "# Notez que la chaine s n'est pas modifiée\n",
        "s"
      ]
    },
    {
      "cell_type": "code",
      "execution_count": null,
      "metadata": {
        "id": "3jpWe1nucIwc",
        "outputId": "3c83ef8f-860f-47bb-e948-16a7b34c69d9"
      },
      "outputs": [
        {
          "data": {
            "text/plain": [
              "'Bon'"
            ]
          },
          "execution_count": 18,
          "metadata": {},
          "output_type": "execute_result"
        }
      ],
      "source": [
        "# Tout extraire jusqu'à  l'élément d'index 3\n",
        "s[:3]"
      ]
    },
    {
      "cell_type": "markdown",
      "metadata": {
        "id": "isJsvUSbcIwc"
      },
      "source": [
        "Noter le découpage précédent. Ici nous disons à Python de tout extraire depuis l'index 0 au 3, mais ce dernier n'est pas inclus. Vous verrez cela souvent avec Python, les instructions sont souvent dans le contexte de \"jusqu'à, non inclus\"."
      ]
    },
    {
      "cell_type": "code",
      "execution_count": null,
      "metadata": {
        "id": "4OC1i_4vcIwc",
        "outputId": "e2aedb3f-51ae-42f5-95a1-1ee34ba5629a"
      },
      "outputs": [
        {
          "data": {
            "text/plain": [
              "'Bonjour le monde'"
            ]
          },
          "execution_count": 19,
          "metadata": {},
          "output_type": "execute_result"
        }
      ],
      "source": [
        "# Tout\n",
        "s[:]"
      ]
    },
    {
      "cell_type": "markdown",
      "metadata": {
        "id": "5YhAlg0jcIwc"
      },
      "source": [
        "Il est aussi possible d'utiliser des index négatifs pour aller à rebours."
      ]
    },
    {
      "cell_type": "code",
      "execution_count": null,
      "metadata": {
        "id": "xWWjJEmDcIwc",
        "outputId": "4ea8f1fb-d620-41a7-9cb3-2364a5f91ecd"
      },
      "outputs": [
        {
          "data": {
            "text/plain": [
              "'e'"
            ]
          },
          "execution_count": 20,
          "metadata": {},
          "output_type": "execute_result"
        }
      ],
      "source": [
        "# Dernière lettre (un index avant 0, nous rebouclons au début)\n",
        "s[-1]"
      ]
    },
    {
      "cell_type": "code",
      "execution_count": null,
      "metadata": {
        "id": "TNgVGE4icIwc",
        "outputId": "17c6c3e2-bad3-4565-e8bc-7dd1d7813aff"
      },
      "outputs": [
        {
          "data": {
            "text/plain": [
              "'Bonjour le mond'"
            ]
          },
          "execution_count": 21,
          "metadata": {},
          "output_type": "execute_result"
        }
      ],
      "source": [
        "# Extraire tout sauf la dernière lettre\n",
        "s[:-1]"
      ]
    },
    {
      "cell_type": "markdown",
      "metadata": {
        "collapsed": false,
        "id": "oTvhuujjcIwd"
      },
      "source": [
        "Nous pouvons aussi utiliser les index et la notation de découpage pour extraire les éléments d'une séquence par intervalles d'une taille donnée (1 par défaut). Par exemple nous pouvons utiliser deux : à la fois et ensuite un nombre pour spécifier l'intervalle.\n",
        "Par exemple :"
      ]
    },
    {
      "cell_type": "code",
      "execution_count": null,
      "metadata": {
        "id": "xeD-nvH9cIwd",
        "outputId": "0221f05f-9a33-4c13-fc6f-00f195e7e530"
      },
      "outputs": [
        {
          "data": {
            "text/plain": [
              "'Bonjour le monde'"
            ]
          },
          "execution_count": 22,
          "metadata": {},
          "output_type": "execute_result"
        }
      ],
      "source": [
        "# Tout extraire, par intervalles de 1\n",
        "s[::1]"
      ]
    },
    {
      "cell_type": "code",
      "execution_count": null,
      "metadata": {
        "id": "RrJP3stncIwd",
        "outputId": "d612fb58-6ec7-4794-fa30-f5bfefb52c75"
      },
      "outputs": [
        {
          "data": {
            "text/plain": [
              "'Bnorl od'"
            ]
          },
          "execution_count": 23,
          "metadata": {},
          "output_type": "execute_result"
        }
      ],
      "source": [
        "# Tout extraire, par intervalles de 2\n",
        "s[::2]"
      ]
    },
    {
      "cell_type": "code",
      "execution_count": null,
      "metadata": {
        "id": "T0JXMtt5cIwd",
        "outputId": "5dae1544-3930-4469-fc84-add0f8e39f9a"
      },
      "outputs": [
        {
          "data": {
            "text/plain": [
              "'ednom el ruojnoB'"
            ]
          },
          "execution_count": 24,
          "metadata": {},
          "output_type": "execute_result"
        }
      ],
      "source": [
        "# On peut aussi utiliser cette notation pour afficher une chaine à l'envers\n",
        "s[::-1]"
      ]
    },
    {
      "cell_type": "markdown",
      "metadata": {
        "collapsed": true,
        "id": "N5ztY5qpcIwe"
      },
      "source": [
        "## Propriétés des chaines de caractères\n",
        "\n",
        "Il est important de remarquer que les chaines ont une propriété importante appelée immuabilité en langage informatique, on dirait plutôt invariable en langage courant. Ceci signifie que une fois qu'une chaine est créée, ses élements ne peuvent pas être changés ou remplacés.\n",
        "Par exemple :"
      ]
    },
    {
      "cell_type": "code",
      "execution_count": null,
      "metadata": {
        "id": "2vFS0KMXcIwe",
        "outputId": "90b68a76-4fc5-4c6c-f544-515b46e49aa8"
      },
      "outputs": [
        {
          "data": {
            "text/plain": [
              "'Bonjour le monde'"
            ]
          },
          "execution_count": 25,
          "metadata": {},
          "output_type": "execute_result"
        }
      ],
      "source": [
        "s"
      ]
    },
    {
      "cell_type": "code",
      "execution_count": null,
      "metadata": {
        "id": "Ka7tMiTMcIwe",
        "outputId": "87c37e8a-9920-4655-c332-a4ae33235e1c"
      },
      "outputs": [
        {
          "ename": "TypeError",
          "evalue": "'str' object does not support item assignment",
          "output_type": "error",
          "traceback": [
            "\u001b[0;31m---------------------------------------------------------------------------\u001b[0m",
            "\u001b[0;31mTypeError\u001b[0m                                 Traceback (most recent call last)",
            "\u001b[0;32m<ipython-input-26-f8f8df967306>\u001b[0m in \u001b[0;36m<module>\u001b[0;34m()\u001b[0m\n\u001b[1;32m      1\u001b[0m \u001b[0;31m# Essayons de changer la première lettre en 'x'\u001b[0m\u001b[0;34m\u001b[0m\u001b[0;34m\u001b[0m\u001b[0m\n\u001b[0;32m----> 2\u001b[0;31m \u001b[0ms\u001b[0m\u001b[0;34m[\u001b[0m\u001b[0;36m0\u001b[0m\u001b[0;34m]\u001b[0m \u001b[0;34m=\u001b[0m \u001b[0;34m'x'\u001b[0m\u001b[0;34m\u001b[0m\u001b[0m\n\u001b[0m",
            "\u001b[0;31mTypeError\u001b[0m: 'str' object does not support item assignment"
          ]
        }
      ],
      "source": [
        "# Essayons de changer la première lettre en 'x'\n",
        "s[0] = 'x'"
      ]
    },
    {
      "cell_type": "markdown",
      "metadata": {
        "id": "s6OUaCiBcIwf"
      },
      "source": [
        "Remarquez que le message d'erreur nous dit explicitement (en anglais...) ce que nous ne pouvons pas faire, changer l'assignation d'un item, d'un élément de la chaine.\n",
        "\n",
        "Ce que nous pouvons faire en revanche est de concaténer des chaines de caractères !"
      ]
    },
    {
      "cell_type": "code",
      "execution_count": null,
      "metadata": {
        "id": "Dtw4ofnjcIwf",
        "outputId": "b5c02b05-280f-471e-ccb6-6f6f906425f7"
      },
      "outputs": [
        {
          "data": {
            "text/plain": [
              "'Bonjour le monde'"
            ]
          },
          "execution_count": 27,
          "metadata": {},
          "output_type": "execute_result"
        }
      ],
      "source": [
        "s"
      ]
    },
    {
      "cell_type": "code",
      "execution_count": null,
      "metadata": {
        "id": "X9X3EsKWcIwf",
        "outputId": "3fc523be-3c7c-4675-ff09-8931b867033a"
      },
      "outputs": [
        {
          "data": {
            "text/plain": [
              "'Bonjour le monde ajoute moi !'"
            ]
          },
          "execution_count": 28,
          "metadata": {},
          "output_type": "execute_result"
        }
      ],
      "source": [
        "# Concaténer des chaines de caractères!\n",
        "s + ' ajoute moi !'"
      ]
    },
    {
      "cell_type": "code",
      "execution_count": null,
      "metadata": {
        "collapsed": true,
        "id": "gGWl8eNPcIwf"
      },
      "outputs": [],
      "source": [
        "# Nous pouvons faire une nouvelle assignation de s !\n",
        "s = s + ' ajoute moi !'"
      ]
    },
    {
      "cell_type": "code",
      "execution_count": null,
      "metadata": {
        "id": "bE0KFdeScIwf",
        "outputId": "9f0b0464-4bb7-4293-8d8c-321d50d2ad4c"
      },
      "outputs": [
        {
          "name": "stdout",
          "output_type": "stream",
          "text": [
            "Bonjour le monde ajoute moi !\n"
          ]
        }
      ],
      "source": [
        "print(s)"
      ]
    },
    {
      "cell_type": "code",
      "execution_count": null,
      "metadata": {
        "id": "nq8tmOTNcIwg",
        "outputId": "a0bf09d7-0977-4a6b-8ce6-7b7ad856352d"
      },
      "outputs": [
        {
          "data": {
            "text/plain": [
              "'Bonjour le monde ajoute moi !'"
            ]
          },
          "execution_count": 31,
          "metadata": {},
          "output_type": "execute_result"
        }
      ],
      "source": [
        "s"
      ]
    },
    {
      "cell_type": "markdown",
      "metadata": {
        "id": "I-vyUPDKcIwg"
      },
      "source": [
        "Nous pouvons aussi utliser le symbole de multiplication pour créer une répétition !"
      ]
    },
    {
      "cell_type": "code",
      "execution_count": null,
      "metadata": {
        "collapsed": true,
        "id": "vh3tX3tOcIwg"
      },
      "outputs": [],
      "source": [
        "lettre = 'z'"
      ]
    },
    {
      "cell_type": "code",
      "execution_count": null,
      "metadata": {
        "id": "rf25758xcIwg",
        "outputId": "b60070c5-7ed2-438f-ed76-abdc0925e88b"
      },
      "outputs": [
        {
          "data": {
            "text/plain": [
              "'zzzzzzzzzz'"
            ]
          },
          "execution_count": 33,
          "metadata": {},
          "output_type": "execute_result"
        }
      ],
      "source": [
        "lettre*10"
      ]
    },
    {
      "cell_type": "markdown",
      "metadata": {
        "id": "YMPG9xs1cIwh"
      },
      "source": [
        "## Méthodes de base applicables aux chaines de caractères\n",
        "\n",
        "Les objets en Python ont généralement des méthodes intégrées. Ces méthodes sont des fonctions internes à l'objet (nous en apprendrons plus à ce propos un peu plus tard) qui vont exécuter des actions ou des commandes sur l'objet lui-même.\n",
        "\n",
        "L'appel à une méthode se fait avec un point suivit du nom de la méthode, sous cette forme :\n",
        "\n",
        "objet.methode(paramètres)\n",
        "\n",
        "Les paramètres sont des arguments supplémentaires que nous pouvons passer à la méthode. Ne vous inquiétez pas trop si tous ces détails ne sont paas clairs à 100%. Plus tard nous verrons comment créer nos propres objets et fonctions !\n",
        "\n",
        "Voici quelques exemples de méthodes intégrées pour les chaines de caractères :"
      ]
    },
    {
      "cell_type": "code",
      "execution_count": null,
      "metadata": {
        "id": "BgNrCa3icIwi",
        "outputId": "6760dbff-1c7e-477f-9e72-2b38f966a910"
      },
      "outputs": [
        {
          "data": {
            "text/plain": [
              "'Bonjour le monde ajoute moi !'"
            ]
          },
          "execution_count": 34,
          "metadata": {},
          "output_type": "execute_result"
        }
      ],
      "source": [
        "s"
      ]
    },
    {
      "cell_type": "code",
      "execution_count": null,
      "metadata": {
        "id": "u1VwQQ3dcIwi",
        "outputId": "6a716583-f7c2-4e1e-d912-16ed8dc105db"
      },
      "outputs": [
        {
          "data": {
            "text/plain": [
              "'BONJOUR LE MONDE AJOUTE MOI !'"
            ]
          },
          "execution_count": 35,
          "metadata": {},
          "output_type": "execute_result"
        }
      ],
      "source": [
        "# Mettre une chaine en majuscules\n",
        "s.upper()"
      ]
    },
    {
      "cell_type": "code",
      "execution_count": null,
      "metadata": {
        "id": "0PiYC-k8cIwi",
        "outputId": "2d5e9452-daa9-4860-edb0-fcced49e7df2"
      },
      "outputs": [
        {
          "data": {
            "text/plain": [
              "'bonjour le monde ajoute moi !'"
            ]
          },
          "execution_count": 36,
          "metadata": {},
          "output_type": "execute_result"
        }
      ],
      "source": [
        "# En minuscules\n",
        "s.lower()"
      ]
    },
    {
      "cell_type": "code",
      "execution_count": null,
      "metadata": {
        "id": "yJMFuO9jcIwj",
        "outputId": "f1f73445-c1d2-4556-c3cb-c5263d6ab013"
      },
      "outputs": [
        {
          "data": {
            "text/plain": [
              "['Bonjour', 'le', 'monde', 'ajoute', 'moi', '!']"
            ]
          },
          "execution_count": 37,
          "metadata": {},
          "output_type": "execute_result"
        }
      ],
      "source": [
        "# Couper une chaine par les caractères espace (le défaut)\n",
        "s.split()"
      ]
    },
    {
      "cell_type": "code",
      "execution_count": null,
      "metadata": {
        "id": "zCWCMtmGcIwj",
        "outputId": "d984099f-7a1a-4531-b9a2-89e6d015c60a"
      },
      "outputs": [
        {
          "data": {
            "text/plain": [
              "['Bonjour ', 'e monde ajoute moi !']"
            ]
          },
          "execution_count": 38,
          "metadata": {},
          "output_type": "execute_result"
        }
      ],
      "source": [
        "# Couper une chaine sur un caractère spécifique (l'élément qui sert au découpage n'est pas inclus)\n",
        "s.split('l')"
      ]
    },
    {
      "cell_type": "markdown",
      "metadata": {
        "id": "1b4DWvGecIwk"
      },
      "source": [
        "Il y a beaucoup d'autres méthodes que celles que nous venons de voir. Vous pouvez en avoir une idée en tapant sur la touche 'tabulation' après le point sui suit le nom de la variable.\n",
        "Visitez la section avancée sur les chaines de caractères pour le découvrir !"
      ]
    },
    {
      "cell_type": "markdown",
      "metadata": {
        "id": "73WVOO4hcIwk"
      },
      "source": [
        "## Formattage de l'affichage\n",
        "\n",
        "Nous pouvons utiliser la méthode .format() pour ajouter des objets formattés aux affichages.\n",
        "\n",
        "La manière la plus facile de comprendre cela est à travers un exemple :"
      ]
    },
    {
      "cell_type": "code",
      "execution_count": null,
      "metadata": {
        "id": "gUzMotKMcIwk",
        "outputId": "1f5e69b6-e728-4332-bf72-6254b36b07a5"
      },
      "outputs": [
        {
          "data": {
            "text/plain": [
              "'Insérer une chaine avec des acolades : la chaine insérée'"
            ]
          },
          "execution_count": 39,
          "metadata": {},
          "output_type": "execute_result"
        }
      ],
      "source": [
        "'Insérer une chaine avec des acolades : {}'.format('la chaine insérée')"
      ]
    },
    {
      "cell_type": "code",
      "source": [],
      "metadata": {
        "id": "CHsl6nbGL8Ee"
      },
      "execution_count": null,
      "outputs": []
    },
    {
      "cell_type": "markdown",
      "metadata": {
        "id": "uBBhs5FtWg67"
      },
      "source": [
        "# String Operations in Python"
      ]
    },
    {
      "cell_type": "markdown",
      "metadata": {
        "id": "jE5XkrLxWg67"
      },
      "source": [
        "**Reading input user**\n",
        "\n",
        "Use input() function to read the information given by the user"
      ]
    },
    {
      "cell_type": "code",
      "execution_count": null,
      "metadata": {
        "id": "7MUY7QdNWg68"
      },
      "outputs": [],
      "source": [
        "name = input('Enter your name: ')"
      ]
    },
    {
      "cell_type": "code",
      "execution_count": null,
      "metadata": {
        "scrolled": true,
        "id": "qRqmSnRWWg68"
      },
      "outputs": [],
      "source": [
        "#Print the given name\n"
      ]
    },
    {
      "cell_type": "markdown",
      "metadata": {
        "id": "gP8aCMeDWg68"
      },
      "source": [
        "**String Concatenation**"
      ]
    },
    {
      "cell_type": "code",
      "execution_count": null,
      "metadata": {
        "id": "tfYtIc6uWg68"
      },
      "outputs": [],
      "source": [
        "# Concatenation\n",
        "str1 = \"Hello\"\n",
        "str2 = 'there'\n",
        "bob = str1 + str2\n",
        "print (bob)"
      ]
    },
    {
      "cell_type": "code",
      "execution_count": null,
      "metadata": {
        "id": "2urVFwHpWg69"
      },
      "outputs": [],
      "source": [
        "# Concatenation\n",
        "str3 = '123'\n",
        "str3 = str3 + 1"
      ]
    },
    {
      "cell_type": "code",
      "execution_count": null,
      "metadata": {
        "id": "bfY77egFWg69"
      },
      "outputs": [],
      "source": [
        "word=\"Hello world\""
      ]
    },
    {
      "cell_type": "markdown",
      "metadata": {
        "id": "8GMcHSvJWg69"
      },
      "source": [
        "**String properties**"
      ]
    },
    {
      "cell_type": "code",
      "execution_count": null,
      "metadata": {
        "id": "gy08ZkLCWg69"
      },
      "outputs": [],
      "source": [
        "#what's the first caracter of the word"
      ]
    },
    {
      "cell_type": "code",
      "execution_count": null,
      "metadata": {
        "id": "8lgUQECRWg69"
      },
      "outputs": [],
      "source": [
        "#what's the third caracter of the word"
      ]
    },
    {
      "cell_type": "code",
      "execution_count": null,
      "metadata": {
        "id": "zb28TEUFWg6-"
      },
      "outputs": [],
      "source": [
        "#what's the last caracter of the word"
      ]
    },
    {
      "cell_type": "code",
      "execution_count": null,
      "metadata": {
        "id": "tN0V_tAIWg6-"
      },
      "outputs": [],
      "source": [
        "#what's the length of the word"
      ]
    },
    {
      "cell_type": "code",
      "execution_count": null,
      "metadata": {
        "id": "6zHfpr6NWg6-"
      },
      "outputs": [],
      "source": [
        "#print each caracter of the word"
      ]
    },
    {
      "cell_type": "markdown",
      "metadata": {
        "id": "umel6cxnWg6-"
      },
      "source": [
        "**logical Operators**"
      ]
    },
    {
      "cell_type": "code",
      "execution_count": null,
      "metadata": {
        "id": "OilulwqMWg6-"
      },
      "outputs": [],
      "source": [
        "#test if the word contains the letter \"a\""
      ]
    },
    {
      "cell_type": "code",
      "execution_count": null,
      "metadata": {
        "id": "kH-a-PBGWg6_"
      },
      "outputs": [],
      "source": [
        "#test if the word contains the letter \"l\""
      ]
    },
    {
      "cell_type": "code",
      "execution_count": null,
      "metadata": {
        "id": "ub0PfONTWg6_"
      },
      "outputs": [],
      "source": [
        "#test if the word contains the string \"lo\""
      ]
    },
    {
      "cell_type": "markdown",
      "metadata": {
        "id": "jTYoF96WWg6_"
      },
      "source": [
        "**String Operations**"
      ]
    },
    {
      "cell_type": "code",
      "execution_count": null,
      "metadata": {
        "id": "BqHRD87eWg6_"
      },
      "outputs": [],
      "source": [
        "#test if the word starts with the letter \"h\""
      ]
    },
    {
      "cell_type": "code",
      "execution_count": null,
      "metadata": {
        "id": "JwYgVU-_Wg6_"
      },
      "outputs": [],
      "source": [
        "#test if the word ends with the letter \"d\""
      ]
    },
    {
      "cell_type": "code",
      "execution_count": null,
      "metadata": {
        "id": "MF5IvbKsWg7A"
      },
      "outputs": [],
      "source": [
        "#test if the word is upper case"
      ]
    },
    {
      "cell_type": "code",
      "execution_count": null,
      "metadata": {
        "id": "6gKcDRebWg7A"
      },
      "outputs": [],
      "source": [
        "#put the word in upper case"
      ]
    },
    {
      "cell_type": "code",
      "execution_count": null,
      "metadata": {
        "id": "rRlRphyzWg7A"
      },
      "outputs": [],
      "source": [
        "#find the position of string \"World\" in the word"
      ]
    }
  ],
  "metadata": {
    "anaconda-cloud": {},
    "kernelspec": {
      "display_name": "Python [default]",
      "language": "python",
      "name": "python3"
    },
    "language_info": {
      "codemirror_mode": {
        "name": "ipython",
        "version": 3
      },
      "file_extension": ".py",
      "mimetype": "text/x-python",
      "name": "python",
      "nbconvert_exporter": "python",
      "pygments_lexer": "ipython3",
      "version": "3.5.2"
    },
    "colab": {
      "provenance": [],
      "include_colab_link": true
    }
  },
  "nbformat": 4,
  "nbformat_minor": 0
}