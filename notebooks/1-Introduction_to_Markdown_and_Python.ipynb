{
  "cells": [
    {
      "cell_type": "markdown",
      "metadata": {
        "id": "view-in-github",
        "colab_type": "text"
      },
      "source": [
        "<a href=\"https://colab.research.google.com/github/Yahia-M/Fondamentaux-Python/blob/DS_01/notebooks/1-Introduction_to_Markdown_and_Python.ipynb\" target=\"_parent\"><img src=\"https://colab.research.google.com/assets/colab-badge.svg\" alt=\"Open In Colab\"/></a>"
      ]
    },
    {
      "cell_type": "markdown",
      "metadata": {
        "id": "lLTM1Gwfm9dV"
      },
      "source": [
        "# Welcome to this STEM Workshop for Teachers \n",
        "\n",
        "**REMEMBER TO COPY TO DRIVE BEFORE EDITING THIS NOTEBOOK** "
      ]
    },
    {
      "cell_type": "markdown",
      "metadata": {
        "id": "AVwbC168P2Cg"
      },
      "source": [
        "Google Colab notebooks are composed of two types of cells. \n",
        "Blocks of text and blocks of code.\n",
        "\n",
        "In order too create a block of text or code just hover over the cells and click on the words `+ Text`  or `+ Code` above or below the cell.\n",
        "\n",
        "Also you may edit and see the text/code contained in any cell by double clicking or pressing enter once a cell has been selected."
      ]
    },
    {
      "cell_type": "markdown",
      "metadata": {
        "id": "H7PXlbAnQJjI"
      },
      "source": []
    },
    {
      "cell_type": "markdown",
      "metadata": {
        "id": "m_klEiqp9ewu"
      },
      "source": [
        "\n",
        "\n",
        "Here we will learn first about the tools we are going to use and how you and your students can use them.\n",
        "\n",
        "Main tools to learn are \n",
        "1. Markdown\n",
        "  1. Headings\n",
        "  1. Emphasis (**bold**, *italics* and ~strikethrough~)\n",
        "  1. Lists\n",
        "  1. Links\n",
        "  1. Images\n",
        "  1. Code and Syntax Highlighting\n",
        "  1. Tables\n",
        "  1. Block Quotes\n",
        "  1. Horizontal Lines\n",
        "\n",
        "2. $\\LaTeX$ \n",
        "  1. Inline math\n",
        "  2. Block math\n",
        "\n",
        "----------------"
      ]
    },
    {
      "cell_type": "markdown",
      "metadata": {
        "id": "DJKo1bjwRnli"
      },
      "source": [
        "## Headings\n",
        "\n",
        "Headers are used to help section parts of your document and are created using a \\# symbol before the text to be used as a title for your header.\n",
        "\n",
        "\n",
        "A title header will use only one \\#.\n",
        "\n",
        " A subtitle will use two \\##.\n",
        " \n",
        "  The more \\# the lower the level of headers.\n",
        "# Header 1\n",
        "## Header 2\n",
        "### Header 3\n",
        "#### Header 4\n",
        "##### Header 5\n",
        "###### Header 6\n",
        "\n",
        "\n"
      ]
    },
    {
      "cell_type": "markdown",
      "metadata": {
        "id": "EXCanO3R8H9t"
      },
      "source": [
        "-----\n",
        "## Emphasis\n",
        "\n",
        "\n",
        "\n",
        "\n",
        "```\n",
        "Emphasis, aka italics, with *asterisks* or _underscores_.\n",
        "\n",
        "Strong emphasis, aka bold, with **asterisks** or __underscores__.\n",
        "\n",
        "Combined emphasis with **asterisks and _underscores_**.\n",
        "\n",
        "Strikethrough uses a tilde. ~Scratch this.~\n",
        "```\n",
        "\n",
        "Emphasis, aka italics, with *asterisks* or _underscores_.\n",
        "\n",
        "Strong emphasis, aka bold, with **asterisks** or __underscores__.\n",
        "\n",
        "Combined emphasis with **asterisks and _underscores_**.\n",
        "\n",
        "Strikethrough uses a tilde. ~Scratch this.~\n",
        "\n",
        "---\n"
      ]
    },
    {
      "cell_type": "markdown",
      "metadata": {
        "id": "kn949qKhGxDw"
      },
      "source": [
        "## Lists\n"
      ]
    },
    {
      "cell_type": "markdown",
      "metadata": {
        "id": "iJC7EmmBGzRe"
      },
      "source": [
        "1. First ordered list item \n",
        "2. Another item\n",
        "  * Unordered sub-list. \n",
        "\n",
        "1. Actual numbers don't matter, just that it's a number\n",
        "  1. Ordered sub-list\n",
        "4. And another item.\n",
        "\n",
        "  You can have properly indented paragraphs within list items. Notice the blank line above, and the leading spaces (at least one, but we'll use three here to also align the raw Markdown).\n",
        "\n",
        "  To have a line break without a paragraph, you will need to use two trailing\n",
        "  spaces.    Note that this line is separate, but within the same paragraph.  (This is contrary to the typical GFM line break behaviour, where trailing paces are not required.)\n",
        "\n",
        "* Unordered list can use asterisks\n",
        "- Or minuses\n",
        "+ Or pluses"
      ]
    },
    {
      "cell_type": "markdown",
      "metadata": {
        "id": "v2f8IFfue1yP"
      },
      "source": [
        "---\n",
        "## Links\n",
        "Sometimes linking to another website is necesarry in situations where one needs to make a reference or point to a source of information. This is especially useful for tutorials and assignments.\n",
        "\n",
        "to make a link in Markdown use the following syntax\n",
        "\n",
        "~~~\n",
        "[text to click on](hhtps://someurl.com)\n",
        "~~~\n",
        "\n",
        "the square brackets and parentheses are NEEDED\n",
        "\n"
      ]
    },
    {
      "cell_type": "markdown",
      "metadata": {
        "id": "0UDxFyNMjgIn"
      },
      "source": [
        "[Link to a Great Markdown Reference](https://github.com/adam-p/markdown-here/wiki/Markdown-Cheatsheet#links)\n"
      ]
    },
    {
      "cell_type": "markdown",
      "metadata": {
        "id": "ezPe_YMH1gkf"
      },
      "source": [
        "Here are all the methods one can use to create links\n",
        "\n",
        "```\n",
        "[I'm an inline-style link](https://www.google.com)\n",
        "\n",
        "[I'm an inline-style link with title](https://www.google.com \"Google's Homepage\")\n",
        "```\n",
        "\n",
        "[I'm an inline-style link](https://www.google.com)\n",
        "\n",
        "[I'm an inline-style link with title](https://www.google.com \"Google's Homepage\")\n",
        "\n",
        "\n",
        "---\n",
        "\n",
        "\n",
        "\n",
        "```\n",
        "[I'm a reference-style link][Arbitrary case-insensitive reference text]\n",
        "\n",
        "\n",
        "[You can use numbers for reference-style link definitions][1]\n",
        "\n",
        "Some text to show that the reference links can follow later.\n",
        "\n",
        "[arbitrary case-insensitive reference text]: https://www.mozilla.org\n",
        "[1]: http://slashdot.org\n",
        "\n",
        "```\n",
        "\n",
        "\n",
        "[I'm a reference-style link][Arbitrary case-insensitive reference text]\n",
        "\n",
        "\n",
        "[You can use numbers for reference-style link definitions][1]\n",
        "\n",
        "\n",
        "Some text to show that the reference links can follow later.\n",
        "\n",
        "[arbitrary case-insensitive reference text]: https://www.mozilla.org\n",
        "[1]: http://slashdot.org\n",
        "\n",
        "---\n",
        "\n",
        "```\n",
        "\n",
        "Or leave it empty and use the [link text itself].\n",
        "\n",
        "URLs and URLs in angle brackets will automatically get turned into links. \n",
        "http://www.example.com or <http://www.example.com> and sometimes \n",
        "example.com (but not on Github, for example).\n",
        "\n",
        "```\n",
        "\n",
        "---\n",
        "\n",
        "\n",
        "Or leave it empty and use the [link text itself].\n",
        "\n",
        "URLs and URLs in angle brackets will automatically get turned into links. \n",
        "http://www.example.com or <http://www.example.com> and sometimes \n",
        "example.com (but not on Github, for example).\n",
        "\n",
        "[link text itself]: http://www.reddit.com\n"
      ]
    },
    {
      "cell_type": "markdown",
      "metadata": {
        "id": "8m6HRBNzHICW"
      },
      "source": [
        "## Images"
      ]
    },
    {
      "cell_type": "markdown",
      "metadata": {
        "id": "DzV4x_k_HOY0"
      },
      "source": [
        " To produce images the syntax is `![alternative text](path/to/image \"Optional title\")`"
      ]
    },
    {
      "cell_type": "markdown",
      "metadata": {
        "id": "lAimbPBQbMng"
      },
      "source": [
        "Alternative text is some text that is showed in case the image cannot be found by the browser. It generally holds a brief description of what is suppose to be seen. "
      ]
    },
    {
      "cell_type": "markdown",
      "metadata": {
        "id": "jdS8NTrYHnK0"
      },
      "source": [
        "\n",
        "\n",
        "```\n",
        "Here's our logo (hover to see the title text):\n",
        "Inline-style: \n",
        "![alt text](https://github.com/adam-p/markdown-here/raw/master/src/common/images/icon48.png \"Logo Title Text 1\")\n",
        "\n",
        "Reference-style: \n",
        "![alt text][logo]\n",
        "\n",
        "[logo]: https://upload.wikimedia.org/wikipedia/commons/9/9a/Logo_UPRM.jpg \"UPRM LOGO\"\n",
        "```\n",
        "\n"
      ]
    },
    {
      "cell_type": "markdown",
      "metadata": {
        "id": "kTmY39_bHhDo"
      },
      "source": [
        "Here's our logo (hover to see the title text):\n",
        "\n",
        "Inline-style: \n",
        "![alt text](https://github.com/adam-p/markdown-here/raw/master/src/common/images/icon48.png \"Logo Title Text 1\")\n",
        "\n",
        "Reference-style: \n",
        "![alt text][logo]\n",
        "\n",
        "[logo]: https://upload.wikimedia.org/wikipedia/commons/9/9a/Logo_UPRM.jpg \"UPRM LOGO\""
      ]
    },
    {
      "cell_type": "markdown",
      "metadata": {
        "id": "w1swI3spi36M"
      },
      "source": [
        "\n",
        " In Colab it is easiest to produce a url to the image. Images you upload to the notebook have to be accessed via python code like below\n"
      ]
    },
    {
      "cell_type": "code",
      "execution_count": null,
      "metadata": {
        "colab": {
          "base_uri": "https://localhost:8080/",
          "height": 93,
          "resources": {
            "http://localhost:8080/nbextensions/google.colab/files.js": {
              "data": "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",
              "headers": [
                [
                  "content-type",
                  "application/javascript"
                ]
              ],
              "ok": true,
              "status": 200,
              "status_text": ""
            }
          }
        },
        "id": "pscJdNB6oSuY",
        "outputId": "f4248948-2afb-45cc-b72b-bd06a6c8dbc1",
        "vscode": {
          "languageId": "python"
        }
      },
      "outputs": [
        {
          "data": {
            "text/html": [
              "\n",
              "     <input type=\"file\" id=\"files-c5c8a854-429b-4a70-ac65-c2fd6f0cb343\" name=\"files[]\" multiple disabled />\n",
              "     <output id=\"result-c5c8a854-429b-4a70-ac65-c2fd6f0cb343\">\n",
              "      Upload widget is only available when the cell has been executed in the\n",
              "      current browser session. Please rerun this cell to enable.\n",
              "      </output>\n",
              "      <script src=\"/nbextensions/google.colab/files.js\"></script> "
            ],
            "text/plain": [
              "<IPython.core.display.HTML object>"
            ]
          },
          "metadata": {
            "tags": []
          },
          "output_type": "display_data"
        },
        {
          "name": "stdout",
          "output_type": "stream",
          "text": [
            "Saving get_runs_eos.PNG to get_runs_eos.PNG\n",
            "User uploaded file \"get_runs_eos.PNG\" with length 25589 bytes\n"
          ]
        }
      ],
      "source": [
        "from google.colab import files\n",
        "\n",
        "uploaded = files.upload()\n",
        "\n",
        "for fn in uploaded.keys():\n",
        "  print('User uploaded file \"{name}\" with length {length} bytes'.format(\n",
        "      name=fn, length=len(uploaded[fn])))\n",
        "  \n",
        "  "
      ]
    },
    {
      "cell_type": "markdown",
      "metadata": {
        "id": "-sogs1t6EHCx"
      },
      "source": [
        "Then you would have to specify the name of the images you would like to display **manually**\n",
        "\n",
        "Which in general is  NOT very friendly when you have many images. \n",
        "\n",
        "\n"
      ]
    },
    {
      "cell_type": "code",
      "execution_count": null,
      "metadata": {
        "id": "2aw0tNmQpOus",
        "vscode": {
          "languageId": "python"
        }
      },
      "outputs": [],
      "source": [
        "from IPython.display import Image, display\n",
        "# display(Image('get_runs_eos.PNG'))\n",
        "# display(Image('2.png'))"
      ]
    },
    {
      "cell_type": "markdown",
      "metadata": {
        "id": "wo9wb-4rS_7b"
      },
      "source": [
        "## Code and Syntax Highlighting\n"
      ]
    },
    {
      "cell_type": "markdown",
      "metadata": {
        "id": "cNW6winJY9Zz"
      },
      "source": [
        "There are two types of ways to include code or `monospace` text in Colab\n",
        "\n",
        "One is `inline code which displays all text as it is typed` in the same line as this sentence. There is also code block \n",
        "```\n",
        "which gives the code or text it's own space\n",
        "```"
      ]
    },
    {
      "cell_type": "markdown",
      "metadata": {
        "id": "EdalhpFhev7f"
      },
      "source": [
        "There is also Syntax Highlighting for : \n",
        "\n",
        "*  Python\n",
        "*  Ruby\n",
        "*  Shell\n",
        "*  C++\n",
        "-  JavaScript\n",
        "\n",
        "Most of the other languages **are not supported**.\n",
        "\n",
        "There are other flavours of Markdown that support many more languages!\n",
        "\n",
        "```python\n",
        "# This is a highlighted python code \n",
        "def is_even(x):\n",
        "  if x % 2 == 0:\n",
        "    print(\"{} is even\".format(x))\n",
        "```\n",
        "```\n",
        "# this is the same code without highlighting\n",
        "def is_even(x):\n",
        "  if x % 2 == 0:\n",
        "    print(\"{} is even\".format(x))\n",
        "```\n",
        "\n"
      ]
    },
    {
      "cell_type": "markdown",
      "metadata": {
        "id": "_p0MkVeJAW6i"
      },
      "source": [
        "## Tables\n",
        "Tables are a bit more demanding to code in this enviroment since we are usually used to making table in programs that are more \"what you see is what you get\" like Microsoft Office or Libre office \n"
      ]
    },
    {
      "cell_type": "markdown",
      "metadata": {
        "id": "Uv6PyxT-AZ8s"
      },
      "source": [
        "The code for this table is \n",
        "\n",
        "```\n",
        "| Tables   |      Are      |  Cool |\n",
        "|----------|:-------------:|------:|\n",
        "| col 1 is |  left-aligned |  1600 |\n",
        "| col 2 is |    centered   |    12 |\n",
        "| col 3 is | right-aligned |     1 |\n",
        "```\n",
        "\n"
      ]
    },
    {
      "cell_type": "markdown",
      "metadata": {
        "id": "eeZMsVWnHBob"
      },
      "source": [
        "\n",
        "\n",
        "| Tables   |      Are      |  Cool |\n",
        "|----------|:-------------:|------:|\n",
        "| col 1 is |  left-aligned | 1600 |\n",
        "| col 2 is |    centered   |   12 |\n",
        "| col 3 is | right-aligned |    1 |"
      ]
    },
    {
      "cell_type": "markdown",
      "metadata": {
        "id": "bHkDZExTEO9b"
      },
      "source": [
        "This is a helpful link for generating tables in Markdown and in other languages if you have it already somewhere else\n",
        "[Table Generator link](https://www.tablesgenerator.com/markdown_tables)"
      ]
    },
    {
      "cell_type": "markdown",
      "metadata": {
        "id": "TJzaZpLrkFdP"
      },
      "source": [
        "## Block Quotes\n",
        "\n",
        "This can be usefull for when you want to quote some text from your students and leave comments, take for example:"
      ]
    },
    {
      "cell_type": "markdown",
      "metadata": {
        "id": "z8AvBlxbknYs"
      },
      "source": [
        "\n",
        "\n",
        "```\n",
        "> Blockquotes are very handy in email to emulate reply text.\n",
        "> This line is part of the same quote.\n",
        "\n",
        "Quote break.\n",
        "\n",
        "> This is a very long line that will still be quoted properly when it wraps. Oh boy let's keep writing to make sure this is long enough to actually wrap for everyone. Oh, you can *put* **Markdown** into a blockquote.\n",
        "\n",
        "```\n",
        "\n"
      ]
    },
    {
      "cell_type": "markdown",
      "metadata": {
        "id": "1q3P2gULkcJC"
      },
      "source": [
        "> Blockquotes are very handy in email to emulate reply text.\n",
        "> This line is part of the same quote.\n",
        "\n",
        "Quote break.\n",
        "\n",
        "> This is a very long line that will still be quoted properly when it wraps. Oh boy let's keep writing to make sure this is long enough to actually wrap for everyone. Oh, you can *put* **Markdown** into a blockquote.\n",
        "\n",
        "\n"
      ]
    },
    {
      "cell_type": "markdown",
      "source": [
        "## Horizontal Lines"
      ],
      "metadata": {
        "id": "fMI_5Os2Epfl"
      }
    },
    {
      "cell_type": "markdown",
      "metadata": {
        "id": "lTmTcYTqk7De"
      },
      "source": [
        "\n",
        "You can use these to sepearte parts of a document or for visual effect\n",
        "\n",
        "\n",
        "```\n",
        "\n",
        "---\n",
        "You can use 3 or more \n",
        "\n",
        "---\n",
        "\n",
        "Hyphens\n",
        "\n",
        "***\n",
        "\n",
        "Asterisks\n",
        "\n",
        "___\n",
        "\n",
        "Underscores\n",
        "```\n",
        "\n",
        "\n",
        "\n",
        "---\n",
        "You can use 3 or more \n",
        "\n",
        "---\n",
        "\n",
        "Hyphens\n",
        "\n",
        "***\n",
        "\n",
        "Asterisks\n",
        "\n",
        "___\n",
        "\n",
        "Underscores"
      ]
    },
    {
      "cell_type": "markdown",
      "metadata": {
        "id": "PQn5cK0S0JcL"
      },
      "source": [
        "# $\\LaTeX$\n"
      ]
    },
    {
      "cell_type": "markdown",
      "metadata": {
        "id": "yk9T5LsB0Tqd"
      },
      "source": [
        "LaTeX is a typesetting software that has been around for a long time and it is mostly used here for rendering math equations like below.\n",
        "\n",
        "\n",
        "\n",
        "```\n",
        "$$y=x^2$$\n",
        "```\n",
        "\n",
        "$$y=x^2$$\n",
        "\n",
        "```\n",
        "$$e^{i\\pi} + 1 = 0$$\n",
        "```\n",
        "\n",
        "\n",
        "$$e^{i\\pi} + 1 = 0$$\n",
        "\n",
        "```\n",
        "$$ \\vec{\\nabla} \\times \\vec{E}= -\\frac{\\partial \\vec{B}}{\\partial t}$$\n",
        "\n",
        "$$\\frac{n!}{k!(n-k)!} = {n \\choose k}$$\n",
        "\n",
        "$$A_{m,n} =\n",
        " \\begin{pmatrix}\n",
        "  a_{1,1} & a_{1,2} & \\cdots & a_{1,n} \\\\\n",
        "  a_{2,1} & a_{2,2} & \\cdots & a_{2,n} \\\\\n",
        "  \\vdots  & \\vdots  & \\ddots & \\vdots  \\\\\n",
        "  a_{m,1} & a_{m,2} & \\cdots & a_{m,n}\n",
        " \\end{pmatrix}$$\n",
        "```\n",
        "\n",
        "$$ \\vec{\\nabla} \\times \\vec{E}= -\\frac{\\partial \\vec{B}}{\\partial t}$$\n",
        "\n",
        "$$\\frac{n!}{k!(n-k)!} = {n \\choose k}$$\n",
        "\n",
        "$$A_{m,n} =\n",
        " \\begin{pmatrix}\n",
        "  a_{1,1} & a_{1,2} & \\cdots & a_{1,n} \\\\\n",
        "  a_{2,1} & a_{2,2} & \\cdots & a_{2,n} \\\\\n",
        "  \\vdots  & \\vdots  & \\ddots & \\vdots  \\\\\n",
        "  a_{m,1} & a_{m,2} & \\cdots & a_{m,n}\n",
        " \\end{pmatrix}$$\n",
        "\n",
        "\\begin{align*}\n",
        "    \\left|\\int_{0}^{1}e^{-t^2}dx -S(f,\\rho)\\right|  & \\leq \\frac{M_2}{24n^2} \\leq \\epsilon \\\\\n",
        "    \\epsilon& \\geq \\frac{M_2}{24n^2} \\\\\n",
        "    n^2& \\geq \\frac{M_2}{24 \\epsilon} \\\\\n",
        "    n& \\geq \\sqrt{\\frac{M_2}{24 \\epsilon}}\n",
        "\\end{align*}\n"
      ]
    },
    {
      "cell_type": "markdown",
      "metadata": {
        "id": "r2cXpMJi6W8S"
      },
      "source": [
        "## Two ways to use math\n"
      ]
    },
    {
      "cell_type": "markdown",
      "metadata": {
        "id": "eI8v57M16rGP"
      },
      "source": [
        "### Inline Math"
      ]
    },
    {
      "cell_type": "markdown",
      "metadata": {
        "id": "48a42Jgt6ukN"
      },
      "source": [
        "Sometimes you just want to refer to an equation like  $ \\phi(x)=\\int_0^x e^{-t^2} dt $ in the same line!\n",
        "\n",
        "this is done by using the `$` on both sides of the expression\n",
        "\n",
        "```\n",
        "Sometimes you just want to refer to an equation like  $ \\phi(x)=\\int_0^x e^{-t^2} dt $ in the same line!\n",
        "```"
      ]
    },
    {
      "cell_type": "markdown",
      "metadata": {
        "id": "AKvYKxCT8JAc"
      },
      "source": [
        "### Block Math"
      ]
    },
    {
      "cell_type": "markdown",
      "metadata": {
        "id": "bOZgWhMB8NEb"
      },
      "source": [
        "But other times you really want to grab the attention to a very important equation like \n",
        "$$   V(r) = \\frac{1}{4\\pi \\epsilon_0}\\int \\;  \\frac{dq}{r} $$ This is done by using `$$` on both sides of the expression\n",
        "\n",
        "```\n",
        "But other times you really want to grab the attention to a very important equation like\n",
        " $$   V(r) = \\frac{1}{4\\pi \\epsilon_0}\\int \\;  \\frac{dq}{r} $$ This is done by using `$$` on both sides of the expression\n",
        "\n",
        "```"
      ]
    }
  ],
  "metadata": {
    "colab": {
      "collapsed_sections": [
        "kn949qKhGxDw",
        "v2f8IFfue1yP",
        "wo9wb-4rS_7b",
        "kJDZWhueeSa6"
      ],
      "name": "Introduction to Markdown and Python.ipynb",
      "provenance": [],
      "toc_visible": true,
      "include_colab_link": true
    },
    "kernelspec": {
      "display_name": "Python 3",
      "name": "python3"
    }
  },
  "nbformat": 4,
  "nbformat_minor": 0
}