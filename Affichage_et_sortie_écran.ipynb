{
  "cells": [
    {
      "cell_type": "markdown",
      "metadata": {
        "id": "view-in-github",
        "colab_type": "text"
      },
      "source": [
        "<a href=\"https://colab.research.google.com/github/Yahia-M/Fondamentaux-Python/blob/DS_01/Affichage_et_sortie_%C3%A9cran.ipynb\" target=\"_parent\"><img src=\"https://colab.research.google.com/assets/colab-badge.svg\" alt=\"Open In Colab\"/></a>"
      ]
    },
    {
      "cell_type": "markdown",
      "metadata": {
        "id": "fNPJ73Qmk6_0"
      },
      "source": [
        "# Affichage et sortie écran (print)\n",
        "\n",
        "Dans cette section nous allons brièvement voir les différentes façons de présenter les sorties écran ou plus simplement l'affichage.\n",
        "\n",
        "Comme vous avancer dans la pratique de la programmation, vous allez sans doute être à la recherche d'avoir des sorties pour afficher le contenu de variables, numériques entre autres.\n",
        "\n",
        "L'exemple le plus simple de sortie \"print\" est le suivant :"
      ]
    },
    {
      "cell_type": "code",
      "execution_count": null,
      "metadata": {
        "id": "nLbJHpYXk6_3",
        "outputId": "409b2302-6248-40bb-ae9a-8b52cbd2ccee"
      },
      "outputs": [
        {
          "name": "stdout",
          "output_type": "stream",
          "text": [
            "Ceci est une chaine de caractères\n"
          ]
        }
      ],
      "source": [
        "print('Ceci est une chaine de caractères')"
      ]
    },
    {
      "cell_type": "markdown",
      "metadata": {
        "id": "uQgAflQrk6_5"
      },
      "source": [
        "## Les chaines de caractères (strings)\n",
        "Vous pouvez utiliser la directive %s pour formatter les chaines à l'intérieur d'une commande de sortie (print).\n",
        "\n",
        "Notez que l'ont peut utiliser double ou simple guillemets pour assigner une chaine. Le double guillemet permet d'utiliser le simple à l'intérieur de la chaine sans générer d'erreur."
      ]
    },
    {
      "cell_type": "code",
      "execution_count": null,
      "metadata": {
        "id": "HRClMqBrk6_7",
        "outputId": "094a4cbe-003e-4c1f-9a10-733a1c7f088b"
      },
      "outputs": [
        {
          "name": "stdout",
          "output_type": "stream",
          "text": [
            "Insérer une chaine à partir d'une variable: CHAINE\n"
          ]
        }
      ],
      "source": [
        "c = 'CHAINE'\n",
        "print (\"Insérer une chaine à partir d'une variable: %s\" %(c))"
      ]
    },
    {
      "cell_type": "markdown",
      "metadata": {
        "id": "zuoXbi7ak6_8"
      },
      "source": [
        "## Nombres réels, virgule flottante (floating Point)\n",
        "\n",
        "Les nombres de type float utilisent le format %n1.n2f pour lequel n1 représente le nombre minimum de chiffres à représenter (substitués par des espaces si le nombre est plus petit) et n2 représente le nombre de chiffres à afficher après la virgule.\n",
        "\n",
        "Voyons quelques exemples :"
      ]
    },
    {
      "cell_type": "code",
      "execution_count": null,
      "metadata": {
        "id": "K9ey7Hiek6_9",
        "outputId": "6c549706-c3b5-4fb3-c0b2-52c19b965689"
      },
      "outputs": [
        {
          "name": "stdout",
          "output_type": "stream",
          "text": [
            "Nombre à virgule flottante : 13.14\n"
          ]
        }
      ],
      "source": [
        "print('Nombre à virgule flottante : %1.2f' %(13.144))"
      ]
    },
    {
      "cell_type": "code",
      "execution_count": null,
      "metadata": {
        "id": "rxp5Yxckk6_9",
        "outputId": "a86ebbad-3940-446a-cd8f-20067ded4d97"
      },
      "outputs": [
        {
          "name": "stdout",
          "output_type": "stream",
          "text": [
            "Nombre à virgule flottante : 13\n"
          ]
        }
      ],
      "source": [
        "print('Nombre à virgule flottante : %1.0f' %(13.144))"
      ]
    },
    {
      "cell_type": "code",
      "execution_count": null,
      "metadata": {
        "id": "9j1C6MIWk6_-",
        "outputId": "e9e43771-0b03-48cd-b845-285397317708"
      },
      "outputs": [
        {
          "name": "stdout",
          "output_type": "stream",
          "text": [
            "Nombre à virgule flottante : 13.14400\n"
          ]
        }
      ],
      "source": [
        "print('Nombre à virgule flottante : %1.5f' %(13.144))"
      ]
    },
    {
      "cell_type": "code",
      "execution_count": null,
      "metadata": {
        "id": "dxUuwR-6k6__",
        "outputId": "a76f4b57-db44-47a3-f9be-6882512de8eb"
      },
      "outputs": [
        {
          "name": "stdout",
          "output_type": "stream",
          "text": [
            "Nombre à virgule flottante :      13.14\n"
          ]
        }
      ],
      "source": [
        "print('Nombre à virgule flottante : %10.2f' %(13.144))"
      ]
    },
    {
      "cell_type": "code",
      "execution_count": null,
      "metadata": {
        "id": "qeNW4ymSk7AA",
        "outputId": "fa5886df-fbf7-403d-8b9a-66f22831fbb8"
      },
      "outputs": [
        {
          "name": "stdout",
          "output_type": "stream",
          "text": [
            "Nombre à virgule flottante :                     13.14\n"
          ]
        }
      ],
      "source": [
        "print('Nombre à virgule flottante : %25.2f' %(13.144))"
      ]
    },
    {
      "cell_type": "markdown",
      "metadata": {
        "id": "E1AXeP1Mk7AB"
      },
      "source": [
        "## Conversion de format\n",
        "\n",
        "Il faut noter que les deux méthodes %s et %r convertiront tout objet Python en chaine de caractères (string) en utilisant chacune une métode différente : str() et repr() respectivement.\n",
        "\n",
        "Nous en verrons plus à propos de ces fonctions par la suite, mais vous pourrez noter que vous pouvez passer à peu près n'importe quel objet à ses méthodes et qu'elles s'en accomoderont :"
      ]
    },
    {
      "cell_type": "code",
      "execution_count": null,
      "metadata": {
        "id": "Kk8ducFZk7AC",
        "outputId": "40c44213-2ce0-40bb-cd20-721d0369e846"
      },
      "outputs": [
        {
          "name": "stdout",
          "output_type": "stream",
          "text": [
            "Voici un nombre : 123.1. Voici une chaine : hi\n"
          ]
        }
      ],
      "source": [
        "print('Voici un nombre : %s. Voici une chaine : %s' %(123.1,'hi'))"
      ]
    },
    {
      "cell_type": "code",
      "execution_count": null,
      "metadata": {
        "id": "Fe9aWrltk7AD",
        "outputId": "e6c8da61-e16e-4a3a-80e6-7be1074293e3"
      },
      "outputs": [
        {
          "name": "stdout",
          "output_type": "stream",
          "text": [
            "Voici un nombre : 123.1. Voici une chaine : 'hi'\n"
          ]
        }
      ],
      "source": [
        "print('Voici un nombre : %r. Voici une chaine : %r' %(123.1,'hi'))"
      ]
    },
    {
      "cell_type": "markdown",
      "metadata": {
        "id": "5WAeXmSUk7AE"
      },
      "source": [
        "## Formats multiples\n",
        "Il est possible de transmettre plusieurs formats dans le même print.\n"
      ]
    },
    {
      "cell_type": "code",
      "execution_count": null,
      "metadata": {
        "id": "rRX91bT3k7AE",
        "outputId": "45a0b528-26ed-4140-b396-3e24a6dc28ac"
      },
      "outputs": [
        {
          "name": "stdout",
          "output_type": "stream",
          "text": [
            "Premier : hi!, Deuxième : 3.14, Troisième : 22\n"
          ]
        }
      ],
      "source": [
        "print('Premier : %s, Deuxième : %1.2f, Troisième : %r' %('bonjour !',3.14,22))"
      ]
    },
    {
      "cell_type": "markdown",
      "metadata": {
        "id": "M_GB2Ggck7AF"
      },
      "source": [
        "# Utilisation de la méthode string .format()\n",
        "\n",
        "La façon la plus efficace de présenter des objets dans les chaines de caractères de sortie de print est d'utiliser la méthode format.\n",
        "\n",
        "Voici la syntaxe :\n",
        "\n",
        "    'Ici une chaine {var1} puis aussi {var2}'.format(var1='quelquechose',var2='autrechose')\n",
        "    \n",
        "Voyons quelques exemples :"
      ]
    },
    {
      "cell_type": "code",
      "execution_count": null,
      "metadata": {
        "id": "orHAMnu8k7AF",
        "outputId": "c86fcab3-c65c-4348-8acf-08e1a590164f"
      },
      "outputs": [
        {
          "name": "stdout",
          "output_type": "stream",
          "text": [
            "Voici une chaine avec un élement inséré\n"
          ]
        }
      ],
      "source": [
        "print ('Voici une chaine avec un élement {p}'.format(p='inséré'))"
      ]
    },
    {
      "cell_type": "code",
      "execution_count": null,
      "metadata": {
        "id": "PWXXGjKUk7AG",
        "outputId": "9c37664b-50a7-41f2-8754-200bdf907cca"
      },
      "outputs": [
        {
          "name": "stdout",
          "output_type": "stream",
          "text": [
            "Un: Salut !, Deux: Salut !, Trois: Salut !\n"
          ]
        }
      ],
      "source": [
        "# Plusieurs fois\n",
        "print ('Un: {p}, Deux: {p}, Trois: {p}'.format(p='Salut !'))"
      ]
    },
    {
      "cell_type": "code",
      "execution_count": null,
      "metadata": {
        "id": "FHPmk79Jk7AG",
        "outputId": "4ffbfedb-2019-4e40-a7fb-4ba40faf82e3"
      },
      "outputs": [
        {
          "name": "stdout",
          "output_type": "stream",
          "text": [
            "Objet 1: 1, Objet 2: deux, Objet 3: 12.3\n"
          ]
        }
      ],
      "source": [
        "# Plusieus objets\n",
        "print ('Objet 1: {a}, Objet 2: {b}, Objet 3: {c}'.format(a=1,b='deux',c=12.3))"
      ]
    },
    {
      "cell_type": "markdown",
      "metadata": {
        "id": "c9ZtX8XWk7AG"
      },
      "source": [
        "Voici les bases du formattage et de la présentation de chaines de caractères !"
      ]
    }
  ],
  "metadata": {
    "anaconda-cloud": {},
    "kernelspec": {
      "display_name": "Python [default]",
      "language": "python",
      "name": "python3"
    },
    "language_info": {
      "codemirror_mode": {
        "name": "ipython",
        "version": 3
      },
      "file_extension": ".py",
      "mimetype": "text/x-python",
      "name": "python",
      "nbconvert_exporter": "python",
      "pygments_lexer": "ipython3",
      "version": "3.5.2"
    },
    "colab": {
      "provenance": [],
      "include_colab_link": true
    }
  },
  "nbformat": 4,
  "nbformat_minor": 0
}