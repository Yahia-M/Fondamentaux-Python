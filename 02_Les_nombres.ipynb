{
  "cells": [
    {
      "cell_type": "markdown",
      "metadata": {
        "id": "view-in-github",
        "colab_type": "text"
      },
      "source": [
        "<a href=\"https://colab.research.google.com/github/Yahia-M/Fondamentaux-Python/blob/DS_01/02_Les_nombres.ipynb\" target=\"_parent\"><img src=\"https://colab.research.google.com/assets/colab-badge.svg\" alt=\"Open In Colab\"/></a>"
      ]
    },
    {
      "cell_type": "markdown",
      "metadata": {
        "id": "xZkWt9qclmhX"
      },
      "source": [
        "# Les nombres et plus avec Python!\n",
        "\n",
        "Dans cette section, vous allez tout apprendre à propos des nombres et comment les utiliser avec Python.\n",
        "\n",
        "Voici les sujets que nous allons couvrir :\n",
        "\n",
        "    1.) Les types de nombres avec Python\n",
        "    2.) Arithmetique de base\n",
        "    3.) Différences entre Python 2 et 3 pour la division\n",
        "    4.) Assignation d'objets dans Python"
      ]
    },
    {
      "cell_type": "markdown",
      "metadata": {
        "id": "pm92hWiJlmhb"
      },
      "source": [
        "## Les types de nombres\n",
        "\n",
        "Python a plusieurs \"types\" de nombres (littéraux numériques). Nous allons nous occuper principalement des entiers (integers) et des nombres à virgule flottante (floating point).\n",
        "\n",
        "Le type integer représente des nombres entiers, positifs or negatifs. Par exemple: 2 et -2 sont des integers.\n",
        "\n",
        "Le type floating point de Python est facile à identifier parce que les nombres sont représentés avec un point décimal (Attention, c'est bien un point et non pas une virgule comme habituellement en calligraphie française), ou alors avec le signe exponentiels (e) pour représenter les puissances de 10. Par exemple, 2.0 et -2.1 sont des nombres de type floating point. 4E2 ( 4 fois 10 à la puissance 2) est aussi un nombre de type floating point en Python.\n",
        "\n",
        "La plupart des nombres que nous utiliserons dans le cours seront de type integer ou floating point.\n",
        "\n",
        "Voici un tableau des deux types avec lesquels nous passerons le plus de temps dans les exemples :\n",
        "\n",
        "<table border = “1“>\n",
        "<caption>Numbers in Python</caption> \n",
        "<tr>\n",
        "    <th>Exemples</th> <th>\"Type\"</th>\n",
        "</tr>\n",
        "<td>1,2,-5,1000</td> <td>Integers</td> \n",
        "<tr>\n",
        "</tr>\n",
        "<td>1.2,-0.5,2e2,3E2</td> <td>Floating-point numbers</td> \n",
        "<tr>\n",
        "</tr>\n",
        " </table>\n",
        " \n",
        "Maintenant, quelques exercices d'arythmétique simples."
      ]
    },
    {
      "cell_type": "markdown",
      "metadata": {
        "id": "5MBsUj-Flmhc"
      },
      "source": [
        "### Arithmétique de base"
      ]
    },
    {
      "cell_type": "code",
      "execution_count": null,
      "metadata": {
        "id": "5PkImq1slmhd",
        "outputId": "16daaaf6-bbec-407b-fc5e-8f66e56ed62e"
      },
      "outputs": [
        {
          "data": {
            "text/plain": [
              "3"
            ]
          },
          "execution_count": 1,
          "metadata": {},
          "output_type": "execute_result"
        }
      ],
      "source": [
        "# Addition\n",
        "2+1"
      ]
    },
    {
      "cell_type": "code",
      "execution_count": null,
      "metadata": {
        "id": "P-K445rVlmhe",
        "outputId": "1bf30572-0e04-4ef4-d27e-25a1b5e1c615"
      },
      "outputs": [
        {
          "data": {
            "text/plain": [
              "1"
            ]
          },
          "execution_count": 2,
          "metadata": {},
          "output_type": "execute_result"
        }
      ],
      "source": [
        "# Soustraction\n",
        "2-1"
      ]
    },
    {
      "cell_type": "code",
      "execution_count": null,
      "metadata": {
        "id": "TTv4hB-blmhf",
        "outputId": "e3d4d72c-56f7-40e1-b5a2-d43c58e917c1"
      },
      "outputs": [
        {
          "data": {
            "text/plain": [
              "4"
            ]
          },
          "execution_count": 3,
          "metadata": {},
          "output_type": "execute_result"
        }
      ],
      "source": [
        "# Multiplication\n",
        "2*2"
      ]
    },
    {
      "cell_type": "code",
      "execution_count": null,
      "metadata": {
        "id": "rtbxGbn5lmhf",
        "outputId": "9b6b9e00-272b-4624-8e2c-988919a97008"
      },
      "outputs": [
        {
          "data": {
            "text/plain": [
              "1.5"
            ]
          },
          "execution_count": 1,
          "metadata": {},
          "output_type": "execute_result"
        }
      ],
      "source": [
        "# Division\n",
        "3/2"
      ]
    },
    {
      "cell_type": "markdown",
      "metadata": {
        "id": "mUsbf2_Hlmhg"
      },
      "source": [
        "### Arithmétique, suite..."
      ]
    },
    {
      "cell_type": "code",
      "execution_count": null,
      "metadata": {
        "id": "QlJWlxfXlmhg",
        "outputId": "b204f3ad-a823-4d89-c582-5455c5aa1e86"
      },
      "outputs": [
        {
          "data": {
            "text/plain": [
              "8"
            ]
          },
          "execution_count": 16,
          "metadata": {},
          "output_type": "execute_result"
        }
      ],
      "source": [
        "# Puissances\n",
        "2**3"
      ]
    },
    {
      "cell_type": "code",
      "execution_count": null,
      "metadata": {
        "id": "hHhHc4ZJlmhi",
        "outputId": "7a5becc0-43c8-403f-a2c9-9c6e93e160e5"
      },
      "outputs": [
        {
          "data": {
            "text/plain": [
              "2.0"
            ]
          },
          "execution_count": 17,
          "metadata": {},
          "output_type": "execute_result"
        }
      ],
      "source": [
        "# Nous pouvons calculer les racines de la même manière\n",
        "4**0.5"
      ]
    },
    {
      "cell_type": "code",
      "execution_count": null,
      "metadata": {
        "id": "GkAALuWTlmhi",
        "outputId": "e1b760d4-89b8-4fbf-b85d-c15e7ee4f3de"
      },
      "outputs": [
        {
          "data": {
            "text/plain": [
              "105"
            ]
          },
          "execution_count": 18,
          "metadata": {},
          "output_type": "execute_result"
        }
      ],
      "source": [
        "# Voici l'ordre de priorité des opérations en Python\n",
        "2 + 10 * 10 + 3"
      ]
    },
    {
      "cell_type": "code",
      "execution_count": null,
      "metadata": {
        "id": "XTepvUImlmhi",
        "outputId": "f167a694-a230-49ca-9228-3b8b98b52e49"
      },
      "outputs": [
        {
          "data": {
            "text/plain": [
              "156"
            ]
          },
          "execution_count": 19,
          "metadata": {},
          "output_type": "execute_result"
        }
      ],
      "source": [
        "# Avec des parenthèse nous pouvons garder le contrôle de ces priorités\n",
        "(2+10) * (10+3)"
      ]
    },
    {
      "cell_type": "markdown",
      "metadata": {
        "id": "T-uH49uhlmhj"
      },
      "source": [
        "## Assignation de variables\n",
        "\n",
        "Maintenant que nous savons comment utiliser les nombre en mode calculette avec Python, nous pouvons créer des variables et leur assigner des valeurs.\n",
        "\n",
        "Il suffit d'un simple signe égal = pour assigner un nom à une variable. Voyons quelques exemples pour détailler la façon de faire."
      ]
    },
    {
      "cell_type": "code",
      "execution_count": null,
      "metadata": {
        "collapsed": true,
        "id": "h9SS2x7olmhj"
      },
      "outputs": [],
      "source": [
        "# Créons un objet nommé \"a\" et nous lui assignons la valeur 5\n",
        "a = 5"
      ]
    },
    {
      "cell_type": "markdown",
      "metadata": {
        "id": "d6t2eWCklmhk"
      },
      "source": [
        "Maintenant, je peux appeler *a* dans un script Python qui le traitera comme le nombre 5"
      ]
    },
    {
      "cell_type": "code",
      "execution_count": null,
      "metadata": {
        "id": "Q9ZFI8halmhk",
        "outputId": "3aabf257-1405-4b49-d932-24c82f5cf033"
      },
      "outputs": [
        {
          "data": {
            "text/plain": [
              "10"
            ]
          },
          "execution_count": 38,
          "metadata": {},
          "output_type": "execute_result"
        }
      ],
      "source": [
        "# additionner des objets\n",
        "a+a"
      ]
    },
    {
      "cell_type": "markdown",
      "metadata": {
        "id": "5feQ2qvMlmhk"
      },
      "source": [
        "Que se passe-t-il si on assigne à nouveau la même variable ?\n",
        "Est-ce que Python nous laisse écraser la valeur déjà stockée ?"
      ]
    },
    {
      "cell_type": "code",
      "execution_count": null,
      "metadata": {
        "collapsed": true,
        "id": "nW3LOPrLlmhl"
      },
      "outputs": [],
      "source": [
        "# Ré-assignation\n",
        "a = 10"
      ]
    },
    {
      "cell_type": "code",
      "execution_count": null,
      "metadata": {
        "id": "5Sm_5xL6lmhl",
        "outputId": "908854f8-5b4c-471e-c6e6-a943c26f82ad"
      },
      "outputs": [
        {
          "data": {
            "text/plain": [
              "10"
            ]
          },
          "execution_count": 40,
          "metadata": {},
          "output_type": "execute_result"
        }
      ],
      "source": [
        "# Vérification\n",
        "a"
      ]
    },
    {
      "cell_type": "markdown",
      "metadata": {
        "id": "mR__NHLulmhl"
      },
      "source": [
        "Oui !\n",
        "Python nous autorise à écraser les valeurs d'une variable dont le nom a déjà été assigné. Nous pouvons même utiliser les variables mêmes pour faire la nouvelle assignation.\n",
        "Par exemple :"
      ]
    },
    {
      "cell_type": "code",
      "execution_count": null,
      "metadata": {
        "id": "W48wHGDIlmhl",
        "outputId": "814ed966-75ca-4e55-bc03-08bdce4e90a6"
      },
      "outputs": [
        {
          "data": {
            "text/plain": [
              "10"
            ]
          },
          "execution_count": 41,
          "metadata": {},
          "output_type": "execute_result"
        }
      ],
      "source": [
        "# Vérification\n",
        "a"
      ]
    },
    {
      "cell_type": "code",
      "execution_count": null,
      "metadata": {
        "collapsed": true,
        "id": "V2gAAAwqlmhm"
      },
      "outputs": [],
      "source": [
        "# Nous utilisons a pour assigner a de nouveau\n",
        "a = a + a"
      ]
    },
    {
      "cell_type": "code",
      "execution_count": null,
      "metadata": {
        "id": "2-ZtaGoklmhm",
        "outputId": "9d93f015-397d-4c96-fa9d-6df540cd418e"
      },
      "outputs": [
        {
          "data": {
            "text/plain": [
              "20"
            ]
          },
          "execution_count": 43,
          "metadata": {},
          "output_type": "execute_result"
        }
      ],
      "source": [
        "# Vérification \n",
        "a"
      ]
    },
    {
      "cell_type": "markdown",
      "metadata": {
        "id": "G179HcEJlmhn"
      },
      "source": [
        "Il y a quelques règles à respecter pour créer un nom de variable :\n",
        "    1. Les noms ne doivent pas commencer par un nombre.\n",
        "    2. Pas d'espace dans les noms, utilisez _ à la place\n",
        "    3. Interdit d'utiliser les symboles suivants : '\",<>/?|\\()!@#$%^&*~-+\n",
        "    4. C'est une bonne pratique (PEP8) de mettre les noms en minuscules\n",
        "    \n",
        "Les noms de variables permettent de conserver et manipuler plusieurs valeurs de façon simple avec Python.\n",
        "Par exemple : "
      ]
    },
    {
      "cell_type": "code",
      "execution_count": null,
      "metadata": {
        "collapsed": true,
        "id": "HLSnLKSLlmhn"
      },
      "outputs": [],
      "source": [
        "# Utilisez des noms explicites pour mieux suivre ce que fait votre code !\n",
        "mon_salaire = 100\n",
        "\n",
        "taux_taxe = 0.1\n",
        "\n",
        "mes_taxes = mon_salaire*taux_taxe"
      ]
    },
    {
      "cell_type": "code",
      "execution_count": null,
      "metadata": {
        "id": "MhFVTXFSlmhn",
        "outputId": "1359f814-8e3d-493c-cdf1-552bf3f25c87"
      },
      "outputs": [
        {
          "data": {
            "text/plain": [
              "10.0"
            ]
          },
          "execution_count": 46,
          "metadata": {},
          "output_type": "execute_result"
        }
      ],
      "source": [
        "# Visualiser les taxes !\n",
        "mes_taxes"
      ]
    },
    {
      "cell_type": "markdown",
      "metadata": {
        "id": "r5vcqKDYlmhn"
      },
      "source": [
        "Nous venons de voir quelques uns des types de nombres basiques de Python. Nous avons également appris à réaliser quelques calculs arithmétiques de base en utilisant la calculette Python. Nous avons finalement vu comment créer des variables pour utiliser plus facilement ces objets numériques.\n",
        "\n",
        "Dans la prochaine leçon nous allons découvrir les chaines de caractères !"
      ]
    },
    {
      "cell_type": "code",
      "execution_count": null,
      "metadata": {
        "collapsed": true,
        "id": "cTffv6whlmhn"
      },
      "outputs": [],
      "source": []
    }
  ],
  "metadata": {
    "anaconda-cloud": {},
    "kernelspec": {
      "display_name": "Python [default]",
      "language": "python",
      "name": "python3"
    },
    "language_info": {
      "codemirror_mode": {
        "name": "ipython",
        "version": 3
      },
      "file_extension": ".py",
      "mimetype": "text/x-python",
      "name": "python",
      "nbconvert_exporter": "python",
      "pygments_lexer": "ipython3",
      "version": "3.5.2"
    },
    "colab": {
      "provenance": [],
      "include_colab_link": true
    }
  },
  "nbformat": 4,
  "nbformat_minor": 0
}