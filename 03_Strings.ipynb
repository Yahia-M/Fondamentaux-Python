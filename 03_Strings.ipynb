{
  "cells": [
    {
      "cell_type": "markdown",
      "metadata": {
        "id": "view-in-github",
        "colab_type": "text"
      },
      "source": [
        "<a href=\"https://colab.research.google.com/github/Yahia-M/Fondamentaux-Python/blob/DS_01/03_Strings.ipynb\" target=\"_parent\"><img src=\"https://colab.research.google.com/assets/colab-badge.svg\" alt=\"Open In Colab\"/></a>"
      ]
    },
    {
      "cell_type": "markdown",
      "metadata": {
        "id": "1D494Da5Wg6v"
      },
      "source": [
        "<h1>String Operations in Python</h1>"
      ]
    },
    {
      "cell_type": "markdown",
      "metadata": {
        "id": "vudw21ptWg6z"
      },
      "source": [
        "<p><strong>Welcome!</strong> This notebook will teach you about the string Operations in the Python Programming Language. </p>"
      ]
    },
    {
      "cell_type": "markdown",
      "metadata": {
        "id": "mr8zemunWg6z"
      },
      "source": [
        "<h2>Table of Contents</h2>\n",
        "<div class=\"alert alert-block alert-info\" style=\"margin-top: 20px\">\n",
        "      <ul>\n",
        "            <li>Comparison Operators on strings</li>\n",
        "            <li>String Operations</li>\n",
        "            </ul>\n",
        "      <p> Estimated time needed: <strong>20 min</strong> </p>\n",
        "    </div>\n",
        "<hr>"
      ]
    },
    {
      "cell_type": "markdown",
      "metadata": {
        "id": "YBJP7CEtWg61"
      },
      "source": [
        "<h2>Comparison Operators on strings</h2>"
      ]
    },
    {
      "cell_type": "markdown",
      "metadata": {
        "id": "rQC4TI6ZWg62"
      },
      "source": [
        " We can apply the comparison opertaors on strings. For example, use an equality operator on two different strings. As the strings are not equal, we get a **False**."
      ]
    },
    {
      "cell_type": "code",
      "execution_count": null,
      "metadata": {
        "id": "YnvxjyFBWg62",
        "outputId": "5c791249-f885-4e71-91b9-6ba4edc0cacc"
      },
      "outputs": [
        {
          "data": {
            "text/plain": [
              "False"
            ]
          },
          "execution_count": 1,
          "metadata": {},
          "output_type": "execute_result"
        }
      ],
      "source": [
        "# Use Equality sign to compare the strings\n",
        "\n",
        "\"ACDC\" == \"Michael Jackson\""
      ]
    },
    {
      "cell_type": "markdown",
      "metadata": {
        "id": "5ekqo1dcWg62"
      },
      "source": [
        " If we use the inequality operator, the output is going to be **True** as the strings are not equal."
      ]
    },
    {
      "cell_type": "code",
      "execution_count": null,
      "metadata": {
        "id": "AmaligE-Wg63"
      },
      "outputs": [],
      "source": [
        "# Use Inequality sign to compare the strings\n",
        "\n",
        "\"ACDC\" != \"Michael Jackson\""
      ]
    },
    {
      "cell_type": "markdown",
      "metadata": {
        "id": "YXs-PInyWg63"
      },
      "source": [
        "Inequality operation is also used to compare the letters/words/symbols according to the ASCII value of letters. The decimal value shown in the following table represents the order of the character:\n"
      ]
    },
    {
      "cell_type": "markdown",
      "metadata": {
        "id": "KiTV6PAgWg64"
      },
      "source": [
        "For example, the ASCII code for <b>!</b> is 21, while the ASCII code for <b>+</b> is 43. Therefore <b>+</b> is larger than <b>!</b> as 43 is greater than 21."
      ]
    },
    {
      "cell_type": "markdown",
      "metadata": {
        "id": "5luOIj_kWg64"
      },
      "source": [
        "Similarly, the value for <b>A</b> is 101, and the value for <b>B</b> is 102 therefore:"
      ]
    },
    {
      "cell_type": "code",
      "execution_count": null,
      "metadata": {
        "id": "C1u-WlqCWg65"
      },
      "outputs": [],
      "source": [
        "# Compare characters\n",
        "\n",
        "'B' > 'A'"
      ]
    },
    {
      "cell_type": "markdown",
      "metadata": {
        "id": "oK0a1wnWWg66"
      },
      "source": [
        " When there are multiple letters, the first letter takes precedence in ordering:"
      ]
    },
    {
      "cell_type": "code",
      "execution_count": null,
      "metadata": {
        "id": "cTndmPhYWg66"
      },
      "outputs": [],
      "source": [
        "# Compare characters\n",
        "\n",
        "'BA' > 'AB'"
      ]
    },
    {
      "cell_type": "markdown",
      "metadata": {
        "id": "rwHpyYiYWg67"
      },
      "source": [
        "<b>Note</b>: Upper Case Letters have different ASCII code than Lower Case Letters, which means the comparison between the letters in python is case-sensitive."
      ]
    },
    {
      "cell_type": "markdown",
      "metadata": {
        "id": "uBBhs5FtWg67"
      },
      "source": [
        "<h2>String Operations in Python</h2>"
      ]
    },
    {
      "cell_type": "markdown",
      "metadata": {
        "id": "jE5XkrLxWg67"
      },
      "source": [
        "**Reading input user**\n",
        "\n",
        "Use input() function to read the information given by the user"
      ]
    },
    {
      "cell_type": "code",
      "execution_count": null,
      "metadata": {
        "id": "7MUY7QdNWg68"
      },
      "outputs": [],
      "source": [
        "name = input('Enter your name: ')"
      ]
    },
    {
      "cell_type": "code",
      "execution_count": null,
      "metadata": {
        "scrolled": true,
        "id": "qRqmSnRWWg68"
      },
      "outputs": [],
      "source": [
        "#Print the given name\n"
      ]
    },
    {
      "cell_type": "markdown",
      "metadata": {
        "id": "gP8aCMeDWg68"
      },
      "source": [
        "**String Concatenation**"
      ]
    },
    {
      "cell_type": "code",
      "execution_count": null,
      "metadata": {
        "id": "tfYtIc6uWg68"
      },
      "outputs": [],
      "source": [
        "# Concatenation\n",
        "str1 = \"Hello\"\n",
        "str2 = 'there'\n",
        "bob = str1 + str2\n",
        "print (bob)"
      ]
    },
    {
      "cell_type": "code",
      "execution_count": null,
      "metadata": {
        "id": "2urVFwHpWg69"
      },
      "outputs": [],
      "source": [
        "# Concatenation\n",
        "str3 = '123'\n",
        "str3 = str3 + 1"
      ]
    },
    {
      "cell_type": "code",
      "execution_count": null,
      "metadata": {
        "id": "bfY77egFWg69"
      },
      "outputs": [],
      "source": [
        "word=\"Hello world\""
      ]
    },
    {
      "cell_type": "markdown",
      "metadata": {
        "id": "8GMcHSvJWg69"
      },
      "source": [
        "**String properties**"
      ]
    },
    {
      "cell_type": "code",
      "execution_count": null,
      "metadata": {
        "id": "gy08ZkLCWg69"
      },
      "outputs": [],
      "source": [
        "#what's the first caracter of the word"
      ]
    },
    {
      "cell_type": "code",
      "execution_count": null,
      "metadata": {
        "id": "8lgUQECRWg69"
      },
      "outputs": [],
      "source": [
        "#what's the third caracter of the word"
      ]
    },
    {
      "cell_type": "code",
      "execution_count": null,
      "metadata": {
        "id": "zb28TEUFWg6-"
      },
      "outputs": [],
      "source": [
        "#what's the last caracter of the word"
      ]
    },
    {
      "cell_type": "code",
      "execution_count": null,
      "metadata": {
        "id": "tN0V_tAIWg6-"
      },
      "outputs": [],
      "source": [
        "#what's the length of the word"
      ]
    },
    {
      "cell_type": "code",
      "execution_count": null,
      "metadata": {
        "id": "6zHfpr6NWg6-"
      },
      "outputs": [],
      "source": [
        "#print each caracter of the word"
      ]
    },
    {
      "cell_type": "markdown",
      "metadata": {
        "id": "umel6cxnWg6-"
      },
      "source": [
        "**logical Operators**"
      ]
    },
    {
      "cell_type": "code",
      "execution_count": null,
      "metadata": {
        "id": "OilulwqMWg6-"
      },
      "outputs": [],
      "source": [
        "#test if the word contains the letter \"a\""
      ]
    },
    {
      "cell_type": "code",
      "execution_count": null,
      "metadata": {
        "id": "kH-a-PBGWg6_"
      },
      "outputs": [],
      "source": [
        "#test if the word contains the letter \"l\""
      ]
    },
    {
      "cell_type": "code",
      "execution_count": null,
      "metadata": {
        "id": "ub0PfONTWg6_"
      },
      "outputs": [],
      "source": [
        "#test if the word contains the string \"lo\""
      ]
    },
    {
      "cell_type": "markdown",
      "metadata": {
        "id": "jTYoF96WWg6_"
      },
      "source": [
        "**String Operations**"
      ]
    },
    {
      "cell_type": "code",
      "execution_count": null,
      "metadata": {
        "id": "BqHRD87eWg6_"
      },
      "outputs": [],
      "source": [
        "#test if the word starts with the letter \"h\""
      ]
    },
    {
      "cell_type": "code",
      "execution_count": null,
      "metadata": {
        "id": "JwYgVU-_Wg6_"
      },
      "outputs": [],
      "source": [
        "#test if the word ends with the letter \"d\""
      ]
    },
    {
      "cell_type": "code",
      "execution_count": null,
      "metadata": {
        "id": "MF5IvbKsWg7A"
      },
      "outputs": [],
      "source": [
        "#test if the word is upper case"
      ]
    },
    {
      "cell_type": "code",
      "execution_count": null,
      "metadata": {
        "id": "6gKcDRebWg7A"
      },
      "outputs": [],
      "source": [
        "#put the word in upper case"
      ]
    },
    {
      "cell_type": "code",
      "execution_count": null,
      "metadata": {
        "id": "rRlRphyzWg7A"
      },
      "outputs": [],
      "source": [
        "#find the position of string \"World\" in the word"
      ]
    }
  ],
  "metadata": {
    "kernelspec": {
      "display_name": "Python 3 (ipykernel)",
      "language": "python",
      "name": "python3"
    },
    "language_info": {
      "codemirror_mode": {
        "name": "ipython",
        "version": 3
      },
      "file_extension": ".py",
      "mimetype": "text/x-python",
      "name": "python",
      "nbconvert_exporter": "python",
      "pygments_lexer": "ipython3",
      "version": "3.11.0"
    },
    "colab": {
      "provenance": [],
      "include_colab_link": true
    }
  },
  "nbformat": 4,
  "nbformat_minor": 0
}